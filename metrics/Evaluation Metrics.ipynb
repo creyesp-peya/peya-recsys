{
 "cells": [
  {
   "cell_type": "markdown",
   "id": "5b55a6ca",
   "metadata": {},
   "source": [
    "## Evaluation Metrics\n"
   ]
  },
  {
   "cell_type": "markdown",
   "id": "25174465",
   "metadata": {},
   "source": [
    "In order to calculate the evaluation metrics quickly, we decided to do it in Bigquery."
   ]
  },
  {
   "cell_type": "code",
   "execution_count": 1,
   "id": "9f3a206a",
   "metadata": {},
   "outputs": [],
   "source": [
    "import pandas as pd\n",
    "import pandas_gbq"
   ]
  },
  {
   "cell_type": "code",
   "execution_count": 6,
   "id": "78675334",
   "metadata": {},
   "outputs": [],
   "source": [
    "def get_metrics(table_id, k, project_id, minimum_orders=2, maximum_orders=1000, is_most_popular=False, is_context_model=False):\n",
    "    \n",
    "    if is_most_popular:\n",
    "        comm1 = \"--\"\n",
    "        comm2 = \"\"\n",
    "    else:\n",
    "        comm1 = \"\"\n",
    "        comm2 = \"--\"\n",
    "        \n",
    "    if is_context_model:\n",
    "        comm3 = \"--\"\n",
    "        comm4 = \"\"\n",
    "    else:\n",
    "        comm3 = \"\"\n",
    "        comm4 = \"--\"   \n",
    "\n",
    "    query = f\"\"\"\n",
    "    \n",
    "    DECLARE minimum_products INT64;\n",
    "    DECLARE minimum_orders INT64;\n",
    "    DECLARE maximum_orders INT64;\n",
    "    DECLARE k INT64;\n",
    "\n",
    "    SET minimum_products = 5;\n",
    "    SET minimum_orders = {minimum_orders};\n",
    "    SET maximum_orders = {maximum_orders};\n",
    "    SET k = {k};\n",
    "\n",
    "    WITH products_by_user AS (\n",
    "        SELECT\n",
    "            uo.user_id\n",
    "          , COUNT(DISTINCT gtin) as cant_products\n",
    "          , COUNT(DISTINCT uo.order_id) as cant_orders\n",
    "          , MAX(uo.order_id) as last_order_id\n",
    "        FROM \n",
    "          `peya-food-and-groceries.user_fiorella_dirosario.order_sep2020_sep2021` as uo\n",
    "        JOIN \n",
    "          `peya-food-and-groceries.user_fiorella_dirosario.order_details_sep2020_sep2021` as od\n",
    "        ON \n",
    "          uo.order_id = od.order_id  \n",
    "        WHERE \n",
    "          uo.user_id IS NOT NULL\n",
    "          AND od.gtin IS NOT NULL\n",
    "          AND od.has_gtin = 1\n",
    "        GROUP BY 1\n",
    "    )\n",
    "\n",
    "    , test AS (\n",
    "    SELECT DISTINCT\n",
    "        CAST(uo.user_id AS STRING) AS user_id\n",
    "      , CAST(od.gtin AS STRING) AS product_id\n",
    "      --, uo.order_id\n",
    "      --, uo.timestamp\n",
    "    FROM \n",
    "      `peya-food-and-groceries.user_fiorella_dirosario.order_sep2020_sep2021` as uo\n",
    "    JOIN \n",
    "      `peya-food-and-groceries.user_fiorella_dirosario.order_details_sep2020_sep2021` as od\n",
    "    ON\n",
    "      uo.order_id = od.order_id\n",
    "    LEFT JOIN \n",
    "      products_by_user pbu \n",
    "    ON \n",
    "      pbu.user_id = uo.user_id\n",
    "    WHERE \n",
    "      uo.user_id IS NOT NULL\n",
    "      AND od.gtin IS NOT NULL\n",
    "      AND od.has_gtin = 1\n",
    "      AND cant_products >= minimum_products\n",
    "      AND cant_orders >= minimum_orders\n",
    "      AND cant_orders <= maximum_orders\n",
    "      AND uo.order_id = pbu.last_order_id \n",
    "    )\n",
    "\n",
    "    , predictions AS \n",
    "\n",
    "    (\n",
    "        {comm3}SELECT * FROM `{table_id}` WHERE rank < k\n",
    "        {comm4}SELECT CAST(user_id AS STRING) as user_id, gtin as product_id, rank FROM `{table_id}` WHERE rank < k\n",
    "    )\n",
    "\n",
    "\n",
    "    , cross_join AS (\n",
    "    SELECT\n",
    "    t.user_id\n",
    "    , p.rank\n",
    "    , p.product_id as product_predicted\n",
    "    , t.product_id  as product_test\n",
    "    , CASE WHEN t.product_id = p.product_id THEN 1 ELSE 0 END as hit_rate\n",
    "    , CASE WHEN t.product_id = p.product_id THEN 1 / (p.rank + 1) ELSE 0 END as map_at_k\n",
    "    FROM test t \n",
    "    {comm1}LEFT JOIN predictions p ON p.user_id = t.user_id\n",
    "    {comm2}CROSS JOIN predictions p\n",
    "    WHERE p.rank < k\n",
    "    ORDER BY 1, 4, 2\n",
    "    )\n",
    "\n",
    "    , metric_by_user AS (\n",
    "    SELECT\n",
    "    user_id\n",
    "    , SUM(hit_rate) as hit_rate\n",
    "    , SUM(map_at_k) as map_at_k\n",
    "    FROM cross_join \n",
    "    GROUP BY 1\n",
    "\n",
    "    )\n",
    "\n",
    "    SELECT\n",
    "    COUNT(DISTINCT user_id) as users\n",
    "    , AVG(hit_rate) as hit\n",
    "    , AVG(map_at_k) as precision\n",
    "    FROM metric_by_user\n",
    "    \n",
    "    \"\"\"\n",
    "    \n",
    "    df = pandas_gbq.read_gbq(query, project_id=project_id, dialect='standard')\n",
    "\n",
    "    return df\n"
   ]
  },
  {
   "cell_type": "markdown",
   "id": "2ac0d8e7",
   "metadata": {},
   "source": [
    "### Random Predictions"
   ]
  },
  {
   "cell_type": "code",
   "execution_count": 5,
   "id": "6fef6bcb",
   "metadata": {},
   "outputs": [
    {
     "name": "stderr",
     "output_type": "stream",
     "text": [
      "Downloading: 100%|██████████| 1/1 [00:00<00:00,  2.55rows/s]\n"
     ]
    },
    {
     "data": {
      "text/html": [
       "<div>\n",
       "<style scoped>\n",
       "    .dataframe tbody tr th:only-of-type {\n",
       "        vertical-align: middle;\n",
       "    }\n",
       "\n",
       "    .dataframe tbody tr th {\n",
       "        vertical-align: top;\n",
       "    }\n",
       "\n",
       "    .dataframe thead th {\n",
       "        text-align: right;\n",
       "    }\n",
       "</style>\n",
       "<table border=\"1\" class=\"dataframe\">\n",
       "  <thead>\n",
       "    <tr style=\"text-align: right;\">\n",
       "      <th></th>\n",
       "      <th>hit</th>\n",
       "      <th>precision</th>\n",
       "    </tr>\n",
       "  </thead>\n",
       "  <tbody>\n",
       "    <tr>\n",
       "      <th>0</th>\n",
       "      <td>0.000875</td>\n",
       "      <td>0.000395</td>\n",
       "    </tr>\n",
       "  </tbody>\n",
       "</table>\n",
       "</div>"
      ],
      "text/plain": [
       "        hit  precision\n",
       "0  0.000875   0.000395"
      ]
     },
     "execution_count": 5,
     "metadata": {},
     "output_type": "execute_result"
    }
   ],
   "source": [
    "get_metrics(table_id='peya-growth-and-onboarding.user_patricio_woodley.user_recommendation_random', k=5, project_id='peya-growth-and-onboarding', is_most_popular=False)"
   ]
  },
  {
   "cell_type": "code",
   "execution_count": 15,
   "id": "eddb9531",
   "metadata": {},
   "outputs": [
    {
     "name": "stderr",
     "output_type": "stream",
     "text": [
      "Downloading: 100%|██████████| 1/1 [00:00<00:00,  2.44rows/s]\n"
     ]
    },
    {
     "data": {
      "text/html": [
       "<div>\n",
       "<style scoped>\n",
       "    .dataframe tbody tr th:only-of-type {\n",
       "        vertical-align: middle;\n",
       "    }\n",
       "\n",
       "    .dataframe tbody tr th {\n",
       "        vertical-align: top;\n",
       "    }\n",
       "\n",
       "    .dataframe thead th {\n",
       "        text-align: right;\n",
       "    }\n",
       "</style>\n",
       "<table border=\"1\" class=\"dataframe\">\n",
       "  <thead>\n",
       "    <tr style=\"text-align: right;\">\n",
       "      <th></th>\n",
       "      <th>hit</th>\n",
       "      <th>precision</th>\n",
       "    </tr>\n",
       "  </thead>\n",
       "  <tbody>\n",
       "    <tr>\n",
       "      <th>0</th>\n",
       "      <td>0.001854</td>\n",
       "      <td>0.000521</td>\n",
       "    </tr>\n",
       "  </tbody>\n",
       "</table>\n",
       "</div>"
      ],
      "text/plain": [
       "        hit  precision\n",
       "0  0.001854   0.000521"
      ]
     },
     "execution_count": 15,
     "metadata": {},
     "output_type": "execute_result"
    }
   ],
   "source": [
    "get_metrics(table_id='peya-growth-and-onboarding.user_patricio_woodley.user_recommendation_random', k=10, project_id='peya-growth-and-onboarding', is_most_popular=False)"
   ]
  },
  {
   "cell_type": "markdown",
   "id": "3ffa8585",
   "metadata": {},
   "source": [
    "### k-popular Products"
   ]
  },
  {
   "cell_type": "code",
   "execution_count": 13,
   "id": "79a2c1b9",
   "metadata": {},
   "outputs": [
    {
     "name": "stderr",
     "output_type": "stream",
     "text": [
      "Downloading: 100%|██████████| 1/1 [00:00<00:00,  2.92rows/s]\n"
     ]
    },
    {
     "data": {
      "text/html": [
       "<div>\n",
       "<style scoped>\n",
       "    .dataframe tbody tr th:only-of-type {\n",
       "        vertical-align: middle;\n",
       "    }\n",
       "\n",
       "    .dataframe tbody tr th {\n",
       "        vertical-align: top;\n",
       "    }\n",
       "\n",
       "    .dataframe thead th {\n",
       "        text-align: right;\n",
       "    }\n",
       "</style>\n",
       "<table border=\"1\" class=\"dataframe\">\n",
       "  <thead>\n",
       "    <tr style=\"text-align: right;\">\n",
       "      <th></th>\n",
       "      <th>hit</th>\n",
       "      <th>precision</th>\n",
       "    </tr>\n",
       "  </thead>\n",
       "  <tbody>\n",
       "    <tr>\n",
       "      <th>0</th>\n",
       "      <td>0.083081</td>\n",
       "      <td>0.045322</td>\n",
       "    </tr>\n",
       "  </tbody>\n",
       "</table>\n",
       "</div>"
      ],
      "text/plain": [
       "        hit  precision\n",
       "0  0.083081   0.045322"
      ]
     },
     "execution_count": 13,
     "metadata": {},
     "output_type": "execute_result"
    }
   ],
   "source": [
    "get_metrics(table_id='peya-food-and-groceries.user_fiorella_dirosario.popular_products_train', k=5, project_id='peya-growth-and-onboarding', is_most_popular=True)"
   ]
  },
  {
   "cell_type": "code",
   "execution_count": 14,
   "id": "f36d8151",
   "metadata": {},
   "outputs": [
    {
     "name": "stderr",
     "output_type": "stream",
     "text": [
      "Downloading: 100%|██████████| 1/1 [00:00<00:00,  2.83rows/s]\n"
     ]
    },
    {
     "data": {
      "text/html": [
       "<div>\n",
       "<style scoped>\n",
       "    .dataframe tbody tr th:only-of-type {\n",
       "        vertical-align: middle;\n",
       "    }\n",
       "\n",
       "    .dataframe tbody tr th {\n",
       "        vertical-align: top;\n",
       "    }\n",
       "\n",
       "    .dataframe thead th {\n",
       "        text-align: right;\n",
       "    }\n",
       "</style>\n",
       "<table border=\"1\" class=\"dataframe\">\n",
       "  <thead>\n",
       "    <tr style=\"text-align: right;\">\n",
       "      <th></th>\n",
       "      <th>hit</th>\n",
       "      <th>precision</th>\n",
       "    </tr>\n",
       "  </thead>\n",
       "  <tbody>\n",
       "    <tr>\n",
       "      <th>0</th>\n",
       "      <td>0.136766</td>\n",
       "      <td>0.052362</td>\n",
       "    </tr>\n",
       "  </tbody>\n",
       "</table>\n",
       "</div>"
      ],
      "text/plain": [
       "        hit  precision\n",
       "0  0.136766   0.052362"
      ]
     },
     "execution_count": 14,
     "metadata": {},
     "output_type": "execute_result"
    }
   ],
   "source": [
    "get_metrics(table_id='peya-food-and-groceries.user_fiorella_dirosario.popular_products_train', k=10, project_id='peya-growth-and-onboarding', is_most_popular=True)"
   ]
  },
  {
   "cell_type": "code",
   "execution_count": 29,
   "id": "302281f9",
   "metadata": {},
   "outputs": [
    {
     "name": "stderr",
     "output_type": "stream",
     "text": [
      "Downloading: 100%|██████████| 1/1 [00:00<00:00,  2.52rows/s]\n"
     ]
    },
    {
     "data": {
      "text/html": [
       "<div>\n",
       "<style scoped>\n",
       "    .dataframe tbody tr th:only-of-type {\n",
       "        vertical-align: middle;\n",
       "    }\n",
       "\n",
       "    .dataframe tbody tr th {\n",
       "        vertical-align: top;\n",
       "    }\n",
       "\n",
       "    .dataframe thead th {\n",
       "        text-align: right;\n",
       "    }\n",
       "</style>\n",
       "<table border=\"1\" class=\"dataframe\">\n",
       "  <thead>\n",
       "    <tr style=\"text-align: right;\">\n",
       "      <th></th>\n",
       "      <th>hit</th>\n",
       "      <th>precision</th>\n",
       "    </tr>\n",
       "  </thead>\n",
       "  <tbody>\n",
       "    <tr>\n",
       "      <th>0</th>\n",
       "      <td>0.465319</td>\n",
       "      <td>0.066248</td>\n",
       "    </tr>\n",
       "  </tbody>\n",
       "</table>\n",
       "</div>"
      ],
      "text/plain": [
       "        hit  precision\n",
       "0  0.465319   0.066248"
      ]
     },
     "execution_count": 29,
     "metadata": {},
     "output_type": "execute_result"
    }
   ],
   "source": [
    "get_metrics(table_id='peya-food-and-groceries.user_fiorella_dirosario.popular_products_train', k=50, project_id='peya-growth-and-onboarding', is_most_popular=True)"
   ]
  },
  {
   "cell_type": "code",
   "execution_count": 30,
   "id": "5dc15da5",
   "metadata": {},
   "outputs": [
    {
     "name": "stderr",
     "output_type": "stream",
     "text": [
      "Downloading: 100%|██████████| 1/1 [00:00<00:00,  2.44rows/s]\n"
     ]
    },
    {
     "data": {
      "text/html": [
       "<div>\n",
       "<style scoped>\n",
       "    .dataframe tbody tr th:only-of-type {\n",
       "        vertical-align: middle;\n",
       "    }\n",
       "\n",
       "    .dataframe tbody tr th {\n",
       "        vertical-align: top;\n",
       "    }\n",
       "\n",
       "    .dataframe thead th {\n",
       "        text-align: right;\n",
       "    }\n",
       "</style>\n",
       "<table border=\"1\" class=\"dataframe\">\n",
       "  <thead>\n",
       "    <tr style=\"text-align: right;\">\n",
       "      <th></th>\n",
       "      <th>hit</th>\n",
       "      <th>precision</th>\n",
       "    </tr>\n",
       "  </thead>\n",
       "  <tbody>\n",
       "    <tr>\n",
       "      <th>0</th>\n",
       "      <td>0.724531</td>\n",
       "      <td>0.069911</td>\n",
       "    </tr>\n",
       "  </tbody>\n",
       "</table>\n",
       "</div>"
      ],
      "text/plain": [
       "        hit  precision\n",
       "0  0.724531   0.069911"
      ]
     },
     "execution_count": 30,
     "metadata": {},
     "output_type": "execute_result"
    }
   ],
   "source": [
    "get_metrics(table_id='peya-food-and-groceries.user_fiorella_dirosario.popular_products_train', k=100, project_id='peya-growth-and-onboarding', is_most_popular=True)"
   ]
  },
  {
   "cell_type": "code",
   "execution_count": 17,
   "id": "8dd77e22",
   "metadata": {},
   "outputs": [
    {
     "name": "stderr",
     "output_type": "stream",
     "text": [
      "Downloading: 100%|██████████| 1/1 [00:00<00:00,  2.67rows/s]\n"
     ]
    },
    {
     "data": {
      "text/html": [
       "<div>\n",
       "<style scoped>\n",
       "    .dataframe tbody tr th:only-of-type {\n",
       "        vertical-align: middle;\n",
       "    }\n",
       "\n",
       "    .dataframe tbody tr th {\n",
       "        vertical-align: top;\n",
       "    }\n",
       "\n",
       "    .dataframe thead th {\n",
       "        text-align: right;\n",
       "    }\n",
       "</style>\n",
       "<table border=\"1\" class=\"dataframe\">\n",
       "  <thead>\n",
       "    <tr style=\"text-align: right;\">\n",
       "      <th></th>\n",
       "      <th>users</th>\n",
       "      <th>hit</th>\n",
       "      <th>precision</th>\n",
       "    </tr>\n",
       "  </thead>\n",
       "  <tbody>\n",
       "    <tr>\n",
       "      <th>0</th>\n",
       "      <td>228927</td>\n",
       "      <td>0.128325</td>\n",
       "      <td>0.051607</td>\n",
       "    </tr>\n",
       "  </tbody>\n",
       "</table>\n",
       "</div>"
      ],
      "text/plain": [
       "    users       hit  precision\n",
       "0  228927  0.128325   0.051607"
      ]
     },
     "execution_count": 17,
     "metadata": {},
     "output_type": "execute_result"
    }
   ],
   "source": [
    "get_metrics(table_id='peya-food-and-groceries.user_fiorella_dirosario.popular_products_train', minimum_orders=2, maximum_orders=5, k=10, project_id='peya-growth-and-onboarding', is_most_popular=True)"
   ]
  },
  {
   "cell_type": "code",
   "execution_count": 18,
   "id": "2d5b68ff",
   "metadata": {},
   "outputs": [
    {
     "name": "stderr",
     "output_type": "stream",
     "text": [
      "Downloading: 100%|██████████| 1/1 [00:00<00:00,  2.81rows/s]\n"
     ]
    },
    {
     "data": {
      "text/html": [
       "<div>\n",
       "<style scoped>\n",
       "    .dataframe tbody tr th:only-of-type {\n",
       "        vertical-align: middle;\n",
       "    }\n",
       "\n",
       "    .dataframe tbody tr th {\n",
       "        vertical-align: top;\n",
       "    }\n",
       "\n",
       "    .dataframe thead th {\n",
       "        text-align: right;\n",
       "    }\n",
       "</style>\n",
       "<table border=\"1\" class=\"dataframe\">\n",
       "  <thead>\n",
       "    <tr style=\"text-align: right;\">\n",
       "      <th></th>\n",
       "      <th>users</th>\n",
       "      <th>hit</th>\n",
       "      <th>precision</th>\n",
       "    </tr>\n",
       "  </thead>\n",
       "  <tbody>\n",
       "    <tr>\n",
       "      <th>0</th>\n",
       "      <td>60176</td>\n",
       "      <td>0.142249</td>\n",
       "      <td>0.052337</td>\n",
       "    </tr>\n",
       "  </tbody>\n",
       "</table>\n",
       "</div>"
      ],
      "text/plain": [
       "   users       hit  precision\n",
       "0  60176  0.142249   0.052337"
      ]
     },
     "execution_count": 18,
     "metadata": {},
     "output_type": "execute_result"
    }
   ],
   "source": [
    "get_metrics(table_id='peya-food-and-groceries.user_fiorella_dirosario.popular_products_train', minimum_orders=6, maximum_orders=10, k=10, project_id='peya-growth-and-onboarding', is_most_popular=True)"
   ]
  },
  {
   "cell_type": "code",
   "execution_count": 19,
   "id": "0d215d61",
   "metadata": {},
   "outputs": [
    {
     "name": "stderr",
     "output_type": "stream",
     "text": [
      "Downloading: 100%|██████████| 1/1 [00:00<00:00,  2.64rows/s]\n"
     ]
    },
    {
     "data": {
      "text/html": [
       "<div>\n",
       "<style scoped>\n",
       "    .dataframe tbody tr th:only-of-type {\n",
       "        vertical-align: middle;\n",
       "    }\n",
       "\n",
       "    .dataframe tbody tr th {\n",
       "        vertical-align: top;\n",
       "    }\n",
       "\n",
       "    .dataframe thead th {\n",
       "        text-align: right;\n",
       "    }\n",
       "</style>\n",
       "<table border=\"1\" class=\"dataframe\">\n",
       "  <thead>\n",
       "    <tr style=\"text-align: right;\">\n",
       "      <th></th>\n",
       "      <th>users</th>\n",
       "      <th>hit</th>\n",
       "      <th>precision</th>\n",
       "    </tr>\n",
       "  </thead>\n",
       "  <tbody>\n",
       "    <tr>\n",
       "      <th>0</th>\n",
       "      <td>67478</td>\n",
       "      <td>0.160512</td>\n",
       "      <td>0.054946</td>\n",
       "    </tr>\n",
       "  </tbody>\n",
       "</table>\n",
       "</div>"
      ],
      "text/plain": [
       "   users       hit  precision\n",
       "0  67478  0.160512   0.054946"
      ]
     },
     "execution_count": 19,
     "metadata": {},
     "output_type": "execute_result"
    }
   ],
   "source": [
    "get_metrics(table_id='peya-food-and-groceries.user_fiorella_dirosario.popular_products_train', minimum_orders=11, maximum_orders=10000, k=10, project_id='peya-growth-and-onboarding', is_most_popular=True)"
   ]
  },
  {
   "cell_type": "markdown",
   "id": "60d33aa8",
   "metadata": {},
   "source": [
    "### Baseline Model"
   ]
  },
  {
   "cell_type": "code",
   "execution_count": 16,
   "id": "12b5a6c1",
   "metadata": {},
   "outputs": [
    {
     "name": "stderr",
     "output_type": "stream",
     "text": [
      "Downloading: 100%|██████████| 1/1 [00:00<00:00,  2.47rows/s]\n"
     ]
    },
    {
     "data": {
      "text/html": [
       "<div>\n",
       "<style scoped>\n",
       "    .dataframe tbody tr th:only-of-type {\n",
       "        vertical-align: middle;\n",
       "    }\n",
       "\n",
       "    .dataframe tbody tr th {\n",
       "        vertical-align: top;\n",
       "    }\n",
       "\n",
       "    .dataframe thead th {\n",
       "        text-align: right;\n",
       "    }\n",
       "</style>\n",
       "<table border=\"1\" class=\"dataframe\">\n",
       "  <thead>\n",
       "    <tr style=\"text-align: right;\">\n",
       "      <th></th>\n",
       "      <th>hit</th>\n",
       "      <th>precision</th>\n",
       "    </tr>\n",
       "  </thead>\n",
       "  <tbody>\n",
       "    <tr>\n",
       "      <th>0</th>\n",
       "      <td>0.11113</td>\n",
       "      <td>0.058682</td>\n",
       "    </tr>\n",
       "  </tbody>\n",
       "</table>\n",
       "</div>"
      ],
      "text/plain": [
       "       hit  precision\n",
       "0  0.11113   0.058682"
      ]
     },
     "execution_count": 16,
     "metadata": {},
     "output_type": "execute_result"
    }
   ],
   "source": [
    "get_metrics(table_id='peya-growth-and-onboarding.user_patricio_woodley.user_recommendation_baseline', k=5, project_id='peya-growth-and-onboarding', is_most_popular=False)"
   ]
  },
  {
   "cell_type": "code",
   "execution_count": 18,
   "id": "78010983",
   "metadata": {},
   "outputs": [
    {
     "name": "stderr",
     "output_type": "stream",
     "text": [
      "Downloading: 100%|██████████| 1/1 [00:00<00:00,  2.38rows/s]\n"
     ]
    },
    {
     "data": {
      "text/html": [
       "<div>\n",
       "<style scoped>\n",
       "    .dataframe tbody tr th:only-of-type {\n",
       "        vertical-align: middle;\n",
       "    }\n",
       "\n",
       "    .dataframe tbody tr th {\n",
       "        vertical-align: top;\n",
       "    }\n",
       "\n",
       "    .dataframe thead th {\n",
       "        text-align: right;\n",
       "    }\n",
       "</style>\n",
       "<table border=\"1\" class=\"dataframe\">\n",
       "  <thead>\n",
       "    <tr style=\"text-align: right;\">\n",
       "      <th></th>\n",
       "      <th>hit</th>\n",
       "      <th>precision</th>\n",
       "    </tr>\n",
       "  </thead>\n",
       "  <tbody>\n",
       "    <tr>\n",
       "      <th>0</th>\n",
       "      <td>0.174757</td>\n",
       "      <td>0.067039</td>\n",
       "    </tr>\n",
       "  </tbody>\n",
       "</table>\n",
       "</div>"
      ],
      "text/plain": [
       "        hit  precision\n",
       "0  0.174757   0.067039"
      ]
     },
     "execution_count": 18,
     "metadata": {},
     "output_type": "execute_result"
    }
   ],
   "source": [
    "get_metrics(table_id='peya-growth-and-onboarding.user_patricio_woodley.user_recommendation_baseline', k=10, project_id='peya-growth-and-onboarding', is_most_popular=False)"
   ]
  },
  {
   "cell_type": "code",
   "execution_count": 14,
   "id": "96ef8632",
   "metadata": {},
   "outputs": [
    {
     "name": "stderr",
     "output_type": "stream",
     "text": [
      "Downloading: 100%|██████████| 1/1 [00:00<00:00,  2.91rows/s]\n"
     ]
    },
    {
     "data": {
      "text/html": [
       "<div>\n",
       "<style scoped>\n",
       "    .dataframe tbody tr th:only-of-type {\n",
       "        vertical-align: middle;\n",
       "    }\n",
       "\n",
       "    .dataframe tbody tr th {\n",
       "        vertical-align: top;\n",
       "    }\n",
       "\n",
       "    .dataframe thead th {\n",
       "        text-align: right;\n",
       "    }\n",
       "</style>\n",
       "<table border=\"1\" class=\"dataframe\">\n",
       "  <thead>\n",
       "    <tr style=\"text-align: right;\">\n",
       "      <th></th>\n",
       "      <th>users</th>\n",
       "      <th>hit</th>\n",
       "      <th>precision</th>\n",
       "    </tr>\n",
       "  </thead>\n",
       "  <tbody>\n",
       "    <tr>\n",
       "      <th>0</th>\n",
       "      <td>228927</td>\n",
       "      <td>0.189768</td>\n",
       "      <td>0.075524</td>\n",
       "    </tr>\n",
       "  </tbody>\n",
       "</table>\n",
       "</div>"
      ],
      "text/plain": [
       "    users       hit  precision\n",
       "0  228927  0.189768   0.075524"
      ]
     },
     "execution_count": 14,
     "metadata": {},
     "output_type": "execute_result"
    }
   ],
   "source": [
    "get_metrics(table_id='peya-growth-and-onboarding.user_patricio_woodley.user_recommendation_baseline', k=10, minimum_orders=2, maximum_orders=5, project_id='peya-growth-and-onboarding', is_most_popular=False)"
   ]
  },
  {
   "cell_type": "code",
   "execution_count": 15,
   "id": "949e6565",
   "metadata": {},
   "outputs": [
    {
     "name": "stderr",
     "output_type": "stream",
     "text": [
      "Downloading: 100%|██████████| 1/1 [00:00<00:00,  1.84rows/s]\n"
     ]
    },
    {
     "data": {
      "text/html": [
       "<div>\n",
       "<style scoped>\n",
       "    .dataframe tbody tr th:only-of-type {\n",
       "        vertical-align: middle;\n",
       "    }\n",
       "\n",
       "    .dataframe tbody tr th {\n",
       "        vertical-align: top;\n",
       "    }\n",
       "\n",
       "    .dataframe thead th {\n",
       "        text-align: right;\n",
       "    }\n",
       "</style>\n",
       "<table border=\"1\" class=\"dataframe\">\n",
       "  <thead>\n",
       "    <tr style=\"text-align: right;\">\n",
       "      <th></th>\n",
       "      <th>users</th>\n",
       "      <th>hit</th>\n",
       "      <th>precision</th>\n",
       "    </tr>\n",
       "  </thead>\n",
       "  <tbody>\n",
       "    <tr>\n",
       "      <th>0</th>\n",
       "      <td>60176</td>\n",
       "      <td>0.168223</td>\n",
       "      <td>0.059901</td>\n",
       "    </tr>\n",
       "  </tbody>\n",
       "</table>\n",
       "</div>"
      ],
      "text/plain": [
       "   users       hit  precision\n",
       "0  60176  0.168223   0.059901"
      ]
     },
     "execution_count": 15,
     "metadata": {},
     "output_type": "execute_result"
    }
   ],
   "source": [
    "get_metrics(table_id='peya-growth-and-onboarding.user_patricio_woodley.user_recommendation_baseline', k=10, minimum_orders=6, maximum_orders=10, project_id='peya-growth-and-onboarding', is_most_popular=False)"
   ]
  },
  {
   "cell_type": "code",
   "execution_count": 16,
   "id": "e94690e2",
   "metadata": {},
   "outputs": [
    {
     "name": "stderr",
     "output_type": "stream",
     "text": [
      "Downloading: 100%|██████████| 1/1 [00:00<00:00,  2.61rows/s]\n"
     ]
    },
    {
     "data": {
      "text/html": [
       "<div>\n",
       "<style scoped>\n",
       "    .dataframe tbody tr th:only-of-type {\n",
       "        vertical-align: middle;\n",
       "    }\n",
       "\n",
       "    .dataframe tbody tr th {\n",
       "        vertical-align: top;\n",
       "    }\n",
       "\n",
       "    .dataframe thead th {\n",
       "        text-align: right;\n",
       "    }\n",
       "</style>\n",
       "<table border=\"1\" class=\"dataframe\">\n",
       "  <thead>\n",
       "    <tr style=\"text-align: right;\">\n",
       "      <th></th>\n",
       "      <th>users</th>\n",
       "      <th>hit</th>\n",
       "      <th>precision</th>\n",
       "    </tr>\n",
       "  </thead>\n",
       "  <tbody>\n",
       "    <tr>\n",
       "      <th>0</th>\n",
       "      <td>67478</td>\n",
       "      <td>0.129657</td>\n",
       "      <td>0.044617</td>\n",
       "    </tr>\n",
       "  </tbody>\n",
       "</table>\n",
       "</div>"
      ],
      "text/plain": [
       "   users       hit  precision\n",
       "0  67478  0.129657   0.044617"
      ]
     },
     "execution_count": 16,
     "metadata": {},
     "output_type": "execute_result"
    }
   ],
   "source": [
    "get_metrics(table_id='peya-growth-and-onboarding.user_patricio_woodley.user_recommendation_baseline', k=10, minimum_orders=11, maximum_orders=10000, project_id='peya-growth-and-onboarding', is_most_popular=False)"
   ]
  },
  {
   "cell_type": "code",
   "execution_count": 14,
   "id": "6a885109",
   "metadata": {},
   "outputs": [
    {
     "name": "stderr",
     "output_type": "stream",
     "text": [
      "Downloading: 100%|██████████| 1/1 [00:00<00:00,  2.91rows/s]\n"
     ]
    },
    {
     "data": {
      "text/html": [
       "<div>\n",
       "<style scoped>\n",
       "    .dataframe tbody tr th:only-of-type {\n",
       "        vertical-align: middle;\n",
       "    }\n",
       "\n",
       "    .dataframe tbody tr th {\n",
       "        vertical-align: top;\n",
       "    }\n",
       "\n",
       "    .dataframe thead th {\n",
       "        text-align: right;\n",
       "    }\n",
       "</style>\n",
       "<table border=\"1\" class=\"dataframe\">\n",
       "  <thead>\n",
       "    <tr style=\"text-align: right;\">\n",
       "      <th></th>\n",
       "      <th>users</th>\n",
       "      <th>hit</th>\n",
       "      <th>precision</th>\n",
       "    </tr>\n",
       "  </thead>\n",
       "  <tbody>\n",
       "    <tr>\n",
       "      <th>0</th>\n",
       "      <td>228927</td>\n",
       "      <td>0.189768</td>\n",
       "      <td>0.075524</td>\n",
       "    </tr>\n",
       "  </tbody>\n",
       "</table>\n",
       "</div>"
      ],
      "text/plain": [
       "    users       hit  precision\n",
       "0  228927  0.189768   0.075524"
      ]
     },
     "execution_count": 14,
     "metadata": {},
     "output_type": "execute_result"
    }
   ],
   "source": [
    "get_metrics(table_id='peya-growth-and-onboarding.user_patricio_woodley.user_recommendation_baseline', k=10, minimum_orders=2, maximum_orders=5, project_id='peya-growth-and-onboarding', is_most_popular=False)"
   ]
  },
  {
   "cell_type": "code",
   "execution_count": 15,
   "id": "5e9928da",
   "metadata": {},
   "outputs": [
    {
     "name": "stderr",
     "output_type": "stream",
     "text": [
      "Downloading: 100%|██████████| 1/1 [00:00<00:00,  1.84rows/s]\n"
     ]
    },
    {
     "data": {
      "text/html": [
       "<div>\n",
       "<style scoped>\n",
       "    .dataframe tbody tr th:only-of-type {\n",
       "        vertical-align: middle;\n",
       "    }\n",
       "\n",
       "    .dataframe tbody tr th {\n",
       "        vertical-align: top;\n",
       "    }\n",
       "\n",
       "    .dataframe thead th {\n",
       "        text-align: right;\n",
       "    }\n",
       "</style>\n",
       "<table border=\"1\" class=\"dataframe\">\n",
       "  <thead>\n",
       "    <tr style=\"text-align: right;\">\n",
       "      <th></th>\n",
       "      <th>users</th>\n",
       "      <th>hit</th>\n",
       "      <th>precision</th>\n",
       "    </tr>\n",
       "  </thead>\n",
       "  <tbody>\n",
       "    <tr>\n",
       "      <th>0</th>\n",
       "      <td>60176</td>\n",
       "      <td>0.168223</td>\n",
       "      <td>0.059901</td>\n",
       "    </tr>\n",
       "  </tbody>\n",
       "</table>\n",
       "</div>"
      ],
      "text/plain": [
       "   users       hit  precision\n",
       "0  60176  0.168223   0.059901"
      ]
     },
     "execution_count": 15,
     "metadata": {},
     "output_type": "execute_result"
    }
   ],
   "source": [
    "get_metrics(table_id='peya-growth-and-onboarding.user_patricio_woodley.user_recommendation_baseline', k=10, minimum_orders=6, maximum_orders=10, project_id='peya-growth-and-onboarding', is_most_popular=False)"
   ]
  },
  {
   "cell_type": "code",
   "execution_count": 16,
   "id": "9d98949d",
   "metadata": {},
   "outputs": [
    {
     "name": "stderr",
     "output_type": "stream",
     "text": [
      "Downloading: 100%|██████████| 1/1 [00:00<00:00,  2.61rows/s]\n"
     ]
    },
    {
     "data": {
      "text/html": [
       "<div>\n",
       "<style scoped>\n",
       "    .dataframe tbody tr th:only-of-type {\n",
       "        vertical-align: middle;\n",
       "    }\n",
       "\n",
       "    .dataframe tbody tr th {\n",
       "        vertical-align: top;\n",
       "    }\n",
       "\n",
       "    .dataframe thead th {\n",
       "        text-align: right;\n",
       "    }\n",
       "</style>\n",
       "<table border=\"1\" class=\"dataframe\">\n",
       "  <thead>\n",
       "    <tr style=\"text-align: right;\">\n",
       "      <th></th>\n",
       "      <th>users</th>\n",
       "      <th>hit</th>\n",
       "      <th>precision</th>\n",
       "    </tr>\n",
       "  </thead>\n",
       "  <tbody>\n",
       "    <tr>\n",
       "      <th>0</th>\n",
       "      <td>67478</td>\n",
       "      <td>0.129657</td>\n",
       "      <td>0.044617</td>\n",
       "    </tr>\n",
       "  </tbody>\n",
       "</table>\n",
       "</div>"
      ],
      "text/plain": [
       "   users       hit  precision\n",
       "0  67478  0.129657   0.044617"
      ]
     },
     "execution_count": 16,
     "metadata": {},
     "output_type": "execute_result"
    }
   ],
   "source": [
    "get_metrics(table_id='peya-growth-and-onboarding.user_patricio_woodley.user_recommendation_baseline', k=10, minimum_orders=11, maximum_orders=10000, project_id='peya-growth-and-onboarding', is_most_popular=False)"
   ]
  },
  {
   "cell_type": "markdown",
   "id": "c7d2e9d2",
   "metadata": {},
   "source": [
    "### Context Model"
   ]
  },
  {
   "cell_type": "code",
   "execution_count": 23,
   "id": "c8ce9e2d",
   "metadata": {},
   "outputs": [
    {
     "name": "stderr",
     "output_type": "stream",
     "text": [
      "Downloading: 100%|██████████| 1/1 [00:00<00:00,  2.46rows/s]\n"
     ]
    },
    {
     "data": {
      "text/html": [
       "<div>\n",
       "<style scoped>\n",
       "    .dataframe tbody tr th:only-of-type {\n",
       "        vertical-align: middle;\n",
       "    }\n",
       "\n",
       "    .dataframe tbody tr th {\n",
       "        vertical-align: top;\n",
       "    }\n",
       "\n",
       "    .dataframe thead th {\n",
       "        text-align: right;\n",
       "    }\n",
       "</style>\n",
       "<table border=\"1\" class=\"dataframe\">\n",
       "  <thead>\n",
       "    <tr style=\"text-align: right;\">\n",
       "      <th></th>\n",
       "      <th>hit</th>\n",
       "      <th>precision</th>\n",
       "    </tr>\n",
       "  </thead>\n",
       "  <tbody>\n",
       "    <tr>\n",
       "      <th>0</th>\n",
       "      <td>0.038249</td>\n",
       "      <td>0.019447</td>\n",
       "    </tr>\n",
       "  </tbody>\n",
       "</table>\n",
       "</div>"
      ],
      "text/plain": [
       "        hit  precision\n",
       "0  0.038249   0.019447"
      ]
     },
     "execution_count": 23,
     "metadata": {},
     "output_type": "execute_result"
    }
   ],
   "source": [
    "get_metrics(table_id=\"peya-food-and-groceries.user_fiorella_dirosario.recommendation_context_model\", k=5, project_id='peya-growth-and-onboarding', is_context_model=True)"
   ]
  },
  {
   "cell_type": "code",
   "execution_count": 24,
   "id": "e5416732",
   "metadata": {},
   "outputs": [
    {
     "name": "stderr",
     "output_type": "stream",
     "text": [
      "Downloading: 100%|██████████| 1/1 [00:00<00:00,  2.09rows/s]\n"
     ]
    },
    {
     "data": {
      "text/html": [
       "<div>\n",
       "<style scoped>\n",
       "    .dataframe tbody tr th:only-of-type {\n",
       "        vertical-align: middle;\n",
       "    }\n",
       "\n",
       "    .dataframe tbody tr th {\n",
       "        vertical-align: top;\n",
       "    }\n",
       "\n",
       "    .dataframe thead th {\n",
       "        text-align: right;\n",
       "    }\n",
       "</style>\n",
       "<table border=\"1\" class=\"dataframe\">\n",
       "  <thead>\n",
       "    <tr style=\"text-align: right;\">\n",
       "      <th></th>\n",
       "      <th>hit</th>\n",
       "      <th>precision</th>\n",
       "    </tr>\n",
       "  </thead>\n",
       "  <tbody>\n",
       "    <tr>\n",
       "      <th>0</th>\n",
       "      <td>0.064157</td>\n",
       "      <td>0.022833</td>\n",
       "    </tr>\n",
       "  </tbody>\n",
       "</table>\n",
       "</div>"
      ],
      "text/plain": [
       "        hit  precision\n",
       "0  0.064157   0.022833"
      ]
     },
     "execution_count": 24,
     "metadata": {},
     "output_type": "execute_result"
    }
   ],
   "source": [
    "get_metrics(table_id=\"peya-food-and-groceries.user_fiorella_dirosario.recommendation_context_model\", k=10, project_id='peya-growth-and-onboarding', is_context_model=True)"
   ]
  },
  {
   "cell_type": "code",
   "execution_count": 11,
   "id": "d289b340",
   "metadata": {},
   "outputs": [
    {
     "name": "stderr",
     "output_type": "stream",
     "text": [
      "Downloading: 100%|██████████| 1/1 [00:00<00:00,  2.84rows/s]\n"
     ]
    },
    {
     "data": {
      "text/html": [
       "<div>\n",
       "<style scoped>\n",
       "    .dataframe tbody tr th:only-of-type {\n",
       "        vertical-align: middle;\n",
       "    }\n",
       "\n",
       "    .dataframe tbody tr th {\n",
       "        vertical-align: top;\n",
       "    }\n",
       "\n",
       "    .dataframe thead th {\n",
       "        text-align: right;\n",
       "    }\n",
       "</style>\n",
       "<table border=\"1\" class=\"dataframe\">\n",
       "  <thead>\n",
       "    <tr style=\"text-align: right;\">\n",
       "      <th></th>\n",
       "      <th>users</th>\n",
       "      <th>hit</th>\n",
       "      <th>precision</th>\n",
       "    </tr>\n",
       "  </thead>\n",
       "  <tbody>\n",
       "    <tr>\n",
       "      <th>0</th>\n",
       "      <td>228927</td>\n",
       "      <td>0.059412</td>\n",
       "      <td>0.021563</td>\n",
       "    </tr>\n",
       "  </tbody>\n",
       "</table>\n",
       "</div>"
      ],
      "text/plain": [
       "    users       hit  precision\n",
       "0  228927  0.059412   0.021563"
      ]
     },
     "execution_count": 11,
     "metadata": {},
     "output_type": "execute_result"
    }
   ],
   "source": [
    "get_metrics(table_id=\"peya-food-and-groceries.user_fiorella_dirosario.recommendation_context_model\", minimum_orders=2, maximum_orders=5, k=10, project_id='peya-growth-and-onboarding', is_context_model=True)"
   ]
  },
  {
   "cell_type": "code",
   "execution_count": 12,
   "id": "3c3f8d27",
   "metadata": {},
   "outputs": [
    {
     "name": "stderr",
     "output_type": "stream",
     "text": [
      "Downloading: 100%|██████████| 1/1 [00:00<00:00,  2.86rows/s]\n"
     ]
    },
    {
     "data": {
      "text/html": [
       "<div>\n",
       "<style scoped>\n",
       "    .dataframe tbody tr th:only-of-type {\n",
       "        vertical-align: middle;\n",
       "    }\n",
       "\n",
       "    .dataframe tbody tr th {\n",
       "        vertical-align: top;\n",
       "    }\n",
       "\n",
       "    .dataframe thead th {\n",
       "        text-align: right;\n",
       "    }\n",
       "</style>\n",
       "<table border=\"1\" class=\"dataframe\">\n",
       "  <thead>\n",
       "    <tr style=\"text-align: right;\">\n",
       "      <th></th>\n",
       "      <th>users</th>\n",
       "      <th>hit</th>\n",
       "      <th>precision</th>\n",
       "    </tr>\n",
       "  </thead>\n",
       "  <tbody>\n",
       "    <tr>\n",
       "      <th>0</th>\n",
       "      <td>60176</td>\n",
       "      <td>0.069114</td>\n",
       "      <td>0.023902</td>\n",
       "    </tr>\n",
       "  </tbody>\n",
       "</table>\n",
       "</div>"
      ],
      "text/plain": [
       "   users       hit  precision\n",
       "0  60176  0.069114   0.023902"
      ]
     },
     "execution_count": 12,
     "metadata": {},
     "output_type": "execute_result"
    }
   ],
   "source": [
    "get_metrics(table_id=\"peya-food-and-groceries.user_fiorella_dirosario.recommendation_context_model\", minimum_orders=6, maximum_orders=10, k=10, project_id='peya-growth-and-onboarding', is_context_model=True)"
   ]
  },
  {
   "cell_type": "code",
   "execution_count": 13,
   "id": "d6db8ed8",
   "metadata": {},
   "outputs": [
    {
     "name": "stderr",
     "output_type": "stream",
     "text": [
      "Downloading: 100%|██████████| 1/1 [00:00<00:00,  2.83rows/s]\n"
     ]
    },
    {
     "data": {
      "text/html": [
       "<div>\n",
       "<style scoped>\n",
       "    .dataframe tbody tr th:only-of-type {\n",
       "        vertical-align: middle;\n",
       "    }\n",
       "\n",
       "    .dataframe tbody tr th {\n",
       "        vertical-align: top;\n",
       "    }\n",
       "\n",
       "    .dataframe thead th {\n",
       "        text-align: right;\n",
       "    }\n",
       "</style>\n",
       "<table border=\"1\" class=\"dataframe\">\n",
       "  <thead>\n",
       "    <tr style=\"text-align: right;\">\n",
       "      <th></th>\n",
       "      <th>users</th>\n",
       "      <th>hit</th>\n",
       "      <th>precision</th>\n",
       "    </tr>\n",
       "  </thead>\n",
       "  <tbody>\n",
       "    <tr>\n",
       "      <th>0</th>\n",
       "      <td>67478</td>\n",
       "      <td>0.075832</td>\n",
       "      <td>0.026187</td>\n",
       "    </tr>\n",
       "  </tbody>\n",
       "</table>\n",
       "</div>"
      ],
      "text/plain": [
       "   users       hit  precision\n",
       "0  67478  0.075832   0.026187"
      ]
     },
     "execution_count": 13,
     "metadata": {},
     "output_type": "execute_result"
    }
   ],
   "source": [
    "get_metrics(table_id=\"peya-food-and-groceries.user_fiorella_dirosario.recommendation_context_model\", minimum_orders=11, maximum_orders=10000, k=10, project_id='peya-growth-and-onboarding', is_context_model=True)"
   ]
  }
 ],
 "metadata": {
  "kernelspec": {
   "display_name": "bigquery",
   "language": "python",
   "name": "bigquery"
  },
  "toc": {
   "base_numbering": 1,
   "nav_menu": {},
   "number_sections": true,
   "sideBar": true,
   "skip_h1_title": false,
   "title_cell": "Table of Contents",
   "title_sidebar": "Contents",
   "toc_cell": false,
   "toc_position": {},
   "toc_section_display": true,
   "toc_window_display": false
  },
  "varInspector": {
   "cols": {
    "lenName": 16,
    "lenType": 16,
    "lenVar": 40
   },
   "kernels_config": {
    "python": {
     "delete_cmd_postfix": "",
     "delete_cmd_prefix": "del ",
     "library": "var_list.py",
     "varRefreshCmd": "print(var_dic_list())"
    },
    "r": {
     "delete_cmd_postfix": ") ",
     "delete_cmd_prefix": "rm(",
     "library": "var_list.r",
     "varRefreshCmd": "cat(var_dic_list()) "
    }
   },
   "types_to_exclude": [
    "module",
    "function",
    "builtin_function_or_method",
    "instance",
    "_Feature"
   ],
   "window_display": false
  }
 },
 "nbformat": 4,
 "nbformat_minor": 5
}
