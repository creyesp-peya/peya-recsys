{
 "cells": [
  {
   "cell_type": "markdown",
   "id": "48fc47e5",
   "metadata": {},
   "source": [
    "## Age Distribution"
   ]
  },
  {
   "cell_type": "markdown",
   "id": "30ba02fa",
   "metadata": {},
   "source": [
    "Older products are more likely to be recommended than the younger ones. That's why we need to know how many products were at least 6 months in the app"
   ]
  },
  {
   "cell_type": "code",
   "execution_count": 2,
   "id": "bbce088b",
   "metadata": {},
   "outputs": [],
   "source": [
    "import pandas as pd\n",
    "import matplotlib.pyplot as plt\n",
    "import seaborn as sns\n",
    "import pandas_gbq"
   ]
  },
  {
   "cell_type": "markdown",
   "id": "532af35f",
   "metadata": {},
   "source": [
    "### Downloading the data"
   ]
  },
  {
   "cell_type": "code",
   "execution_count": 3,
   "id": "d39a87f0",
   "metadata": {},
   "outputs": [
    {
     "name": "stderr",
     "output_type": "stream",
     "text": [
      "Downloading: 100%|██████████| 42889/42889 [00:02<00:00, 19745.52rows/s]\n"
     ]
    }
   ],
   "source": [
    "QUERY = \"\"\"\n",
    "SELECT\n",
    "gtin\n",
    ", age\n",
    "FROM `peya-food-and-groceries.user_fiorella_dirosario.product_attributes_sep2020_sep2021` p \n",
    "\"\"\"\n",
    "\n",
    "df = pandas_gbq.read_gbq(QUERY, project_id=\"peya-growth-and-onboarding\")\n",
    "df.to_csv(\"gtin_age.csv\", index=False)"
   ]
  },
  {
   "cell_type": "code",
   "execution_count": 4,
   "id": "8938a99a",
   "metadata": {},
   "outputs": [],
   "source": [
    "df = pd.read_csv(\"gtin_age.csv\")\n",
    "\n",
    "# Age is in days. I need it in years\n",
    "df[\"age\"] = df[\"age\"] / 365"
   ]
  },
  {
   "cell_type": "code",
   "execution_count": 5,
   "id": "87d6ab60",
   "metadata": {},
   "outputs": [
    {
     "data": {
      "image/png": "[encoded data removed]",
      "text/plain": [
       "<Figure size 432x288 with 1 Axes>"
      ]
     },
     "metadata": {
      "needs_background": "light"
     },
     "output_type": "display_data"
    }
   ],
   "source": [
    "\n",
    "sns.histplot(data=df, x=\"age\", bins=[x/10 for x in range(25) if (x % 2 == 0)])\n",
    "plt.xlabel(\"Age (years)\")\n",
    "plt.ylabel(\"Number of Products\")\n",
    "plt.xticks([x/10 for x in range(25) if (x % 2 == 0)])\n",
    "plt.title(\"Distribution of the Age of the Product\")\n",
    "total = df[\"gtin\"].count()\n",
    "\n",
    "ax = plt.gca()\n",
    "\n",
    "if total > 0:\n",
    "    for p in ax.patches:\n",
    "        if pd.notna(p.get_height()):\n",
    "            ax.text(p.get_x() + p.get_width() / 2., p.get_height(),\n",
    "                       '{:.1%}'.format(float(p.get_height() / total)),\n",
    "                       fontsize=10, color='black', ha='center', va='bottom')\n",
    "        else:\n",
    "            ax.text(p.get_x() + p.get_width() / 2., 0, '0', fontsize=10,\n",
    "                       color='black', ha='center', va='bottom')\n",
    "plt.show()"
   ]
  }
 ],
 "metadata": {
  "kernelspec": {
   "display_name": "bigquery",
   "language": "python",
   "name": "bigquery"
  },
  "toc": {
   "base_numbering": 1,
   "nav_menu": {},
   "number_sections": true,
   "sideBar": true,
   "skip_h1_title": false,
   "title_cell": "Table of Contents",
   "title_sidebar": "Contents",
   "toc_cell": false,
   "toc_position": {},
   "toc_section_display": true,
   "toc_window_display": false
  },
  "varInspector": {
   "cols": {
    "lenName": 16,
    "lenType": 16,
    "lenVar": 40
   },
   "kernels_config": {
    "python": {
     "delete_cmd_postfix": "",
     "delete_cmd_prefix": "del ",
     "library": "var_list.py",
     "varRefreshCmd": "print(var_dic_list())"
    },
    "r": {
     "delete_cmd_postfix": ") ",
     "delete_cmd_prefix": "rm(",
     "library": "var_list.r",
     "varRefreshCmd": "cat(var_dic_list()) "
    }
   },
   "types_to_exclude": [
    "module",
    "function",
    "builtin_function_or_method",
    "instance",
    "_Feature"
   ],
   "window_display": false
  }
 },
 "nbformat": 4,
 "nbformat_minor": 5
}
