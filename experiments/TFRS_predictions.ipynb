{
 "nbformat": 4,
 "nbformat_minor": 0,
 "metadata": {
  "colab": {
   "name": "TFRS_predictions.ipynb",
   "provenance": [
    {
     "file_id": "1XHCDF-PDYwQO93FXUnPUd6J9L5VNoU7F",
     "timestamp": 1634150349168
    },
    {
     "file_id": "1YsgBJd57Xg1cFeLSPg7cBrgn0wSj1GPf",
     "timestamp": 1634051306689
    }
   ],
   "collapsed_sections": []
  },
  "kernelspec": {
   "name": "python3",
   "display_name": "Python 3"
  },
  "language_info": {
   "name": "python"
  }
 },
 "cells": [
  {
   "cell_type": "code",
   "metadata": {
    "id": "UAgfixIsVfqW",
    "colab": {
     "base_uri": "https://localhost:8080/"
    },
    "executionInfo": {
     "status": "ok",
     "timestamp": 1635268766247,
     "user_tz": 180,
     "elapsed": 31119,
     "user": {
      "displayName": "Cesar Reyes",
      "photoUrl": "https://lh3.googleusercontent.com/a-/AOh14GivCEktqhpVTBc89dTYts8q4--6-tXOlPrzRm22=s64",
      "userId": "04702276980078964785"
     }
    },
    "outputId": "0e563ec0-bd77-4ca8-bfae-49ec6b7a5c95"
   },
   "source": [
    "import tensorflow as tf"
   ],
   "execution_count": 1,
   "outputs": [
    {
     "name": "stderr",
     "output_type": "stream",
     "text": [
      "2021-10-28 11:52:59.942522: W tensorflow/stream_executor/platform/default/dso_loader.cc:64] Could not load dynamic library 'libcudart.so.11.0'; dlerror: libcudart.so.11.0: cannot open shared object file: No such file or directory\n",
      "2021-10-28 11:52:59.942546: I tensorflow/stream_executor/cuda/cudart_stub.cc:29] Ignore above cudart dlerror if you do not have a GPU set up on your machine.\n"
     ]
    }
   ]
  },
  {
   "cell_type": "markdown",
   "metadata": {
    "id": "wqMmRaejpQRb"
   },
   "source": [
    "# Base Model\n",
    "## Load Model"
   ]
  },
  {
   "cell_type": "code",
   "metadata": {
    "id": "gdn3vvH4d_5R"
   },
   "source": [
    "input_path = \"../models/base_line_model/index_model/1\"\n",
    "model = tf.saved_model.load(input_path)"
   ],
   "execution_count": 2,
   "outputs": [
    {
     "name": "stderr",
     "output_type": "stream",
     "text": [
      "2021-10-28 11:53:05.466420: W tensorflow/stream_executor/platform/default/dso_loader.cc:64] Could not load dynamic library 'libcuda.so.1'; dlerror: libcuda.so.1: cannot open shared object file: No such file or directory\n",
      "2021-10-28 11:53:05.466439: W tensorflow/stream_executor/cuda/cuda_driver.cc:269] failed call to cuInit: UNKNOWN ERROR (303)\n",
      "2021-10-28 11:53:05.466454: I tensorflow/stream_executor/cuda/cuda_diagnostics.cc:156] kernel driver does not appear to be running on this host (creyesp-peya-uy): /proc/driver/nvidia/version does not exist\n",
      "2021-10-28 11:53:05.466604: I tensorflow/core/platform/cpu_feature_guard.cc:142] This TensorFlow binary is optimized with oneAPI Deep Neural Network Library (oneDNN) to use the following CPU instructions in performance-critical operations:  AVX2 FMA\n",
      "To enable them in other operations, rebuild TensorFlow with the appropriate compiler flags.\n",
      "2021-10-28 11:53:05.933513: I tensorflow/compiler/mlir/mlir_graph_optimization_pass.cc:185] None of the MLIR Optimization Passes are enabled (registered 2)\n",
      "2021-10-28 11:53:06.008541: W tensorflow/core/framework/cpu_allocator_impl.cc:80] Allocation of 55852288 exceeds 10% of free system memory.\n"
     ]
    }
   ]
  },
  {
   "cell_type": "markdown",
   "metadata": {
    "id": "iO3CbesjoKij"
   },
   "source": [
    "## Recommend products to out of bag users (cold start problem)\n",
    "<img src=\"https://www.researchgate.net/profile/Mehdi-Elahi-2/publication/332511384/figure/fig2/AS:749057106530306@1555600539374/Illustration-of-Cold-Start-problem-in-recommender-systems-New-user-problem-left-and.jpg\" width=500>"
   ]
  },
  {
   "cell_type": "code",
   "metadata": {
    "colab": {
     "base_uri": "https://localhost:8080/"
    },
    "id": "F3Cp9mJ4n_20",
    "executionInfo": {
     "status": "ok",
     "timestamp": 1635269180292,
     "user_tz": 180,
     "elapsed": 324,
     "user": {
      "displayName": "Cesar Reyes",
      "photoUrl": "https://lh3.googleusercontent.com/a-/AOh14GivCEktqhpVTBc89dTYts8q4--6-tXOlPrzRm22=s64",
      "userId": "04702276980078964785"
     }
    },
    "outputId": "ae035212-4def-4add-cd14-e9025aea9277"
   },
   "source": [
    "score, products = model(tf.constant([\"oob\"]))\n",
    "products.numpy()"
   ],
   "execution_count": 3,
   "outputs": [
    {
     "data": {
      "text/plain": "array([[b'7791337002012', b'7790742172006', b'7791337000926',\n        b'7791813421580', b'7790742333605', b'7790895010088',\n        b'7791813421917', b'7790742172105', b'7796989075803',\n        b'7791337001978']], dtype=object)"
     },
     "execution_count": 3,
     "metadata": {},
     "output_type": "execute_result"
    }
   ]
  },
  {
   "cell_type": "code",
   "metadata": {
    "colab": {
     "base_uri": "https://localhost:8080/"
    },
    "id": "J5_Brr1xo4_f",
    "executionInfo": {
     "status": "ok",
     "timestamp": 1635269194228,
     "user_tz": 180,
     "elapsed": 298,
     "user": {
      "displayName": "Cesar Reyes",
      "photoUrl": "https://lh3.googleusercontent.com/a-/AOh14GivCEktqhpVTBc89dTYts8q4--6-tXOlPrzRm22=s64",
      "userId": "04702276980078964785"
     }
    },
    "outputId": "a025cfbe-c305-4a11-aa05-01aed2b3df22"
   },
   "source": [
    "score, products = model(tf.constant([\"\"]))\n",
    "products.numpy()"
   ],
   "execution_count": 4,
   "outputs": [
    {
     "data": {
      "text/plain": "array([[b'7791337002012', b'7790742172006', b'7791337000926',\n        b'7791813421580', b'7790742333605', b'7790895010088',\n        b'7791813421917', b'7790742172105', b'7796989075803',\n        b'7791337001978']], dtype=object)"
     },
     "execution_count": 4,
     "metadata": {},
     "output_type": "execute_result"
    }
   ]
  },
  {
   "cell_type": "markdown",
   "metadata": {
    "id": "yM1QQnahohsC"
   },
   "source": [
    "## Recommend products to existent users"
   ]
  },
  {
   "cell_type": "code",
   "metadata": {
    "colab": {
     "base_uri": "https://localhost:8080/"
    },
    "id": "C7Wi9Q-ZoTOO",
    "executionInfo": {
     "status": "ok",
     "timestamp": 1635269155554,
     "user_tz": 180,
     "elapsed": 351,
     "user": {
      "displayName": "Cesar Reyes",
      "photoUrl": "https://lh3.googleusercontent.com/a-/AOh14GivCEktqhpVTBc89dTYts8q4--6-tXOlPrzRm22=s64",
      "userId": "04702276980078964785"
     }
    },
    "outputId": "ccaee1ac-eec2-4e9b-a8e1-fbc9541da056"
   },
   "source": [
    "score, products = model(tf.constant([\"4655437\"]))\n",
    "products.numpy()"
   ],
   "execution_count": 5,
   "outputs": [
    {
     "data": {
      "text/plain": "array([[b'8480017203809', b'77912268', b'7791813050520',\n        b'8480017300768', b'7798130951776', b'8480017518644',\n        b'8480017053480', b'8480017154057', b'8480017188274',\n        b'8480017183507']], dtype=object)"
     },
     "execution_count": 5,
     "metadata": {},
     "output_type": "execute_result"
    }
   ]
  },
  {
   "cell_type": "code",
   "metadata": {
    "colab": {
     "base_uri": "https://localhost:8080/"
    },
    "id": "Kq4SuACio-vN",
    "executionInfo": {
     "status": "ok",
     "timestamp": 1635269219677,
     "user_tz": 180,
     "elapsed": 316,
     "user": {
      "displayName": "Cesar Reyes",
      "photoUrl": "https://lh3.googleusercontent.com/a-/AOh14GivCEktqhpVTBc89dTYts8q4--6-tXOlPrzRm22=s64",
      "userId": "04702276980078964785"
     }
    },
    "outputId": "5b18461c-0c7d-44e3-f07e-1c4a7ba1915a",
    "pycharm": {
     "name": "#%%\n"
    }
   },
   "source": [
    "score, products = model(tf.constant([\"35417324\"]))\n",
    "products.numpy()"
   ],
   "execution_count": 6,
   "outputs": [
    {
     "data": {
      "text/plain": "array([[b'7793046008019', b'7798061000376', b'7796490000028',\n        b'7790580111533', b'7791058000731', b'7790828102095',\n        b'7790022000357', b'7790383000102', b'7790070508348',\n        b'7790062000584']], dtype=object)"
     },
     "execution_count": 6,
     "metadata": {},
     "output_type": "execute_result"
    }
   ]
  }
 ]
}