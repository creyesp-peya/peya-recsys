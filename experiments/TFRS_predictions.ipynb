{
 "nbformat": 4,
 "nbformat_minor": 0,
 "metadata": {
  "colab": {
   "name": "TFRS_predictions.ipynb",
   "provenance": [
    {
     "file_id": "1XHCDF-PDYwQO93FXUnPUd6J9L5VNoU7F",
     "timestamp": 1634150349168
    },
    {
     "file_id": "1YsgBJd57Xg1cFeLSPg7cBrgn0wSj1GPf",
     "timestamp": 1634051306689
    }
   ],
   "collapsed_sections": []
  },
  "kernelspec": {
   "name": "python3",
   "display_name": "Python 3"
  },
  "language_info": {
   "name": "python"
  }
 },
 "cells": [
  {
   "cell_type": "code",
   "metadata": {
    "id": "UAgfixIsVfqW",
    "colab": {
     "base_uri": "https://localhost:8080/"
    },
    "executionInfo": {
     "status": "ok",
     "timestamp": 1635268766247,
     "user_tz": 180,
     "elapsed": 31119,
     "user": {
      "displayName": "Cesar Reyes",
      "photoUrl": "https://lh3.googleusercontent.com/a-/AOh14GivCEktqhpVTBc89dTYts8q4--6-tXOlPrzRm22=s64",
      "userId": "04702276980078964785"
     }
    },
    "outputId": "0e563ec0-bd77-4ca8-bfae-49ec6b7a5c95"
   },
   "source": [
    "import tensorflow as tf"
   ],
   "execution_count": 1,
   "outputs": [
    {
     "name": "stderr",
     "output_type": "stream",
     "text": [
      "2021-10-27 21:16:11.018456: W tensorflow/stream_executor/platform/default/dso_loader.cc:64] Could not load dynamic library 'libcudart.so.11.0'; dlerror: libcudart.so.11.0: cannot open shared object file: No such file or directory\n",
      "2021-10-27 21:16:11.018514: I tensorflow/stream_executor/cuda/cudart_stub.cc:29] Ignore above cudart dlerror if you do not have a GPU set up on your machine.\n"
     ]
    }
   ]
  },
  {
   "cell_type": "markdown",
   "metadata": {
    "id": "wqMmRaejpQRb"
   },
   "source": [
    "# Base Model\n",
    "## Load Model"
   ]
  },
  {
   "cell_type": "code",
   "metadata": {
    "id": "gdn3vvH4d_5R"
   },
   "source": [
    "input_path = \"../models/base_line_model/index_model/1\"\n",
    "model = tf.saved_model.load(input_path)"
   ],
   "execution_count": 10,
   "outputs": []
  },
  {
   "cell_type": "markdown",
   "metadata": {
    "id": "iO3CbesjoKij"
   },
   "source": [
    "## Recommend products to out of bag users (cold start problem)\n",
    "<img src=\"https://www.researchgate.net/profile/Mehdi-Elahi-2/publication/332511384/figure/fig2/AS:749057106530306@1555600539374/Illustration-of-Cold-Start-problem-in-recommender-systems-New-user-problem-left-and.jpg\" width=500>"
   ]
  },
  {
   "cell_type": "code",
   "metadata": {
    "colab": {
     "base_uri": "https://localhost:8080/"
    },
    "id": "F3Cp9mJ4n_20",
    "executionInfo": {
     "status": "ok",
     "timestamp": 1635269180292,
     "user_tz": 180,
     "elapsed": 324,
     "user": {
      "displayName": "Cesar Reyes",
      "photoUrl": "https://lh3.googleusercontent.com/a-/AOh14GivCEktqhpVTBc89dTYts8q4--6-tXOlPrzRm22=s64",
      "userId": "04702276980078964785"
     }
    },
    "outputId": "ae035212-4def-4add-cd14-e9025aea9277"
   },
   "source": [
    "score, products = model(tf.constant([\"oob\"]))\n",
    "products.numpy()"
   ],
   "execution_count": 11,
   "outputs": [
    {
     "data": {
      "text/plain": "array([[b'7791337002012', b'7790742172006', b'7791337000926',\n        b'7791813421580', b'7790742333605', b'7790895010088',\n        b'7791813421917', b'7790742172105', b'7796989075803',\n        b'7791337001978']], dtype=object)"
     },
     "execution_count": 11,
     "metadata": {},
     "output_type": "execute_result"
    }
   ]
  },
  {
   "cell_type": "code",
   "metadata": {
    "colab": {
     "base_uri": "https://localhost:8080/"
    },
    "id": "J5_Brr1xo4_f",
    "executionInfo": {
     "status": "ok",
     "timestamp": 1635269194228,
     "user_tz": 180,
     "elapsed": 298,
     "user": {
      "displayName": "Cesar Reyes",
      "photoUrl": "https://lh3.googleusercontent.com/a-/AOh14GivCEktqhpVTBc89dTYts8q4--6-tXOlPrzRm22=s64",
      "userId": "04702276980078964785"
     }
    },
    "outputId": "a025cfbe-c305-4a11-aa05-01aed2b3df22"
   },
   "source": [
    "score, products = model(tf.constant([\"\"]))\n",
    "products.numpy()"
   ],
   "execution_count": 12,
   "outputs": [
    {
     "data": {
      "text/plain": "array([[b'7791337002012', b'7790742172006', b'7791337000926',\n        b'7791813421580', b'7790742333605', b'7790895010088',\n        b'7791813421917', b'7790742172105', b'7796989075803',\n        b'7791337001978']], dtype=object)"
     },
     "execution_count": 12,
     "metadata": {},
     "output_type": "execute_result"
    }
   ]
  },
  {
   "cell_type": "markdown",
   "metadata": {
    "id": "yM1QQnahohsC"
   },
   "source": [
    "## Recommend products to existent users"
   ]
  },
  {
   "cell_type": "code",
   "metadata": {
    "colab": {
     "base_uri": "https://localhost:8080/"
    },
    "id": "C7Wi9Q-ZoTOO",
    "executionInfo": {
     "status": "ok",
     "timestamp": 1635269155554,
     "user_tz": 180,
     "elapsed": 351,
     "user": {
      "displayName": "Cesar Reyes",
      "photoUrl": "https://lh3.googleusercontent.com/a-/AOh14GivCEktqhpVTBc89dTYts8q4--6-tXOlPrzRm22=s64",
      "userId": "04702276980078964785"
     }
    },
    "outputId": "ccaee1ac-eec2-4e9b-a8e1-fbc9541da056"
   },
   "source": [
    "score, products = model(tf.constant([\"4655437\"]))\n",
    "products.numpy()"
   ],
   "execution_count": 13,
   "outputs": [
    {
     "data": {
      "text/plain": "array([[b'8480017203809', b'77912268', b'7791813050520',\n        b'8480017300768', b'7798130951776', b'8480017518644',\n        b'8480017053480', b'8480017154057', b'8480017188274',\n        b'8480017183507']], dtype=object)"
     },
     "execution_count": 13,
     "metadata": {},
     "output_type": "execute_result"
    }
   ]
  },
  {
   "cell_type": "code",
   "metadata": {
    "colab": {
     "base_uri": "https://localhost:8080/"
    },
    "id": "Kq4SuACio-vN",
    "executionInfo": {
     "status": "ok",
     "timestamp": 1635269219677,
     "user_tz": 180,
     "elapsed": 316,
     "user": {
      "displayName": "Cesar Reyes",
      "photoUrl": "https://lh3.googleusercontent.com/a-/AOh14GivCEktqhpVTBc89dTYts8q4--6-tXOlPrzRm22=s64",
      "userId": "04702276980078964785"
     }
    },
    "outputId": "5b18461c-0c7d-44e3-f07e-1c4a7ba1915a"
   },
   "source": [
    "score, products = model(tf.constant([\"35417324\"]))\n",
    "products.numpy()"
   ],
   "execution_count": 14,
   "outputs": [
    {
     "data": {
      "text/plain": "array([[b'7793046008019', b'7798061000376', b'7796490000028',\n        b'7790580111533', b'7791058000731', b'7790828102095',\n        b'7790022000357', b'7790383000102', b'7790070508348',\n        b'7790062000584']], dtype=object)"
     },
     "execution_count": 14,
     "metadata": {},
     "output_type": "execute_result"
    }
   ]
  },
  {
   "cell_type": "markdown",
   "source": [
    "# Context model"
   ],
   "metadata": {
    "collapsed": false,
    "pycharm": {
     "name": "#%% md\n"
    }
   }
  },
  {
   "cell_type": "code",
   "execution_count": null,
   "outputs": [],
   "source": [
    "input_path = \"../models/context_model/index_model/1\"\n",
    "context_model = tf.saved_model.load(input_path)"
   ],
   "metadata": {
    "collapsed": false,
    "pycharm": {
     "name": "#%%\n",
     "is_executing": true
    }
   }
  },
  {
   "cell_type": "markdown",
   "source": [
    "## Recommend products to out of bag users (cold start problem)"
   ],
   "metadata": {
    "collapsed": false,
    "pycharm": {
     "name": "#%% md\n"
    }
   }
  },
  {
   "cell_type": "code",
   "execution_count": null,
   "outputs": [],
   "source": [
    "score, products = model(tf.constant([\"oob\"]))\n",
    "products.numpy()"
   ],
   "metadata": {
    "collapsed": false,
    "pycharm": {
     "name": "#%%\n"
    }
   }
  },
  {
   "cell_type": "markdown",
   "source": [
    "## Recommend products to existent users"
   ],
   "metadata": {
    "collapsed": false,
    "pycharm": {
     "name": "#%% md\n"
    }
   }
  },
  {
   "cell_type": "code",
   "execution_count": null,
   "outputs": [],
   "source": [
    "query = {\n",
    "    \"user_id\": tf.constant([35417324]),\n",
    "    \"dow\": tf.constant([1]),\n",
    "    \"hod\": tf.constant([18]),\n",
    "}\n",
    "score, products = model(query)\n",
    "products.numpy()"
   ],
   "metadata": {
    "collapsed": false,
    "pycharm": {
     "name": "#%%\n"
    }
   }
  }
 ]
}