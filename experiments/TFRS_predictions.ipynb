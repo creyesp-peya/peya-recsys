{
 "nbformat": 4,
 "nbformat_minor": 0,
 "metadata": {
  "colab": {
   "name": "TFRS_predictions.ipynb",
   "provenance": [
    {
     "file_id": "1XHCDF-PDYwQO93FXUnPUd6J9L5VNoU7F",
     "timestamp": 1634150349168
    },
    {
     "file_id": "1YsgBJd57Xg1cFeLSPg7cBrgn0wSj1GPf",
     "timestamp": 1634051306689
    }
   ],
   "collapsed_sections": []
  },
  "kernelspec": {
   "name": "python3",
   "display_name": "Python 3"
  },
  "language_info": {
   "name": "python"
  }
 },
 "cells": [
  {
   "cell_type": "code",
   "metadata": {
    "id": "UAgfixIsVfqW",
    "colab": {
     "base_uri": "https://localhost:8080/"
    },
    "executionInfo": {
     "status": "ok",
     "timestamp": 1635268766247,
     "user_tz": 180,
     "elapsed": 31119,
     "user": {
      "displayName": "Cesar Reyes",
      "photoUrl": "https://lh3.googleusercontent.com/a-/AOh14GivCEktqhpVTBc89dTYts8q4--6-tXOlPrzRm22=s64",
      "userId": "04702276980078964785"
     }
    },
    "outputId": "0e563ec0-bd77-4ca8-bfae-49ec6b7a5c95"
   },
   "source": [
    "import tensorflow as tf"
   ],
   "execution_count": 1,
   "outputs": [
    {
     "name": "stderr",
     "output_type": "stream",
     "text": [
      "2021-10-27 21:16:11.018456: W tensorflow/stream_executor/platform/default/dso_loader.cc:64] Could not load dynamic library 'libcudart.so.11.0'; dlerror: libcudart.so.11.0: cannot open shared object file: No such file or directory\n",
      "2021-10-27 21:16:11.018514: I tensorflow/stream_executor/cuda/cudart_stub.cc:29] Ignore above cudart dlerror if you do not have a GPU set up on your machine.\n"
     ]
    }
   ]
  },
  {
   "cell_type": "markdown",
   "metadata": {
    "id": "wqMmRaejpQRb"
   },
   "source": [
    "# Base Model\n",
    "## Load Model"
   ]
  },
  {
   "cell_type": "code",
   "metadata": {
    "id": "gdn3vvH4d_5R"
   },
   "source": [
    "input_path = \"../models/base_line_index/1\"\n",
    "model = tf.saved_model.load(input_path)"
   ],
   "execution_count": 2,
   "outputs": [
    {
     "name": "stderr",
     "output_type": "stream",
     "text": [
      "2021-10-27 21:16:17.964135: W tensorflow/stream_executor/platform/default/dso_loader.cc:64] Could not load dynamic library 'libcuda.so.1'; dlerror: libcuda.so.1: cannot open shared object file: No such file or directory\n",
      "2021-10-27 21:16:17.964186: W tensorflow/stream_executor/cuda/cuda_driver.cc:326] failed call to cuInit: UNKNOWN ERROR (303)\n",
      "2021-10-27 21:16:17.964216: I tensorflow/stream_executor/cuda/cuda_diagnostics.cc:156] kernel driver does not appear to be running on this host (creyesp-peya-uy): /proc/driver/nvidia/version does not exist\n",
      "2021-10-27 21:16:17.964579: I tensorflow/core/platform/cpu_feature_guard.cc:142] This TensorFlow binary is optimized with oneAPI Deep Neural Network Library (oneDNN) to use the following CPU instructions in performance-critical operations:  AVX2 FMA\n",
      "To enable them in other operations, rebuild TensorFlow with the appropriate compiler flags.\n",
      "2021-10-27 21:16:18.508860: I tensorflow/compiler/mlir/mlir_graph_optimization_pass.cc:176] None of the MLIR Optimization Passes are enabled (registered 2)\n",
      "2021-10-27 21:16:18.528656: I tensorflow/core/platform/profile_utils/cpu_utils.cc:114] CPU Frequency: 1800000000 Hz\n"
     ]
    }
   ]
  },
  {
   "cell_type": "markdown",
   "metadata": {
    "id": "iO3CbesjoKij"
   },
   "source": [
    "## Recommend products to out of bag users (cold start problem)\n",
    "<img src=\"https://www.researchgate.net/profile/Mehdi-Elahi-2/publication/332511384/figure/fig2/AS:749057106530306@1555600539374/Illustration-of-Cold-Start-problem-in-recommender-systems-New-user-problem-left-and.jpg\" width=500>"
   ]
  },
  {
   "cell_type": "code",
   "metadata": {
    "colab": {
     "base_uri": "https://localhost:8080/"
    },
    "id": "F3Cp9mJ4n_20",
    "executionInfo": {
     "status": "ok",
     "timestamp": 1635269180292,
     "user_tz": 180,
     "elapsed": 324,
     "user": {
      "displayName": "Cesar Reyes",
      "photoUrl": "https://lh3.googleusercontent.com/a-/AOh14GivCEktqhpVTBc89dTYts8q4--6-tXOlPrzRm22=s64",
      "userId": "04702276980078964785"
     }
    },
    "outputId": "ae035212-4def-4add-cd14-e9025aea9277"
   },
   "source": [
    "score, products = model(tf.constant([\"oob\"]))\n",
    "products.numpy()"
   ],
   "execution_count": 3,
   "outputs": [
    {
     "data": {
      "text/plain": "array([[b'7791337002012', b'7790742172006', b'7791337000926',\n        b'7791813421580', b'7790742333605', b'7790895010088',\n        b'7791813421917', b'7790742172105', b'7796989075803',\n        b'7791337001978']], dtype=object)"
     },
     "execution_count": 3,
     "metadata": {},
     "output_type": "execute_result"
    }
   ]
  },
  {
   "cell_type": "code",
   "metadata": {
    "colab": {
     "base_uri": "https://localhost:8080/"
    },
    "id": "J5_Brr1xo4_f",
    "executionInfo": {
     "status": "ok",
     "timestamp": 1635269194228,
     "user_tz": 180,
     "elapsed": 298,
     "user": {
      "displayName": "Cesar Reyes",
      "photoUrl": "https://lh3.googleusercontent.com/a-/AOh14GivCEktqhpVTBc89dTYts8q4--6-tXOlPrzRm22=s64",
      "userId": "04702276980078964785"
     }
    },
    "outputId": "a025cfbe-c305-4a11-aa05-01aed2b3df22"
   },
   "source": [
    "score, products = model(tf.constant([\"\"]))\n",
    "products.numpy()"
   ],
   "execution_count": 4,
   "outputs": [
    {
     "data": {
      "text/plain": "array([[b'7791337002012', b'7790742172006', b'7791337000926',\n        b'7791813421580', b'7790742333605', b'7790895010088',\n        b'7791813421917', b'7790742172105', b'7796989075803',\n        b'7791337001978']], dtype=object)"
     },
     "execution_count": 4,
     "metadata": {},
     "output_type": "execute_result"
    }
   ]
  },
  {
   "cell_type": "markdown",
   "metadata": {
    "id": "yM1QQnahohsC"
   },
   "source": [
    "## Recommend products to existent users"
   ]
  },
  {
   "cell_type": "code",
   "metadata": {
    "colab": {
     "base_uri": "https://localhost:8080/"
    },
    "id": "C7Wi9Q-ZoTOO",
    "executionInfo": {
     "status": "ok",
     "timestamp": 1635269155554,
     "user_tz": 180,
     "elapsed": 351,
     "user": {
      "displayName": "Cesar Reyes",
      "photoUrl": "https://lh3.googleusercontent.com/a-/AOh14GivCEktqhpVTBc89dTYts8q4--6-tXOlPrzRm22=s64",
      "userId": "04702276980078964785"
     }
    },
    "outputId": "ccaee1ac-eec2-4e9b-a8e1-fbc9541da056"
   },
   "source": [
    "score, products = model(tf.constant([\"4655437\"]))\n",
    "products.numpy()"
   ],
   "execution_count": 5,
   "outputs": [
    {
     "data": {
      "text/plain": "array([[b'8480017203809', b'77912268', b'7791813050520',\n        b'8480017300768', b'7798130951776', b'8480017518644',\n        b'8480017053480', b'8480017154057', b'8480017188274',\n        b'8480017183507']], dtype=object)"
     },
     "execution_count": 5,
     "metadata": {},
     "output_type": "execute_result"
    }
   ]
  },
  {
   "cell_type": "code",
   "metadata": {
    "colab": {
     "base_uri": "https://localhost:8080/"
    },
    "id": "Kq4SuACio-vN",
    "executionInfo": {
     "status": "ok",
     "timestamp": 1635269219677,
     "user_tz": 180,
     "elapsed": 316,
     "user": {
      "displayName": "Cesar Reyes",
      "photoUrl": "https://lh3.googleusercontent.com/a-/AOh14GivCEktqhpVTBc89dTYts8q4--6-tXOlPrzRm22=s64",
      "userId": "04702276980078964785"
     }
    },
    "outputId": "5b18461c-0c7d-44e3-f07e-1c4a7ba1915a"
   },
   "source": [
    "score, products = model(tf.constant([\"35417324\"]))\n",
    "products.numpy()"
   ],
   "execution_count": 6,
   "outputs": [
    {
     "data": {
      "text/plain": "array([[b'7793046008019', b'7798061000376', b'7796490000028',\n        b'7790580111533', b'7791058000731', b'7790828102095',\n        b'7790022000357', b'7790383000102', b'7790070508348',\n        b'7790062000584']], dtype=object)"
     },
     "execution_count": 6,
     "metadata": {},
     "output_type": "execute_result"
    }
   ]
  },
  {
   "cell_type": "markdown",
   "source": [
    "# Context model"
   ],
   "metadata": {
    "collapsed": false,
    "pycharm": {
     "name": "#%% md\n"
    }
   }
  },
  {
   "cell_type": "code",
   "execution_count": 8,
   "outputs": [
    {
     "ename": "FileNotFoundError",
     "evalue": "Op type not registered 'Scann>TensorsToScann' in binary running on creyesp-peya-uy. Make sure the Op and Kernel are registered in the binary running in this process. Note that if you are loading a saved graph which used ops from tf.contrib, accessing (e.g.) `tf.contrib.resampler` should be done before importing the graph, as contrib ops are lazily registered when the module is first accessed.\n If trying to load on a different device from the computational device, consider using setting the `experimental_io_device` option on tf.saved_model.LoadOptions to the io_device such as '/job:localhost'.",
     "output_type": "error",
     "traceback": [
      "\u001B[0;31m---------------------------------------------------------------------------\u001B[0m",
      "\u001B[0;31mKeyError\u001B[0m                                  Traceback (most recent call last)",
      "\u001B[0;32m~/DataspellProjects/vertex-ai/venv/lib/python3.8/site-packages/tensorflow/python/framework/ops.py\u001B[0m in \u001B[0;36m_get_op_def\u001B[0;34m(self, type)\u001B[0m\n\u001B[1;32m   3957\u001B[0m   \u001B[0;32mdef\u001B[0m \u001B[0m_get_op_def\u001B[0m\u001B[0;34m(\u001B[0m\u001B[0mself\u001B[0m\u001B[0;34m,\u001B[0m \u001B[0mtype\u001B[0m\u001B[0;34m)\u001B[0m\u001B[0;34m:\u001B[0m  \u001B[0;31m# pylint: disable=redefined-builtin\u001B[0m\u001B[0;34m\u001B[0m\u001B[0;34m\u001B[0m\u001B[0m\n\u001B[0;32m-> 3958\u001B[0;31m     \u001B[0;34m\"\"\"Returns the `OpDef` proto for `type`. `type` is a string.\"\"\"\u001B[0m\u001B[0;34m\u001B[0m\u001B[0;34m\u001B[0m\u001B[0m\n\u001B[0m\u001B[1;32m   3959\u001B[0m     \u001B[0;31m# NOTE: No locking is required because the lookup and insertion operations\u001B[0m\u001B[0;34m\u001B[0m\u001B[0;34m\u001B[0m\u001B[0;34m\u001B[0m\u001B[0m\n",
      "\u001B[0;31mKeyError\u001B[0m: 'Scann>TensorsToScann'",
      "\nDuring handling of the above exception, another exception occurred:\n",
      "\u001B[0;31mNotFoundError\u001B[0m                             Traceback (most recent call last)",
      "\u001B[0;32m~/DataspellProjects/vertex-ai/venv/lib/python3.8/site-packages/tensorflow/python/saved_model/load.py\u001B[0m in \u001B[0;36mload_internal\u001B[0;34m(export_dir, tags, options, loader_cls, filters)\u001B[0m\n\u001B[1;32m    904\u001B[0m       \u001B[0;32mexcept\u001B[0m \u001B[0merrors\u001B[0m\u001B[0;34m.\u001B[0m\u001B[0mNotFoundError\u001B[0m \u001B[0;32mas\u001B[0m \u001B[0merr\u001B[0m\u001B[0;34m:\u001B[0m\u001B[0;34m\u001B[0m\u001B[0;34m\u001B[0m\u001B[0m\n\u001B[0;32m--> 905\u001B[0;31m         raise FileNotFoundError(\n\u001B[0m\u001B[1;32m    906\u001B[0m             \u001B[0mstr\u001B[0m\u001B[0;34m(\u001B[0m\u001B[0merr\u001B[0m\u001B[0;34m)\u001B[0m \u001B[0;34m+\u001B[0m \u001B[0;34m\"\\n If trying to load on a different device from the \"\u001B[0m\u001B[0;34m\u001B[0m\u001B[0;34m\u001B[0m\u001B[0m\n",
      "\u001B[0;32m~/DataspellProjects/vertex-ai/venv/lib/python3.8/site-packages/tensorflow/python/saved_model/load.py\u001B[0m in \u001B[0;36m__init__\u001B[0;34m(self, object_graph_proto, saved_model_proto, export_dir, ckpt_options, filters)\u001B[0m\n\u001B[1;32m    132\u001B[0m     self._operation_attributes = {\n\u001B[0;32m--> 133\u001B[0;31m         node.name: node.attr for node in meta_graph.graph_def.node}\n\u001B[0m\u001B[1;32m    134\u001B[0m     \u001B[0mself\u001B[0m\u001B[0;34m.\u001B[0m\u001B[0m_proto\u001B[0m \u001B[0;34m=\u001B[0m \u001B[0mobject_graph_proto\u001B[0m\u001B[0;34m\u001B[0m\u001B[0;34m\u001B[0m\u001B[0m\n",
      "\u001B[0;32m~/DataspellProjects/vertex-ai/venv/lib/python3.8/site-packages/tensorflow/python/saved_model/function_deserialization.py\u001B[0m in \u001B[0;36mload_function_def_library\u001B[0;34m(library, load_shared_name_suffix)\u001B[0m\n\u001B[1;32m    357\u001B[0m     \u001B[0mload_shared_name_suffix\u001B[0m \u001B[0;34m=\u001B[0m \u001B[0;34m\"_load_{}\"\u001B[0m\u001B[0;34m.\u001B[0m\u001B[0mformat\u001B[0m\u001B[0;34m(\u001B[0m\u001B[0mops\u001B[0m\u001B[0;34m.\u001B[0m\u001B[0muid\u001B[0m\u001B[0;34m(\u001B[0m\u001B[0;34m)\u001B[0m\u001B[0;34m)\u001B[0m\u001B[0;34m\u001B[0m\u001B[0;34m\u001B[0m\u001B[0m\n\u001B[0;32m--> 358\u001B[0;31m \u001B[0;34m\u001B[0m\u001B[0m\n\u001B[0m\u001B[1;32m    359\u001B[0m   \u001B[0;31m# Custom gradient functions must be re-registered under new UIDs.\u001B[0m\u001B[0;34m\u001B[0m\u001B[0;34m\u001B[0m\u001B[0;34m\u001B[0m\u001B[0m\n",
      "\u001B[0;32m~/DataspellProjects/vertex-ai/venv/lib/python3.8/site-packages/tensorflow/python/framework/function_def_to_graph.py\u001B[0m in \u001B[0;36mfunction_def_to_graph\u001B[0;34m(fdef, input_shapes)\u001B[0m\n\u001B[1;32m     62\u001B[0m       \u001B[0minput_shapes\u001B[0m \u001B[0;34m=\u001B[0m \u001B[0minput_shapes_attr\u001B[0m\u001B[0;34m.\u001B[0m\u001B[0mlist\u001B[0m\u001B[0;34m.\u001B[0m\u001B[0mshape\u001B[0m\u001B[0;34m\u001B[0m\u001B[0;34m\u001B[0m\u001B[0m\n\u001B[0;32m---> 63\u001B[0;31m   graph_def, nested_to_flat_tensor_name = function_def_to_graph_def(\n\u001B[0m\u001B[1;32m     64\u001B[0m       fdef, input_shapes)\n",
      "\u001B[0;32m~/DataspellProjects/vertex-ai/venv/lib/python3.8/site-packages/tensorflow/python/framework/function_def_to_graph.py\u001B[0m in \u001B[0;36mfunction_def_to_graph_def\u001B[0;34m(fdef, input_shapes)\u001B[0m\n\u001B[1;32m    227\u001B[0m     \u001B[0;32melse\u001B[0m\u001B[0;34m:\u001B[0m\u001B[0;34m\u001B[0m\u001B[0;34m\u001B[0m\u001B[0m\n\u001B[0;32m--> 228\u001B[0;31m       \u001B[0mop_def\u001B[0m \u001B[0;34m=\u001B[0m \u001B[0mdefault_graph\u001B[0m\u001B[0;34m.\u001B[0m\u001B[0m_get_op_def\u001B[0m\u001B[0;34m(\u001B[0m\u001B[0mnode_def\u001B[0m\u001B[0;34m.\u001B[0m\u001B[0mop\u001B[0m\u001B[0;34m)\u001B[0m  \u001B[0;31m# pylint: disable=protected-access\u001B[0m\u001B[0;34m\u001B[0m\u001B[0;34m\u001B[0m\u001B[0m\n\u001B[0m\u001B[1;32m    229\u001B[0m \u001B[0;34m\u001B[0m\u001B[0m\n",
      "\u001B[0;32m~/DataspellProjects/vertex-ai/venv/lib/python3.8/site-packages/tensorflow/python/framework/ops.py\u001B[0m in \u001B[0;36m_get_op_def\u001B[0;34m(self, type)\u001B[0m\n\u001B[1;32m   3961\u001B[0m     \u001B[0;32mtry\u001B[0m\u001B[0;34m:\u001B[0m\u001B[0;34m\u001B[0m\u001B[0;34m\u001B[0m\u001B[0m\n\u001B[0;32m-> 3962\u001B[0;31m       \u001B[0;32mreturn\u001B[0m \u001B[0mself\u001B[0m\u001B[0;34m.\u001B[0m\u001B[0m_op_def_cache\u001B[0m\u001B[0;34m[\u001B[0m\u001B[0mtype\u001B[0m\u001B[0;34m]\u001B[0m\u001B[0;34m\u001B[0m\u001B[0;34m\u001B[0m\u001B[0m\n\u001B[0m\u001B[1;32m   3963\u001B[0m     \u001B[0;32mexcept\u001B[0m \u001B[0mKeyError\u001B[0m\u001B[0;34m:\u001B[0m\u001B[0;34m\u001B[0m\u001B[0;34m\u001B[0m\u001B[0m\n",
      "\u001B[0;31mNotFoundError\u001B[0m: Op type not registered 'Scann>TensorsToScann' in binary running on creyesp-peya-uy. Make sure the Op and Kernel are registered in the binary running in this process. Note that if you are loading a saved graph which used ops from tf.contrib, accessing (e.g.) `tf.contrib.resampler` should be done before importing the graph, as contrib ops are lazily registered when the module is first accessed.",
      "\nDuring handling of the above exception, another exception occurred:\n",
      "\u001B[0;31mFileNotFoundError\u001B[0m                         Traceback (most recent call last)",
      "\u001B[0;32m/tmp/ipykernel_434292/4151530954.py\u001B[0m in \u001B[0;36m<module>\u001B[0;34m\u001B[0m\n\u001B[1;32m      1\u001B[0m \u001B[0minput_path\u001B[0m \u001B[0;34m=\u001B[0m \u001B[0;34m\"../models/context_index/1\"\u001B[0m\u001B[0;34m\u001B[0m\u001B[0;34m\u001B[0m\u001B[0m\n\u001B[0;32m----> 2\u001B[0;31m \u001B[0mcontext_model\u001B[0m \u001B[0;34m=\u001B[0m \u001B[0mtf\u001B[0m\u001B[0;34m.\u001B[0m\u001B[0msaved_model\u001B[0m\u001B[0;34m.\u001B[0m\u001B[0mload\u001B[0m\u001B[0;34m(\u001B[0m\u001B[0minput_path\u001B[0m\u001B[0;34m)\u001B[0m\u001B[0;34m\u001B[0m\u001B[0;34m\u001B[0m\u001B[0m\n\u001B[0m",
      "\u001B[0;32m~/DataspellProjects/vertex-ai/venv/lib/python3.8/site-packages/tensorflow/python/saved_model/load.py\u001B[0m in \u001B[0;36mload\u001B[0;34m(export_dir, tags, options)\u001B[0m\n\u001B[1;32m    867\u001B[0m \u001B[0;34m\u001B[0m\u001B[0m\n\u001B[1;32m    868\u001B[0m \u001B[0;34m\u001B[0m\u001B[0m\n\u001B[0;32m--> 869\u001B[0;31m def load_internal(export_dir, tags=None, options=None, loader_cls=Loader,\n\u001B[0m\u001B[1;32m    870\u001B[0m                   filters=None):\n\u001B[1;32m    871\u001B[0m   \u001B[0;34m\"\"\"Loader implementation.\"\"\"\u001B[0m\u001B[0;34m\u001B[0m\u001B[0;34m\u001B[0m\u001B[0m\n",
      "\u001B[0;32m~/DataspellProjects/vertex-ai/venv/lib/python3.8/site-packages/tensorflow/python/saved_model/load.py\u001B[0m in \u001B[0;36mload_internal\u001B[0;34m(export_dir, tags, options, loader_cls, filters)\u001B[0m\n\u001B[1;32m    906\u001B[0m             \u001B[0mstr\u001B[0m\u001B[0;34m(\u001B[0m\u001B[0merr\u001B[0m\u001B[0;34m)\u001B[0m \u001B[0;34m+\u001B[0m \u001B[0;34m\"\\n If trying to load on a different device from the \"\u001B[0m\u001B[0;34m\u001B[0m\u001B[0;34m\u001B[0m\u001B[0m\n\u001B[1;32m    907\u001B[0m             \u001B[0;34m\"computational device, consider using setting the \"\u001B[0m\u001B[0;34m\u001B[0m\u001B[0;34m\u001B[0m\u001B[0m\n\u001B[0;32m--> 908\u001B[0;31m             \u001B[0;34m\"`experimental_io_device` option on tf.saved_model.LoadOptions \"\u001B[0m\u001B[0;34m\u001B[0m\u001B[0;34m\u001B[0m\u001B[0m\n\u001B[0m\u001B[1;32m    909\u001B[0m             \u001B[0;34m\"to the io_device such as '/job:localhost'.\"\u001B[0m\u001B[0;34m\u001B[0m\u001B[0;34m\u001B[0m\u001B[0m\n\u001B[1;32m    910\u001B[0m         )\n",
      "\u001B[0;31mFileNotFoundError\u001B[0m: Op type not registered 'Scann>TensorsToScann' in binary running on creyesp-peya-uy. Make sure the Op and Kernel are registered in the binary running in this process. Note that if you are loading a saved graph which used ops from tf.contrib, accessing (e.g.) `tf.contrib.resampler` should be done before importing the graph, as contrib ops are lazily registered when the module is first accessed.\n If trying to load on a different device from the computational device, consider using setting the `experimental_io_device` option on tf.saved_model.LoadOptions to the io_device such as '/job:localhost'."
     ]
    }
   ],
   "source": [
    "input_path = \"../models/context_index/1\"\n",
    "context_model = tf.saved_model.load(input_path)"
   ],
   "metadata": {
    "collapsed": false,
    "pycharm": {
     "name": "#%%\n"
    }
   }
  },
  {
   "cell_type": "markdown",
   "source": [
    "## Recommend products to out of bag users (cold start problem)"
   ],
   "metadata": {
    "collapsed": false,
    "pycharm": {
     "name": "#%% md\n"
    }
   }
  },
  {
   "cell_type": "code",
   "execution_count": null,
   "outputs": [],
   "source": [
    "score, products = model(tf.constant([\"oob\"]))\n",
    "products.numpy()"
   ],
   "metadata": {
    "collapsed": false,
    "pycharm": {
     "name": "#%%\n"
    }
   }
  },
  {
   "cell_type": "markdown",
   "source": [
    "## Recommend products to existent users"
   ],
   "metadata": {
    "collapsed": false,
    "pycharm": {
     "name": "#%% md\n"
    }
   }
  },
  {
   "cell_type": "code",
   "execution_count": null,
   "outputs": [],
   "source": [
    "query = {\n",
    "    \"user_id\": tf.constant([35417324]),\n",
    "    \"dow\": tf.constant([1]),\n",
    "    \"hod\": tf.constant([18]),\n",
    "}\n",
    "score, products = model(query)\n",
    "products.numpy()"
   ],
   "metadata": {
    "collapsed": false,
    "pycharm": {
     "name": "#%%\n"
    }
   }
  }
 ]
}