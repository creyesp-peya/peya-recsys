{
 "nbformat": 4,
 "nbformat_minor": 0,
 "metadata": {
  "colab": {
   "name": "[pato]_TFRS_two_tower_model_with_context.ipynb",
   "provenance": [],
   "collapsed_sections": [],
   "machine_shape": "hm"
  },
  "kernelspec": {
   "display_name": "Python 3",
   "name": "python3"
  },
  "language_info": {
   "name": "python"
  },
  "accelerator": "GPU"
 },
 "cells": [
  {
   "cell_type": "code",
   "metadata": {
    "colab": {
     "base_uri": "https://localhost:8080/"
    },
    "id": "A8X6C6EKELSb",
    "executionInfo": {
     "status": "ok",
     "timestamp": 1635345945284,
     "user_tz": 180,
     "elapsed": 42261,
     "user": {
      "displayName": "Patricio Woodley",
      "photoUrl": "https://lh3.googleusercontent.com/a-/AOh14GjWL-Oeo4QuhMc7cDT6gvY7FhIu53OzWis3Z-N6=s64",
      "userId": "15070518986045227274"
     }
    },
    "outputId": "47143b73-9834-4290-f193-7780ac2166ed"
   },
   "source": [
    "try:\n",
    "    from google.colab import auth\n",
    "    from google.colab import drive\n",
    "\n",
    "    auth.authenticate_user()\n",
    "    print('Authenticated')\n",
    "    drive.mount('/content/drive')\n",
    "\n",
    "    !pip install -q tensorflow-recommenders\n",
    "    !pip install -q scann\n",
    "except:\n",
    "    IN_COLAB = False"
   ],
   "execution_count": 1,
   "outputs": [
    {
     "output_type": "stream",
     "name": "stdout",
     "text": [
      "Authenticated\n",
      "Mounted at /content/drive\n"
     ]
    }
   ]
  },
  {
   "cell_type": "code",
   "metadata": {
    "id": "u4x9Z7GAkVqI",
    "executionInfo": {
     "status": "ok",
     "timestamp": 1635345960971,
     "user_tz": 180,
     "elapsed": 2979,
     "user": {
      "displayName": "Patricio Woodley",
      "photoUrl": "https://lh3.googleusercontent.com/a-/AOh14GjWL-Oeo4QuhMc7cDT6gvY7FhIu53OzWis3Z-N6=s64",
      "userId": "15070518986045227274"
     }
    }
   },
   "source": [
    "from typing import Dict, Text\n",
    "import os\n",
    "\n",
    "from google.cloud import bigquery\n",
    "from google.cloud.bigquery_storage_v1beta1 import BigQueryStorageClient\n",
    "import numpy as np\n",
    "import pandas as pd\n",
    "import tensorflow as tf\n",
    "import tensorflow_recommenders as tfrs"
   ],
   "execution_count": 3,
   "outputs": []
  },
  {
   "cell_type": "markdown",
   "source": [
    "# Dataset\n",
    "We use the interaction between user ans product for user that has at least 2 orders to build a model"
   ],
   "metadata": {
    "collapsed": false,
    "pycharm": {
     "name": "#%% md\n"
    }
   }
  },
  {
   "cell_type": "code",
   "metadata": {
    "id": "mCsi-ZfduN8I",
    "executionInfo": {
     "status": "ok",
     "timestamp": 1635345991663,
     "user_tz": 180,
     "elapsed": 25428,
     "user": {
      "displayName": "Patricio Woodley",
      "photoUrl": "https://lh3.googleusercontent.com/a-/AOh14GjWL-Oeo4QuhMc7cDT6gvY7FhIu53OzWis3Z-N6=s64",
      "userId": "15070518986045227274"
     }
    }
   },
   "source": [
    "MINIMUM_PRODUCTS = 5\n",
    "MINIMUM_ORDERS = 2\n",
    "data_project_id = \"peya-food-and-groceries\"\n",
    "data_dataset_id = \"user_fiorella_dirosario\"\n",
    "data_table_orders = \"order_sep2020_sep2021\"\n",
    "data_table_order_details = \"order_details_sep2020_sep2021\"\n",
    "data_table_users = \"attributes_sep2020_sep2021\"\n",
    "data_table_products = \"product_attributes_sep2020_sep2021\"\n",
    "\n",
    "interaction_query_train = f\"\"\"\n",
    "DECLARE minimum_products INT64;\n",
    "DECLARE minimum_orders INT64;\n",
    "\n",
    "SET minimum_products = {MINIMUM_PRODUCTS};\n",
    "SET minimum_orders = {MINIMUM_ORDERS};\n",
    "\n",
    "WITH products_by_user AS (\n",
    "    SELECT\n",
    "        uo.user_id\n",
    "      , COUNT(DISTINCT gtin) as cant_products\n",
    "      , COUNT(DISTINCT uo.order_id) as cant_orders\n",
    "      , MAX(uo.order_id) as last_order_id\n",
    "    FROM \n",
    "      `{data_project_id}.{data_dataset_id}.{data_table_orders}` as uo\n",
    "    JOIN \n",
    "      `{data_project_id}.{data_dataset_id}.{data_table_order_details}` as od\n",
    "    ON \n",
    "      uo.order_id = od.order_id  \n",
    "    WHERE \n",
    "      uo.user_id IS NOT NULL\n",
    "      AND od.gtin IS NOT NULL\n",
    "      AND od.has_gtin = 1\n",
    "    GROUP BY 1\n",
    ")\n",
    "SELECT DISTINCT\n",
    "    uo.user_id\n",
    "  , EXTRACT(DAYOFWEEK FROM uo.timestamp) as dow\n",
    "  , EXTRACT(hour FROM uo.timestamp) as hod\n",
    "  , od.gtin\n",
    "  , IF(od.partner_id IS NULL, -1, od.partner_id) AS partner_id\n",
    "  , IF(pa.category_id IS NULL, -1, pa.category_id) AS category_id\n",
    "  , IF(pa.brand_id IS NULL, -1, pa.brand_id) AS brand_id\n",
    "  , IF(pa.age IS NULL, 1000, pa.age) as age\n",
    "FROM \n",
    "  `{data_project_id}.{data_dataset_id}.{data_table_orders}` as uo\n",
    "JOIN \n",
    "  `{data_project_id}.{data_dataset_id}.{data_table_order_details}` as od\n",
    "ON \n",
    "  uo.order_id = od.order_id\n",
    "LEFT JOIN \n",
    "  products_by_user pbu \n",
    "ON pbu.user_id = uo.user_id\n",
    "LEFT JOIN \n",
    "  `{data_project_id}.{data_dataset_id}.{data_table_products}` as pa\n",
    "ON \n",
    "  pa.gtin = od.gtin\n",
    "WHERE uo.user_id IS NOT NULL\n",
    "  AND od.gtin IS NOT NULL\n",
    "  AND od.has_gtin = 1\n",
    "  AND cant_products >= minimum_products\n",
    "  AND cant_orders >= minimum_orders\n",
    "  AND uo.order_id != pbu.last_order_id \n",
    "\"\"\"\n",
    "\n",
    "user_query_query_test = f\"\"\"\n",
    "DECLARE minimum_products INT64;\n",
    "DECLARE minimum_orders INT64;\n",
    "\n",
    "SET minimum_products = {MINIMUM_PRODUCTS};\n",
    "SET minimum_orders = {MINIMUM_ORDERS};\n",
    "\n",
    "WITH products_by_user AS (\n",
    "    SELECT\n",
    "        uo.user_id\n",
    "      , COUNT(DISTINCT gtin) as cant_products\n",
    "      , COUNT(DISTINCT uo.order_id) as cant_orders\n",
    "      , MAX(uo.order_id) as last_order_id\n",
    "    FROM \n",
    "      `{data_project_id}.{data_dataset_id}.{data_table_orders}` as uo\n",
    "    JOIN \n",
    "      `{data_project_id}.{data_dataset_id}.{data_table_order_details}` as od\n",
    "    ON \n",
    "      uo.order_id = od.order_id  \n",
    "    WHERE \n",
    "      uo.user_id IS NOT NULL\n",
    "      AND od.gtin IS NOT NULL\n",
    "      AND od.has_gtin = 1\n",
    "    GROUP BY 1\n",
    ")\n",
    "SELECT DISTINCT\n",
    "    uo.user_id\n",
    "  , EXTRACT(DAYOFWEEK FROM uo.timestamp) as dow\n",
    "  , EXTRACT(hour FROM uo.timestamp) as hod\n",
    "FROM \n",
    "  `{data_project_id}.{data_dataset_id}.{data_table_orders}` as uo\n",
    "JOIN \n",
    "  `{data_project_id}.{data_dataset_id}.{data_table_order_details}` as od\n",
    "ON \n",
    "  uo.order_id = od.order_id\n",
    "LEFT JOIN \n",
    "  products_by_user pbu \n",
    "ON pbu.user_id = uo.user_id\n",
    "LEFT JOIN \n",
    "  `{data_project_id}.{data_dataset_id}.{data_table_products}` as pa\n",
    "ON \n",
    "  pa.gtin = od.gtin\n",
    "WHERE uo.user_id IS NOT NULL\n",
    "  AND od.gtin IS NOT NULL\n",
    "  AND od.has_gtin = 1\n",
    "  AND cant_products >= minimum_products\n",
    "  AND cant_orders >= minimum_orders\n",
    "  AND uo.order_id = pbu.last_order_id \n",
    "\"\"\""
   ],
   "execution_count": 5,
   "outputs": []
  },
  {
   "cell_type": "code",
   "execution_count": 4,
   "outputs": [],
   "source": [
    "project_id = \"peya-growth-and-onboarding\"  #@param [\"peya-data-analyt-factory-stg\", \"peya-food-and-groceries\", \"peya-growth-and-onboarding\"]\n",
    "client = bigquery.client.Client(project=project_id)\n",
    "bq_storage_client = BigQueryStorageClient()\n",
    "\n",
    "interactions_train = (\n",
    "    client.query(interaction_query_train)\n",
    "        .result()\n",
    "        .to_arrow(bqstorage_client=bq_storage_client)\n",
    "        .to_pandas()\n",
    "        .fillna(-1)\n",
    ")\n",
    "\n",
    "query_test = (\n",
    "    client.query(user_query_query_test)\n",
    "        .result()\n",
    "        .to_arrow(bqstorage_client=bq_storage_client)\n",
    "        .to_pandas()\n",
    "        .fillna(-1)\n",
    ")"
   ],
   "metadata": {
    "collapsed": false,
    "pycharm": {
     "name": "#%%\n"
    }
   }
  },
  {
   "cell_type": "code",
   "metadata": {
    "id": "ApwLr3xEisib",
    "executionInfo": {
     "status": "ok",
     "timestamp": 1635345996597,
     "user_tz": 180,
     "elapsed": 537,
     "user": {
      "displayName": "Patricio Woodley",
      "photoUrl": "https://lh3.googleusercontent.com/a-/AOh14GjWL-Oeo4QuhMc7cDT6gvY7FhIu53OzWis3Z-N6=s64",
      "userId": "15070518986045227274"
     }
    }
   },
   "source": [
    "if not os.path.exists(\"data\"):\n",
    "    os.makedirs(\"data\")"
   ],
   "execution_count": 6,
   "outputs": []
  },
  {
   "cell_type": "code",
   "metadata": {
    "id": "kqTTezdKtIhi",
    "executionInfo": {
     "status": "ok",
     "timestamp": 1635346001158,
     "user_tz": 180,
     "elapsed": 489,
     "user": {
      "displayName": "Patricio Woodley",
      "photoUrl": "https://lh3.googleusercontent.com/a-/AOh14GjWL-Oeo4QuhMc7cDT6gvY7FhIu53OzWis3Z-N6=s64",
      "userId": "15070518986045227274"
     }
    }
   },
   "source": [
    "query_fields = [\n",
    "    'user_id',\n",
    "    'dow',\n",
    "    'hod',\n",
    "]\n",
    "candidate_fields = [\n",
    "    'gtin',\n",
    "    # 'product_name',\n",
    "    # 'partner_id',\n",
    "    # 'partner_name',\n",
    "    'category_id',\n",
    "    'brand_id',\n",
    "    # 'age'\n",
    "]"
   ],
   "execution_count": 7,
   "outputs": []
  },
  {
   "cell_type": "code",
   "metadata": {
    "colab": {
     "base_uri": "https://localhost:8080/"
    },
    "id": "tQS1gtUvkXPH",
    "executionInfo": {
     "status": "ok",
     "timestamp": 1635346044528,
     "user_tz": 180,
     "elapsed": 38915,
     "user": {
      "displayName": "Patricio Woodley",
      "photoUrl": "https://lh3.googleusercontent.com/a-/AOh14GjWL-Oeo4QuhMc7cDT6gvY7FhIu53OzWis3Z-N6=s64",
      "userId": "15070518986045227274"
     }
    },
    "outputId": "9003f9a9-1041-484b-e2c7-f077e078cd95",
    "pycharm": {
     "is_executing": true
    }
   },
   "source": [
    "step = 100_000\n",
    "total_samples = len(interactions_train)\n",
    "for k in range(0, total_samples, step):\n",
    "    interactions_train.loc[k:k + step, query_fields + candidate_fields].to_csv(f\"data/interactions_{k}.csv\",\n",
    "                                                                               index=False)"
   ],
   "execution_count": null,
   "outputs": []
  },
  {
   "cell_type": "code",
   "metadata": {
    "colab": {
     "base_uri": "https://localhost:8080/",
     "height": 423
    },
    "id": "mkzLG47xvD1y",
    "executionInfo": {
     "status": "ok",
     "timestamp": 1635346048915,
     "user_tz": 180,
     "elapsed": 4388,
     "user": {
      "displayName": "Patricio Woodley",
      "photoUrl": "https://lh3.googleusercontent.com/a-/AOh14GjWL-Oeo4QuhMc7cDT6gvY7FhIu53OzWis3Z-N6=s64",
      "userId": "15070518986045227274"
     }
    },
    "outputId": "6f5515fd-4afd-49c8-9de6-151eace7bc0c"
   },
   "source": [
    "queries = interactions_train[query_fields].drop_duplicates()\n",
    "candidates = interactions_train[candidate_fields].drop_duplicates()\n",
    "\n",
    "user_ids = queries['user_id'].unique()\n",
    "user_ids = user_ids[user_ids >= 0]\n",
    "\n",
    "gtin_ids = candidates['gtin'].unique()\n",
    "#product_names = candidates['product_name'].unique()\n",
    "category_ids = candidates['category_id'].unique()\n",
    "category_ids = category_ids[category_ids >= 0]\n",
    "brand_ids = candidates['brand_id'].unique()\n",
    "brand_ids = brand_ids[brand_ids >= 0]\n",
    "# candidates['age'].mean()\n",
    "# candidates['age'].var()\n",
    "candidates"
   ],
   "execution_count": 9,
   "outputs": [
    {
     "output_type": "execute_result",
     "data": {
      "text/html": [
       "<div>\n",
       "<style scoped>\n",
       "    .dataframe tbody tr th:only-of-type {\n",
       "        vertical-align: middle;\n",
       "    }\n",
       "\n",
       "    .dataframe tbody tr th {\n",
       "        vertical-align: top;\n",
       "    }\n",
       "\n",
       "    .dataframe thead th {\n",
       "        text-align: right;\n",
       "    }\n",
       "</style>\n",
       "<table border=\"1\" class=\"dataframe\">\n",
       "  <thead>\n",
       "    <tr style=\"text-align: right;\">\n",
       "      <th></th>\n",
       "      <th>gtin</th>\n",
       "      <th>category_id</th>\n",
       "      <th>brand_id</th>\n",
       "    </tr>\n",
       "  </thead>\n",
       "  <tbody>\n",
       "    <tr>\n",
       "      <th>0</th>\n",
       "      <td>07790240041460</td>\n",
       "      <td>38</td>\n",
       "      <td>1023</td>\n",
       "    </tr>\n",
       "    <tr>\n",
       "      <th>1</th>\n",
       "      <td>07794000597518</td>\n",
       "      <td>124</td>\n",
       "      <td>1306</td>\n",
       "    </tr>\n",
       "    <tr>\n",
       "      <th>2</th>\n",
       "      <td>07792170110568</td>\n",
       "      <td>22</td>\n",
       "      <td>173</td>\n",
       "    </tr>\n",
       "    <tr>\n",
       "      <th>3</th>\n",
       "      <td>00000077958921</td>\n",
       "      <td>123</td>\n",
       "      <td>1690</td>\n",
       "    </tr>\n",
       "    <tr>\n",
       "      <th>4</th>\n",
       "      <td>7790310984529</td>\n",
       "      <td>151</td>\n",
       "      <td>11770</td>\n",
       "    </tr>\n",
       "    <tr>\n",
       "      <th>...</th>\n",
       "      <td>...</td>\n",
       "      <td>...</td>\n",
       "      <td>...</td>\n",
       "    </tr>\n",
       "    <tr>\n",
       "      <th>17057829</th>\n",
       "      <td>7794520865173</td>\n",
       "      <td>-1</td>\n",
       "      <td>-1</td>\n",
       "    </tr>\n",
       "    <tr>\n",
       "      <th>17070694</th>\n",
       "      <td>7790520007957</td>\n",
       "      <td>-1</td>\n",
       "      <td>-1</td>\n",
       "    </tr>\n",
       "    <tr>\n",
       "      <th>17070852</th>\n",
       "      <td>7790742112071</td>\n",
       "      <td>-1</td>\n",
       "      <td>-1</td>\n",
       "    </tr>\n",
       "    <tr>\n",
       "      <th>17076094</th>\n",
       "      <td>7798165590612</td>\n",
       "      <td>-1</td>\n",
       "      <td>-1</td>\n",
       "    </tr>\n",
       "    <tr>\n",
       "      <th>17084939</th>\n",
       "      <td>7798185200065</td>\n",
       "      <td>-1</td>\n",
       "      <td>-1</td>\n",
       "    </tr>\n",
       "  </tbody>\n",
       "</table>\n",
       "<p>40916 rows × 3 columns</p>\n",
       "</div>"
      ],
      "text/plain": [
       "                    gtin  category_id  brand_id\n",
       "0         07790240041460           38      1023\n",
       "1         07794000597518          124      1306\n",
       "2         07792170110568           22       173\n",
       "3         00000077958921          123      1690\n",
       "4          7790310984529          151     11770\n",
       "...                  ...          ...       ...\n",
       "17057829   7794520865173           -1        -1\n",
       "17070694   7790520007957           -1        -1\n",
       "17070852   7790742112071           -1        -1\n",
       "17076094   7798165590612           -1        -1\n",
       "17084939   7798185200065           -1        -1\n",
       "\n",
       "[40916 rows x 3 columns]"
      ]
     },
     "metadata": {},
     "execution_count": 9
    }
   ]
  },
  {
   "cell_type": "code",
   "metadata": {
    "colab": {
     "base_uri": "https://localhost:8080/"
    },
    "id": "kPI2Qfx9kkHj",
    "executionInfo": {
     "status": "ok",
     "timestamp": 1635346072082,
     "user_tz": 180,
     "elapsed": 15527,
     "user": {
      "displayName": "Patricio Woodley",
      "photoUrl": "https://lh3.googleusercontent.com/a-/AOh14GjWL-Oeo4QuhMc7cDT6gvY7FhIu53OzWis3Z-N6=s64",
      "userId": "15070518986045227274"
     }
    },
    "outputId": "8fd73e52-d758-43fc-9407-7340a0897b22"
   },
   "source": [
    "tf.random.set_seed(42)\n",
    "interactions_train_ds = tf.data.experimental.make_csv_dataset(\n",
    "    \"data/interactions*.csv\",\n",
    "    batch_size=8192,\n",
    "    num_epochs=1,\n",
    "    num_parallel_reads=20,\n",
    "    shuffle_buffer_size=10000\n",
    ").prefetch(tf.data.AUTOTUNE).cache().shuffle(100000, seed=42)\n",
    "users_ds = tf.data.Dataset.from_tensor_slices(queries.to_dict(orient=\"list\"))\n",
    "products_ds = tf.data.Dataset.from_tensor_slices(candidates.to_dict(orient=\"list\"))\n",
    "\n",
    "for k in products_ds.take(1).as_numpy_iterator():\n",
    "    print(k)\n",
    "for k in users_ds.take(1).as_numpy_iterator():\n",
    "    print(k)"
   ],
   "execution_count": 11,
   "outputs": [
    {
     "output_type": "stream",
     "name": "stdout",
     "text": [
      "{'gtin': b'07790240041460', 'category_id': 38, 'brand_id': 1023}\n",
      "{'user_id': 792799, 'dow': 1, 'hod': 21}\n"
     ]
    }
   ]
  },
  {
   "cell_type": "code",
   "metadata": {
    "id": "uH01zzrRbLxS",
    "executionInfo": {
     "status": "ok",
     "timestamp": 1635346072083,
     "user_tz": 180,
     "elapsed": 6,
     "user": {
      "displayName": "Patricio Woodley",
      "photoUrl": "https://lh3.googleusercontent.com/a-/AOh14GjWL-Oeo4QuhMc7cDT6gvY7FhIu53OzWis3Z-N6=s64",
      "userId": "15070518986045227274"
     }
    }
   },
   "source": [
    "class QueryModel(tf.keras.Model):\n",
    "\n",
    "    def __init__(self, user_ids: list):\n",
    "        super().__init__()\n",
    "\n",
    "        self.user_embedding = tf.keras.Sequential([\n",
    "            tf.keras.layers.IntegerLookup(vocabulary=user_ids),\n",
    "            tf.keras.layers.Embedding(len(user_ids) + 1, 32)\n",
    "        ])\n",
    "        self.dow_embedding = tf.keras.Sequential([\n",
    "            tf.keras.layers.IntegerLookup(vocabulary=[f\"{k}\" for k in range(7)]),\n",
    "            tf.keras.layers.Embedding(8, 4)\n",
    "        ])\n",
    "        self.hod_embedding = tf.keras.Sequential([\n",
    "            tf.keras.layers.IntegerLookup(vocabulary=[f\"{k}\" for k in range(24)]),\n",
    "            tf.keras.layers.Embedding(25, 4)\n",
    "        ])\n",
    "\n",
    "    def call(self, inputs: Dict[Text, tf.Tensor]):\n",
    "        return tf.concat([\n",
    "            self.user_embedding(inputs[\"user_id\"]),\n",
    "            self.dow_embedding(inputs[\"dow\"]),\n",
    "            self.hod_embedding(inputs[\"hod\"]),\n",
    "        ], axis=1)"
   ],
   "execution_count": 12,
   "outputs": []
  },
  {
   "cell_type": "code",
   "metadata": {
    "id": "Vs5-XI0_xJJa",
    "executionInfo": {
     "status": "ok",
     "timestamp": 1635346072083,
     "user_tz": 180,
     "elapsed": 5,
     "user": {
      "displayName": "Patricio Woodley",
      "photoUrl": "https://lh3.googleusercontent.com/a-/AOh14GjWL-Oeo4QuhMc7cDT6gvY7FhIu53OzWis3Z-N6=s64",
      "userId": "15070518986045227274"
     }
    }
   },
   "source": [
    "class CandidateModel(tf.keras.Model):\n",
    "\n",
    "    def __init__(\n",
    "            self,\n",
    "            gtin_ids: list,\n",
    "            category_ids: list,\n",
    "            brand_ids: list,\n",
    "            age_mean: float = None,\n",
    "            age_var: float = None\n",
    "    ):\n",
    "        super().__init__()\n",
    "\n",
    "        #product_name_tokenizer = tf.keras.layers.TextVectorization()\n",
    "        #product_name_tokenizer.adapt(products_ds.map(lambda x: x[\"product_name\"]))\n",
    "        #self.title_text_embedding = tf.keras.Sequential([\n",
    "        #  product_name_tokenizer,\n",
    "        #  tf.keras.layers.Embedding(input_dim=10_000, output_dim=32, mask_zero=True),\n",
    "        #  tf.keras.layers.GlobalAveragePooling1D(),\n",
    "        #])\n",
    "\n",
    "        self.gtin_embedding = tf.keras.Sequential([\n",
    "            tf.keras.layers.StringLookup(vocabulary=gtin_ids),\n",
    "            tf.keras.layers.Embedding(len(gtin_ids) + 1, 32)\n",
    "        ])\n",
    "\n",
    "        self.category_id_embedding = tf.keras.Sequential([\n",
    "            tf.keras.layers.IntegerLookup(vocabulary=category_ids, mask_token=None),\n",
    "            tf.keras.layers.Embedding(len(category_ids) + 1, 6)\n",
    "        ])\n",
    "\n",
    "        self.brand_id_embedding = tf.keras.Sequential([\n",
    "            tf.keras.layers.IntegerLookup(vocabulary=brand_ids, mask_token=None),\n",
    "            tf.keras.layers.Embedding(len(brand_ids) + 1, 10)\n",
    "        ])\n",
    "\n",
    "        #self.normalized_age = tf.keras.layers.Normalization(mean=age_mean, variance=age_var)\n",
    "\n",
    "    def call(self, inputs: Dict[Text, tf.Tensor]):\n",
    "        return tf.concat([\n",
    "            self.gtin_embedding(inputs[\"gtin\"]),\n",
    "            self.category_id_embedding(inputs[\"category_id\"]),\n",
    "            self.brand_id_embedding(inputs[\"brand_id\"]),\n",
    "            #tf.reshape(self.normalized_age(inputs[\"age\"]), (-1, 1)),\n",
    "        ], axis=1)"
   ],
   "execution_count": 13,
   "outputs": []
  },
  {
   "cell_type": "code",
   "metadata": {
    "id": "AkMbfYUNKXUL",
    "executionInfo": {
     "status": "ok",
     "timestamp": 1635346072084,
     "user_tz": 180,
     "elapsed": 5,
     "user": {
      "displayName": "Patricio Woodley",
      "photoUrl": "https://lh3.googleusercontent.com/a-/AOh14GjWL-Oeo4QuhMc7cDT6gvY7FhIu53OzWis3Z-N6=s64",
      "userId": "15070518986045227274"
     }
    }
   },
   "source": [
    "class MarketsModel(tfrs.models.Model):\n",
    "\n",
    "    def __init__(\n",
    "            self,\n",
    "            query_model: tf.keras.Model,\n",
    "            candidate_model: tf.keras.Model,\n",
    "    ):\n",
    "        super().__init__()\n",
    "        self.query_model = tf.keras.Sequential([\n",
    "            query_model,\n",
    "            tf.keras.layers.Dense(32)\n",
    "        ])\n",
    "        self.candidate_model = tf.keras.Sequential([\n",
    "            candidate_model,\n",
    "            tf.keras.layers.Dense(32)\n",
    "        ])\n",
    "        self.task = tfrs.tasks.Retrieval(\n",
    "            metrics=tfrs.metrics.FactorizedTopK(\n",
    "                candidates=products_ds.batch(128).map(self.candidate_model),\n",
    "            ),\n",
    "        )\n",
    "\n",
    "    def compute_loss(\n",
    "            self,\n",
    "            features: Dict[Text, tf.Tensor],\n",
    "            training=False,\n",
    "    ):\n",
    "        query_embeddings = self.query_model({\n",
    "            \"user_id\": features[\"user_id\"],\n",
    "            \"dow\": features[\"dow\"],\n",
    "            \"hod\": features[\"hod\"],\n",
    "        })\n",
    "        candidate_embeddings = self.candidate_model({\n",
    "            \"gtin\": tf.strings.as_string(features[\"gtin\"]),\n",
    "            \"category_id\": features[\"category_id\"],\n",
    "            \"brand_id\": features[\"brand_id\"],\n",
    "            #\"age\": features[\"age\"],\n",
    "        })\n",
    "        compute_metrics = False if training else True\n",
    "\n",
    "        return self.task(query_embeddings, candidate_embeddings, compute_metrics=compute_metrics)"
   ],
   "execution_count": 14,
   "outputs": []
  },
  {
   "cell_type": "code",
   "metadata": {
    "colab": {
     "base_uri": "https://localhost:8080/"
    },
    "id": "ZUJKrtYpQDhZ",
    "executionInfo": {
     "status": "ok",
     "timestamp": 1635346072947,
     "user_tz": 180,
     "elapsed": 868,
     "user": {
      "displayName": "Patricio Woodley",
      "photoUrl": "https://lh3.googleusercontent.com/a-/AOh14GjWL-Oeo4QuhMc7cDT6gvY7FhIu53OzWis3Z-N6=s64",
      "userId": "15070518986045227274"
     }
    },
    "outputId": "6a69c0a4-d82f-4b26-b802-d3db1f028e98"
   },
   "source": [
    "query_model = QueryModel(user_ids)\n",
    "product_model = CandidateModel(gtin_ids, category_ids, brand_ids)"
   ],
   "execution_count": 15,
   "outputs": [
    {
     "output_type": "stream",
     "name": "stderr",
     "text": [
      "/usr/local/lib/python3.7/dist-packages/numpy/core/numeric.py:2378: FutureWarning: elementwise comparison failed; returning scalar instead, but in the future will perform elementwise comparison\n",
      "  return bool(asarray(a1 == a2).all())\n",
      "/usr/local/lib/python3.7/dist-packages/keras/layers/preprocessing/index_lookup.py:465: FutureWarning: elementwise comparison failed; returning scalar instead, but in the future will perform elementwise comparison\n",
      "  if self.oov_token in tokens:\n"
     ]
    }
   ]
  },
  {
   "cell_type": "code",
   "metadata": {
    "colab": {
     "base_uri": "https://localhost:8080/"
    },
    "id": "jl0ZQq9KqKjj",
    "executionInfo": {
     "elapsed": 5,
     "status": "ok",
     "timestamp": 1635292236863,
     "user": {
      "displayName": "Patricio Woodley",
      "photoUrl": "https://lh3.googleusercontent.com/a-/AOh14GjWL-Oeo4QuhMc7cDT6gvY7FhIu53OzWis3Z-N6=s64",
      "userId": "15070518986045227274"
     },
     "user_tz": 180
    },
    "outputId": "93ffbea7-0711-469b-cda2-fc39e8231eb5"
   },
   "source": [
    "for row in products_ds.batch(2).take(1):\n",
    "    print(row)\n",
    "    print(f\"Computed representations: {product_model(row)[0, :].shape}\")"
   ],
   "execution_count": null,
   "outputs": [
    {
     "name": "stdout",
     "output_type": "stream",
     "text": [
      "{'gtin': <tf.Tensor: shape=(2,), dtype=string, numpy=array([b'07791070005615', b'07792070001102'], dtype=object)>, 'category_id': <tf.Tensor: shape=(2,), dtype=int32, numpy=array([ 83, 103], dtype=int32)>, 'brand_id': <tf.Tensor: shape=(2,), dtype=int32, numpy=array([3863, 8735], dtype=int32)>}\n",
      "Computed representations: (48,)\n"
     ]
    }
   ]
  },
  {
   "cell_type": "code",
   "metadata": {
    "colab": {
     "base_uri": "https://localhost:8080/"
    },
    "id": "hvHhPVX6v5My",
    "executionInfo": {
     "elapsed": 326,
     "status": "ok",
     "timestamp": 1635292237187,
     "user": {
      "displayName": "Patricio Woodley",
      "photoUrl": "https://lh3.googleusercontent.com/a-/AOh14GjWL-Oeo4QuhMc7cDT6gvY7FhIu53OzWis3Z-N6=s64",
      "userId": "15070518986045227274"
     },
     "user_tz": 180
    },
    "outputId": "68bf45bf-acd7-455e-9ea0-4992d0296972"
   },
   "source": [
    "for row in users_ds.batch(2).take(1):\n",
    "    print(row)\n",
    "    print(f\"Computed representations: {query_model(row)[0, :].shape}\")"
   ],
   "execution_count": null,
   "outputs": [
    {
     "name": "stdout",
     "output_type": "stream",
     "text": [
      "{'user_id': <tf.Tensor: shape=(2,), dtype=int32, numpy=array([3450697, 3128488], dtype=int32)>, 'dow': <tf.Tensor: shape=(2,), dtype=int32, numpy=array([1, 6], dtype=int32)>, 'hod': <tf.Tensor: shape=(2,), dtype=int32, numpy=array([11, 18], dtype=int32)>}\n",
      "Computed representations: (40,)\n"
     ]
    }
   ]
  },
  {
   "cell_type": "code",
   "metadata": {
    "colab": {
     "base_uri": "https://localhost:8080/"
    },
    "id": "YApXoYqgkZ3X",
    "executionInfo": {
     "status": "ok",
     "timestamp": 1635346074813,
     "user_tz": 180,
     "elapsed": 534,
     "user": {
      "displayName": "Patricio Woodley",
      "photoUrl": "https://lh3.googleusercontent.com/a-/AOh14GjWL-Oeo4QuhMc7cDT6gvY7FhIu53OzWis3Z-N6=s64",
      "userId": "15070518986045227274"
     }
    },
    "outputId": "e6440cb0-3ed2-49a4-94b2-45345a019bc2"
   },
   "source": [
    "model = MarketsModel(query_model, product_model)\n",
    "model.compile(optimizer=tf.keras.optimizers.Adagrad(0.1))"
   ],
   "execution_count": 16,
   "outputs": [
    {
     "output_type": "stream",
     "name": "stdout",
     "text": [
      "WARNING:tensorflow:Layers in a Sequential model should only have a single input tensor, but we receive a <class 'dict'> input: {'gtin': <tf.Tensor 'args_2:0' shape=(None,) dtype=string>, 'category_id': <tf.Tensor 'args_1:0' shape=(None,) dtype=int32>, 'brand_id': <tf.Tensor 'args_0:0' shape=(None,) dtype=int32>}\n",
      "Consider rewriting this model with the Functional API.\n"
     ]
    }
   ]
  },
  {
   "cell_type": "code",
   "metadata": {
    "colab": {
     "base_uri": "https://localhost:8080/"
    },
    "id": "r9QY2LQwkrYy",
    "executionInfo": {
     "status": "ok",
     "timestamp": 1635346584267,
     "user_tz": 180,
     "elapsed": 509458,
     "user": {
      "displayName": "Patricio Woodley",
      "photoUrl": "https://lh3.googleusercontent.com/a-/AOh14GjWL-Oeo4QuhMc7cDT6gvY7FhIu53OzWis3Z-N6=s64",
      "userId": "15070518986045227274"
     }
    },
    "outputId": "6f866cd9-ab8f-4427-c0df-952958de2667"
   },
   "source": [
    "callback = tf.keras.callbacks.EarlyStopping(monitor='loss', patience=1)\n",
    "\n",
    "history = model.fit(interactions_train_ds, epochs=2, callbacks=[callback])"
   ],
   "execution_count": 17,
   "outputs": [
    {
     "output_type": "stream",
     "name": "stdout",
     "text": [
      "Epoch 1/2\n",
      "WARNING:tensorflow:Layers in a Sequential model should only have a single input tensor, but we receive a <class 'dict'> input: {'user_id': <tf.Tensor 'IteratorGetNext:5' shape=(None,) dtype=int32>, 'dow': <tf.Tensor 'IteratorGetNext:2' shape=(None,) dtype=int32>, 'hod': <tf.Tensor 'IteratorGetNext:4' shape=(None,) dtype=int32>}\n",
      "Consider rewriting this model with the Functional API.\n",
      "WARNING:tensorflow:Layers in a Sequential model should only have a single input tensor, but we receive a <class 'dict'> input: {'gtin': <tf.Tensor 'AsString:0' shape=(None,) dtype=string>, 'category_id': <tf.Tensor 'IteratorGetNext:1' shape=(None,) dtype=int32>, 'brand_id': <tf.Tensor 'IteratorGetNext:0' shape=(None,) dtype=int32>}\n",
      "Consider rewriting this model with the Functional API.\n",
      "WARNING:tensorflow:Layers in a Sequential model should only have a single input tensor, but we receive a <class 'dict'> input: {'user_id': <tf.Tensor 'IteratorGetNext:5' shape=(None,) dtype=int32>, 'dow': <tf.Tensor 'IteratorGetNext:2' shape=(None,) dtype=int32>, 'hod': <tf.Tensor 'IteratorGetNext:4' shape=(None,) dtype=int32>}\n",
      "Consider rewriting this model with the Functional API.\n",
      "WARNING:tensorflow:Layers in a Sequential model should only have a single input tensor, but we receive a <class 'dict'> input: {'gtin': <tf.Tensor 'AsString:0' shape=(None,) dtype=string>, 'category_id': <tf.Tensor 'IteratorGetNext:1' shape=(None,) dtype=int32>, 'brand_id': <tf.Tensor 'IteratorGetNext:0' shape=(None,) dtype=int32>}\n",
      "Consider rewriting this model with the Functional API.\n",
      "2088/2088 [==============================] - 328s 60ms/step - factorized_top_k/top_1_categorical_accuracy: 0.0000e+00 - factorized_top_k/top_5_categorical_accuracy: 0.0000e+00 - factorized_top_k/top_10_categorical_accuracy: 0.0000e+00 - factorized_top_k/top_50_categorical_accuracy: 0.0000e+00 - factorized_top_k/top_100_categorical_accuracy: 0.0000e+00 - loss: 67174.8017 - regularization_loss: 0.0000e+00 - total_loss: 67174.8017\n",
      "Epoch 2/2\n",
      "2088/2088 [==============================] - 126s 60ms/step - factorized_top_k/top_1_categorical_accuracy: 0.0000e+00 - factorized_top_k/top_5_categorical_accuracy: 0.0000e+00 - factorized_top_k/top_10_categorical_accuracy: 0.0000e+00 - factorized_top_k/top_50_categorical_accuracy: 0.0000e+00 - factorized_top_k/top_100_categorical_accuracy: 0.0000e+00 - loss: 63802.8066 - regularization_loss: 0.0000e+00 - total_loss: 63802.8066\n"
     ]
    }
   ]
  },
  {
   "cell_type": "code",
   "metadata": {
    "colab": {
     "base_uri": "https://localhost:8080/",
     "height": 287
    },
    "id": "rs9uI45iR0PT",
    "executionInfo": {
     "status": "ok",
     "timestamp": 1635347343705,
     "user_tz": 180,
     "elapsed": 461,
     "user": {
      "displayName": "Patricio Woodley",
      "photoUrl": "https://lh3.googleusercontent.com/a-/AOh14GjWL-Oeo4QuhMc7cDT6gvY7FhIu53OzWis3Z-N6=s64",
      "userId": "15070518986045227274"
     }
    },
    "outputId": "4ab02157-d2cc-490b-b7c2-52fbe4891b4a"
   },
   "source": [
    "pd.DataFrame(history.history)[\"loss\"].plot()"
   ],
   "execution_count": 18,
   "outputs": [
    {
     "output_type": "execute_result",
     "data": {
      "text/plain": [
       "<matplotlib.axes._subplots.AxesSubplot at 0x7f96400bae90>"
      ]
     },
     "metadata": {},
     "execution_count": 18
    },
    {
     "output_type": "display_data",
     "data": {
      "image/png": "[encoded data removed]",
      "text/plain": [
       "<Figure size 432x288 with 1 Axes>"
      ]
     },
     "metadata": {
      "needs_background": "light"
     }
    }
   ]
  },
  {
   "cell_type": "markdown",
   "metadata": {
    "id": "AzdS16WFKZFr"
   },
   "source": [
    "# Inference\n",
    "## ScaNN\n",
    "Scann is an efficient Nearest neighbor approximation to retrieve the top k product"
   ]
  },
  {
   "cell_type": "code",
   "metadata": {
    "colab": {
     "base_uri": "https://localhost:8080/"
    },
    "id": "ROE2_nWWlwtn",
    "executionInfo": {
     "status": "ok",
     "timestamp": 1635347357481,
     "user_tz": 180,
     "elapsed": 6,
     "user": {
      "displayName": "Patricio Woodley",
      "photoUrl": "https://lh3.googleusercontent.com/a-/AOh14GjWL-Oeo4QuhMc7cDT6gvY7FhIu53OzWis3Z-N6=s64",
      "userId": "15070518986045227274"
     }
    },
    "outputId": "d5086f8d-6190-4b53-87f4-ce05093da830"
   },
   "source": [
    "scann = tfrs.layers.factorized_top_k.ScaNN(model.query_model)\n",
    "scann.index_from_dataset(\n",
    "    tf.data.Dataset.zip(\n",
    "        (products_ds.map(lambda x: x[\"gtin\"]).batch(100), products_ds.batch(100).map(model.candidate_model)))\n",
    ")"
   ],
   "execution_count": 19,
   "outputs": [
    {
     "output_type": "stream",
     "name": "stdout",
     "text": [
      "WARNING:tensorflow:Layers in a Sequential model should only have a single input tensor, but we receive a <class 'dict'> input: {'gtin': <tf.Tensor 'args_2:0' shape=(None,) dtype=string>, 'category_id': <tf.Tensor 'args_1:0' shape=(None,) dtype=int32>, 'brand_id': <tf.Tensor 'args_0:0' shape=(None,) dtype=int32>}\n",
      "Consider rewriting this model with the Functional API.\n"
     ]
    },
    {
     "output_type": "execute_result",
     "data": {
      "text/plain": [
       "<tensorflow_recommenders.layers.factorized_top_k.ScaNN at 0x7f964009e250>"
      ]
     },
     "metadata": {},
     "execution_count": 19
    }
   ]
  },
  {
   "cell_type": "markdown",
   "source": [
    "# Export result to BQ"
   ],
   "metadata": {
    "collapsed": false,
    "pycharm": {
     "name": "#%% md\n"
    }
   }
  },
  {
   "cell_type": "code",
   "metadata": {
    "colab": {
     "base_uri": "https://localhost:8080/",
     "height": 423
    },
    "id": "A1Q5Y3OlAyMd",
    "executionInfo": {
     "status": "ok",
     "timestamp": 1635347384764,
     "user_tz": 180,
     "elapsed": 2969,
     "user": {
      "displayName": "Patricio Woodley",
      "photoUrl": "https://lh3.googleusercontent.com/a-/AOh14GjWL-Oeo4QuhMc7cDT6gvY7FhIu53OzWis3Z-N6=s64",
      "userId": "15070518986045227274"
     }
    },
    "outputId": "90a42760-feb1-42be-d21e-48936f295b26"
   },
   "source": [
    "step = 1000\n",
    "len_queries = query_test.shape[0]\n",
    "partial_result = []\n",
    "\n",
    "for k in range(0, len_queries, step):\n",
    "    sample = query_test.iloc[k:k + step, :].to_dict(orient=\"list\")\n",
    "    rec_score, rec_products = scann({\n",
    "        \"user_id\": tf.convert_to_tensor(sample[\"user_id\"]),\n",
    "        \"dow\": tf.convert_to_tensor(sample[\"dow\"]),\n",
    "        \"hod\": tf.convert_to_tensor(sample[\"hod\"]),\n",
    "    })\n",
    "    partial_result.append([rec_score.numpy(), rec_products.numpy()])\n",
    "\n",
    "recommendation = np.concatenate([k[1] for k in partial_result], axis=0).squeeze()\n",
    "recommendation = (\n",
    "    pd.concat([query_test, pd.DataFrame(recommendation)], axis=1)\n",
    "        .set_index([\"user_id\", \"dow\", \"hod\"])\n",
    "        .stack()\n",
    "        .reset_index()\n",
    ")\n",
    "recommendation.columns = [\"user_id\", \"dow\", \"hod\", \"rank\", \"gtin\"]\n",
    "recommendation['gtin'] = recommendation['gtin'].apply(lambda x: x.decode())\n",
    "\n",
    "recommendation"
   ],
   "execution_count": 21,
   "outputs": [
    {
     "output_type": "execute_result",
     "data": {
      "text/html": [
       "<div>\n",
       "<style scoped>\n",
       "    .dataframe tbody tr th:only-of-type {\n",
       "        vertical-align: middle;\n",
       "    }\n",
       "\n",
       "    .dataframe tbody tr th {\n",
       "        vertical-align: top;\n",
       "    }\n",
       "\n",
       "    .dataframe thead th {\n",
       "        text-align: right;\n",
       "    }\n",
       "</style>\n",
       "<table border=\"1\" class=\"dataframe\">\n",
       "  <thead>\n",
       "    <tr style=\"text-align: right;\">\n",
       "      <th></th>\n",
       "      <th>user_id</th>\n",
       "      <th>dow</th>\n",
       "      <th>hod</th>\n",
       "      <th>rank</th>\n",
       "      <th>gtin</th>\n",
       "    </tr>\n",
       "  </thead>\n",
       "  <tbody>\n",
       "    <tr>\n",
       "      <th>0</th>\n",
       "      <td>16248660</td>\n",
       "      <td>1</td>\n",
       "      <td>1</td>\n",
       "      <td>0</td>\n",
       "      <td>7798016103152</td>\n",
       "    </tr>\n",
       "    <tr>\n",
       "      <th>1</th>\n",
       "      <td>16248660</td>\n",
       "      <td>1</td>\n",
       "      <td>1</td>\n",
       "      <td>1</td>\n",
       "      <td>7793913000184</td>\n",
       "    </tr>\n",
       "    <tr>\n",
       "      <th>2</th>\n",
       "      <td>16248660</td>\n",
       "      <td>1</td>\n",
       "      <td>1</td>\n",
       "      <td>2</td>\n",
       "      <td>2979900002804</td>\n",
       "    </tr>\n",
       "    <tr>\n",
       "      <th>3</th>\n",
       "      <td>16248660</td>\n",
       "      <td>1</td>\n",
       "      <td>1</td>\n",
       "      <td>3</td>\n",
       "      <td>7793890253313</td>\n",
       "    </tr>\n",
       "    <tr>\n",
       "      <th>4</th>\n",
       "      <td>16248660</td>\n",
       "      <td>1</td>\n",
       "      <td>1</td>\n",
       "      <td>4</td>\n",
       "      <td>7790580984106</td>\n",
       "    </tr>\n",
       "    <tr>\n",
       "      <th>...</th>\n",
       "      <td>...</td>\n",
       "      <td>...</td>\n",
       "      <td>...</td>\n",
       "      <td>...</td>\n",
       "      <td>...</td>\n",
       "    </tr>\n",
       "    <tr>\n",
       "      <th>3565805</th>\n",
       "      <td>16608243</td>\n",
       "      <td>4</td>\n",
       "      <td>23</td>\n",
       "      <td>5</td>\n",
       "      <td>2979900005133</td>\n",
       "    </tr>\n",
       "    <tr>\n",
       "      <th>3565806</th>\n",
       "      <td>16608243</td>\n",
       "      <td>4</td>\n",
       "      <td>23</td>\n",
       "      <td>6</td>\n",
       "      <td>70330731806</td>\n",
       "    </tr>\n",
       "    <tr>\n",
       "      <th>3565807</th>\n",
       "      <td>16608243</td>\n",
       "      <td>4</td>\n",
       "      <td>23</td>\n",
       "      <td>7</td>\n",
       "      <td>7790387013252</td>\n",
       "    </tr>\n",
       "    <tr>\n",
       "      <th>3565808</th>\n",
       "      <td>16608243</td>\n",
       "      <td>4</td>\n",
       "      <td>23</td>\n",
       "      <td>8</td>\n",
       "      <td>7792410522717</td>\n",
       "    </tr>\n",
       "    <tr>\n",
       "      <th>3565809</th>\n",
       "      <td>16608243</td>\n",
       "      <td>4</td>\n",
       "      <td>23</td>\n",
       "      <td>9</td>\n",
       "      <td>2979900005164</td>\n",
       "    </tr>\n",
       "  </tbody>\n",
       "</table>\n",
       "<p>3565810 rows × 5 columns</p>\n",
       "</div>"
      ],
      "text/plain": [
       "          user_id  dow  hod  rank           gtin\n",
       "0        16248660    1    1     0  7798016103152\n",
       "1        16248660    1    1     1  7793913000184\n",
       "2        16248660    1    1     2  2979900002804\n",
       "3        16248660    1    1     3  7793890253313\n",
       "4        16248660    1    1     4  7790580984106\n",
       "...           ...  ...  ...   ...            ...\n",
       "3565805  16608243    4   23     5  2979900005133\n",
       "3565806  16608243    4   23     6    70330731806\n",
       "3565807  16608243    4   23     7  7790387013252\n",
       "3565808  16608243    4   23     8  7792410522717\n",
       "3565809  16608243    4   23     9  2979900005164\n",
       "\n",
       "[3565810 rows x 5 columns]"
      ]
     },
     "metadata": {},
     "execution_count": 21
    }
   ]
  },
  {
   "cell_type": "code",
   "metadata": {
    "id": "lYa3G25KLMyI",
    "colab": {
     "base_uri": "https://localhost:8080/"
    },
    "executionInfo": {
     "status": "ok",
     "timestamp": 1635347444077,
     "user_tz": 180,
     "elapsed": 47547,
     "user": {
      "displayName": "Patricio Woodley",
      "photoUrl": "https://lh3.googleusercontent.com/a-/AOh14GjWL-Oeo4QuhMc7cDT6gvY7FhIu53OzWis3Z-N6=s64",
      "userId": "15070518986045227274"
     }
    },
    "outputId": "66e4e753-99bd-4ba1-8e46-7f9d1159284e"
   },
   "source": [
    "result_project_name = \"peya-food-and-groceries\"\n",
    "result_dataset_name = \"user_fiorella_dirosario\"\n",
    "result_table_name = \"recommendation_context_model_category_6_brand_10_epoch_2\"\n",
    "\n",
    "recommendation.to_gbq(\n",
    "    destination_table=f\"{result_dataset_name}.{result_table_name}\",\n",
    "    project_id=result_project_name,\n",
    "    if_exists=\"replace\"\n",
    ")"
   ],
   "execution_count": 22,
   "outputs": [
    {
     "output_type": "stream",
     "name": "stderr",
     "text": [
      "1it [00:46, 46.08s/it]\n"
     ]
    }
   ]
  },
  {
   "cell_type": "markdown",
   "source": [
    "# Saving Models"
   ],
   "metadata": {
    "collapsed": false,
    "pycharm": {
     "name": "#%% md\n"
    }
   }
  },
  {
   "cell_type": "code",
   "metadata": {
    "colab": {
     "base_uri": "https://localhost:8080/"
    },
    "id": "s-JhGXcllgPT",
    "executionInfo": {
     "status": "ok",
     "timestamp": 1635347466639,
     "user_tz": 180,
     "elapsed": 5958,
     "user": {
      "displayName": "Patricio Woodley",
      "photoUrl": "https://lh3.googleusercontent.com/a-/AOh14GjWL-Oeo4QuhMc7cDT6gvY7FhIu53OzWis3Z-N6=s64",
      "userId": "15070518986045227274"
     }
    },
    "outputId": "dd69b48a-0e81-4cf4-d2b6-1f8eb3212731"
   },
   "source": [
    "if IN_COLAB:\n",
    "    ouput_path = \"/content/drive/MyDrive/dataton\"  #@param [\"/content/drive/MyDrive/Colab Notebooks/recsys-dataton/models/\", \"/content/models/\", \"/content/drive/MyDrive/dataton\"]\n",
    "else:\n",
    "    ouput_path = \"../models/\"\n",
    "\n",
    "path = os.path.join(ouput_path, \"context_model_category_6_brand_10_epoch_2\", \"index_model\")\n",
    "if not os.path.exists(path):\n",
    "    os.makedirs(path)\n",
    "tf.saved_model.save(\n",
    "    scann,\n",
    "    path,\n",
    "    options=tf.saved_model.SaveOptions(namespace_whitelist=[\"Scann\"])\n",
    ")"
   ],
   "execution_count": 23,
   "outputs": [
    {
     "output_type": "stream",
     "name": "stdout",
     "text": [
      "WARNING:tensorflow:Layers in a Sequential model should only have a single input tensor, but we receive a <class 'dict'> input: {'user_id': <tf.Tensor 'user_id:0' shape=(None,) dtype=int32>, 'dow': <tf.Tensor 'dow:0' shape=(None,) dtype=int32>, 'hod': <tf.Tensor 'hod:0' shape=(None,) dtype=int32>}\n",
      "Consider rewriting this model with the Functional API.\n",
      "WARNING:tensorflow:Layers in a Sequential model should only have a single input tensor, but we receive a <class 'dict'> input: {'user_id': <tf.Tensor 'inputs_2:0' shape=(None,) dtype=int32>, 'dow': <tf.Tensor 'inputs:0' shape=(None,) dtype=int32>, 'hod': <tf.Tensor 'inputs_1:0' shape=(None,) dtype=int32>}\n",
      "Consider rewriting this model with the Functional API.\n",
      "WARNING:tensorflow:Layers in a Sequential model should only have a single input tensor, but we receive a <class 'dict'> input: {'user_id': <tf.Tensor 'inputs_2:0' shape=(None,) dtype=int32>, 'dow': <tf.Tensor 'inputs:0' shape=(None,) dtype=int32>, 'hod': <tf.Tensor 'inputs_1:0' shape=(None,) dtype=int32>}\n",
      "Consider rewriting this model with the Functional API.\n",
      "WARNING:tensorflow:Layers in a Sequential model should only have a single input tensor, but we receive a <class 'dict'> input: {'user_id': <tf.Tensor 'user_id:0' shape=(None,) dtype=int32>, 'dow': <tf.Tensor 'dow:0' shape=(None,) dtype=int32>, 'hod': <tf.Tensor 'hod:0' shape=(None,) dtype=int32>}\n",
      "Consider rewriting this model with the Functional API.\n",
      "WARNING:tensorflow:Layers in a Sequential model should only have a single input tensor, but we receive a <class 'dict'> input: {'user_id': <tf.Tensor 'user_id:0' shape=(None,) dtype=int32>, 'dow': <tf.Tensor 'dow:0' shape=(None,) dtype=int32>, 'hod': <tf.Tensor 'hod:0' shape=(None,) dtype=int32>}\n",
      "Consider rewriting this model with the Functional API.\n",
      "WARNING:tensorflow:Layers in a Sequential model should only have a single input tensor, but we receive a <class 'dict'> input: {'user_id': <tf.Tensor 'queries/user_id:0' shape=(None,) dtype=int32>, 'dow': <tf.Tensor 'queries/dow:0' shape=(None,) dtype=int32>, 'hod': <tf.Tensor 'queries/hod:0' shape=(None,) dtype=int32>}\n",
      "Consider rewriting this model with the Functional API.\n",
      "WARNING:tensorflow:Layers in a Sequential model should only have a single input tensor, but we receive a <class 'dict'> input: {'user_id': <tf.Tensor 'queries/user_id:0' shape=(None,) dtype=int32>, 'dow': <tf.Tensor 'queries/dow:0' shape=(None,) dtype=int32>, 'hod': <tf.Tensor 'queries/hod:0' shape=(None,) dtype=int32>}\n",
      "Consider rewriting this model with the Functional API.\n",
      "WARNING:tensorflow:Layers in a Sequential model should only have a single input tensor, but we receive a <class 'dict'> input: {'user_id': <tf.Tensor 'user_id:0' shape=(None,) dtype=int32>, 'dow': <tf.Tensor 'dow:0' shape=(None,) dtype=int32>, 'hod': <tf.Tensor 'hod:0' shape=(None,) dtype=int32>}\n",
      "Consider rewriting this model with the Functional API.\n",
      "WARNING:tensorflow:Layers in a Sequential model should only have a single input tensor, but we receive a <class 'dict'> input: {'user_id': <tf.Tensor 'user_id:0' shape=(None,) dtype=int32>, 'dow': <tf.Tensor 'dow:0' shape=(None,) dtype=int32>, 'hod': <tf.Tensor 'hod:0' shape=(None,) dtype=int32>}\n",
      "Consider rewriting this model with the Functional API.\n",
      "WARNING:tensorflow:Layers in a Sequential model should only have a single input tensor, but we receive a <class 'dict'> input: {'user_id': <tf.Tensor 'inputs/user_id:0' shape=(None,) dtype=int32>, 'dow': <tf.Tensor 'inputs/dow:0' shape=(None,) dtype=int32>, 'hod': <tf.Tensor 'inputs/hod:0' shape=(None,) dtype=int32>}\n",
      "Consider rewriting this model with the Functional API.\n",
      "WARNING:tensorflow:Layers in a Sequential model should only have a single input tensor, but we receive a <class 'dict'> input: {'user_id': <tf.Tensor 'inputs/user_id:0' shape=(None,) dtype=int32>, 'dow': <tf.Tensor 'inputs/dow:0' shape=(None,) dtype=int32>, 'hod': <tf.Tensor 'inputs/hod:0' shape=(None,) dtype=int32>}\n",
      "Consider rewriting this model with the Functional API.\n"
     ]
    },
    {
     "output_type": "stream",
     "name": "stderr",
     "text": [
      "WARNING:absl:Found untraced functions such as query_with_exclusions while saving (showing 1 of 1). These functions will not be directly callable after loading.\n"
     ]
    },
    {
     "output_type": "stream",
     "name": "stdout",
     "text": [
      "INFO:tensorflow:Assets written to: /content/drive/MyDrive/dataton/contex_index/assets\n"
     ]
    },
    {
     "output_type": "stream",
     "name": "stderr",
     "text": [
      "INFO:tensorflow:Assets written to: /content/drive/MyDrive/dataton/contex_index/assets\n"
     ]
    }
   ]
  },
  {
   "cell_type": "code",
   "metadata": {
    "colab": {
     "base_uri": "https://localhost:8080/"
    },
    "id": "35KwsEsbLSop",
    "executionInfo": {
     "status": "ok",
     "timestamp": 1635347473931,
     "user_tz": 180,
     "elapsed": 5326,
     "user": {
      "displayName": "Patricio Woodley",
      "photoUrl": "https://lh3.googleusercontent.com/a-/AOh14GjWL-Oeo4QuhMc7cDT6gvY7FhIu53OzWis3Z-N6=s64",
      "userId": "15070518986045227274"
     }
    },
    "outputId": "6f85393e-7cad-48e4-c7ee-4b919cb81906"
   },
   "source": [
    "query_model_path = os.path.join(ouput_path, \"context_model_category_6_brand_10_epoch_2\", \"query_model\")\n",
    "if not os.path.exists(query_model_path):\n",
    "    os.makedirs(query_model_path)\n",
    "model.query_model.save(query_model_path)"
   ],
   "execution_count": 24,
   "outputs": [
    {
     "output_type": "stream",
     "name": "stdout",
     "text": [
      "WARNING:tensorflow:Layers in a Sequential model should only have a single input tensor, but we receive a <class 'dict'> input: {'user_id': <tf.Tensor 'user_id:0' shape=(None,) dtype=int32>, 'dow': <tf.Tensor 'dow:0' shape=(None,) dtype=int32>, 'hod': <tf.Tensor 'hod:0' shape=(None,) dtype=int32>}\n",
      "Consider rewriting this model with the Functional API.\n"
     ]
    },
    {
     "output_type": "stream",
     "name": "stderr",
     "text": [
      "WARNING:tensorflow:Layers in a Sequential model should only have a single input tensor, but we receive a <class 'dict'> input: {'user_id': <tf.Tensor 'user_id:0' shape=(None,) dtype=int32>, 'dow': <tf.Tensor 'dow:0' shape=(None,) dtype=int32>, 'hod': <tf.Tensor 'hod:0' shape=(None,) dtype=int32>}\n",
      "Consider rewriting this model with the Functional API.\n"
     ]
    },
    {
     "output_type": "stream",
     "name": "stdout",
     "text": [
      "WARNING:tensorflow:Layers in a Sequential model should only have a single input tensor, but we receive a <class 'dict'> input: {'user_id': <tf.Tensor 'inputs_2:0' shape=(None,) dtype=int32>, 'dow': <tf.Tensor 'inputs:0' shape=(None,) dtype=int32>, 'hod': <tf.Tensor 'inputs_1:0' shape=(None,) dtype=int32>}\n",
      "Consider rewriting this model with the Functional API.\n"
     ]
    },
    {
     "output_type": "stream",
     "name": "stderr",
     "text": [
      "WARNING:tensorflow:Layers in a Sequential model should only have a single input tensor, but we receive a <class 'dict'> input: {'user_id': <tf.Tensor 'inputs_2:0' shape=(None,) dtype=int32>, 'dow': <tf.Tensor 'inputs:0' shape=(None,) dtype=int32>, 'hod': <tf.Tensor 'inputs_1:0' shape=(None,) dtype=int32>}\n",
      "Consider rewriting this model with the Functional API.\n"
     ]
    },
    {
     "output_type": "stream",
     "name": "stdout",
     "text": [
      "WARNING:tensorflow:Layers in a Sequential model should only have a single input tensor, but we receive a <class 'dict'> input: {'user_id': <tf.Tensor 'inputs_2:0' shape=(None,) dtype=int32>, 'dow': <tf.Tensor 'inputs:0' shape=(None,) dtype=int32>, 'hod': <tf.Tensor 'inputs_1:0' shape=(None,) dtype=int32>}\n",
      "Consider rewriting this model with the Functional API.\n"
     ]
    },
    {
     "output_type": "stream",
     "name": "stderr",
     "text": [
      "WARNING:tensorflow:Layers in a Sequential model should only have a single input tensor, but we receive a <class 'dict'> input: {'user_id': <tf.Tensor 'inputs_2:0' shape=(None,) dtype=int32>, 'dow': <tf.Tensor 'inputs:0' shape=(None,) dtype=int32>, 'hod': <tf.Tensor 'inputs_1:0' shape=(None,) dtype=int32>}\n",
      "Consider rewriting this model with the Functional API.\n"
     ]
    },
    {
     "output_type": "stream",
     "name": "stdout",
     "text": [
      "WARNING:tensorflow:Layers in a Sequential model should only have a single input tensor, but we receive a <class 'dict'> input: {'user_id': <tf.Tensor 'user_id:0' shape=(None,) dtype=int32>, 'dow': <tf.Tensor 'dow:0' shape=(None,) dtype=int32>, 'hod': <tf.Tensor 'hod:0' shape=(None,) dtype=int32>}\n",
      "Consider rewriting this model with the Functional API.\n"
     ]
    },
    {
     "output_type": "stream",
     "name": "stderr",
     "text": [
      "WARNING:tensorflow:Layers in a Sequential model should only have a single input tensor, but we receive a <class 'dict'> input: {'user_id': <tf.Tensor 'user_id:0' shape=(None,) dtype=int32>, 'dow': <tf.Tensor 'dow:0' shape=(None,) dtype=int32>, 'hod': <tf.Tensor 'hod:0' shape=(None,) dtype=int32>}\n",
      "Consider rewriting this model with the Functional API.\n"
     ]
    },
    {
     "output_type": "stream",
     "name": "stdout",
     "text": [
      "WARNING:tensorflow:Layers in a Sequential model should only have a single input tensor, but we receive a <class 'dict'> input: {'user_id': <tf.Tensor 'user_id:0' shape=(None,) dtype=int32>, 'dow': <tf.Tensor 'dow:0' shape=(None,) dtype=int32>, 'hod': <tf.Tensor 'hod:0' shape=(None,) dtype=int32>}\n",
      "Consider rewriting this model with the Functional API.\n"
     ]
    },
    {
     "output_type": "stream",
     "name": "stderr",
     "text": [
      "WARNING:tensorflow:Layers in a Sequential model should only have a single input tensor, but we receive a <class 'dict'> input: {'user_id': <tf.Tensor 'user_id:0' shape=(None,) dtype=int32>, 'dow': <tf.Tensor 'dow:0' shape=(None,) dtype=int32>, 'hod': <tf.Tensor 'hod:0' shape=(None,) dtype=int32>}\n",
      "Consider rewriting this model with the Functional API.\n"
     ]
    },
    {
     "output_type": "stream",
     "name": "stdout",
     "text": [
      "WARNING:tensorflow:Layers in a Sequential model should only have a single input tensor, but we receive a <class 'dict'> input: {'user_id': <tf.Tensor 'inputs/user_id:0' shape=(None,) dtype=int32>, 'dow': <tf.Tensor 'inputs/dow:0' shape=(None,) dtype=int32>, 'hod': <tf.Tensor 'inputs/hod:0' shape=(None,) dtype=int32>}\n",
      "Consider rewriting this model with the Functional API.\n"
     ]
    },
    {
     "output_type": "stream",
     "name": "stderr",
     "text": [
      "WARNING:tensorflow:Layers in a Sequential model should only have a single input tensor, but we receive a <class 'dict'> input: {'user_id': <tf.Tensor 'inputs/user_id:0' shape=(None,) dtype=int32>, 'dow': <tf.Tensor 'inputs/dow:0' shape=(None,) dtype=int32>, 'hod': <tf.Tensor 'inputs/hod:0' shape=(None,) dtype=int32>}\n",
      "Consider rewriting this model with the Functional API.\n"
     ]
    },
    {
     "output_type": "stream",
     "name": "stdout",
     "text": [
      "WARNING:tensorflow:Layers in a Sequential model should only have a single input tensor, but we receive a <class 'dict'> input: {'user_id': <tf.Tensor 'inputs/user_id:0' shape=(None,) dtype=int32>, 'dow': <tf.Tensor 'inputs/dow:0' shape=(None,) dtype=int32>, 'hod': <tf.Tensor 'inputs/hod:0' shape=(None,) dtype=int32>}\n",
      "Consider rewriting this model with the Functional API.\n"
     ]
    },
    {
     "output_type": "stream",
     "name": "stderr",
     "text": [
      "WARNING:tensorflow:Layers in a Sequential model should only have a single input tensor, but we receive a <class 'dict'> input: {'user_id': <tf.Tensor 'inputs/user_id:0' shape=(None,) dtype=int32>, 'dow': <tf.Tensor 'inputs/dow:0' shape=(None,) dtype=int32>, 'hod': <tf.Tensor 'inputs/hod:0' shape=(None,) dtype=int32>}\n",
      "Consider rewriting this model with the Functional API.\n"
     ]
    },
    {
     "output_type": "stream",
     "name": "stdout",
     "text": [
      "INFO:tensorflow:Assets written to: /content/drive/MyDrive/dataton/contex_model/query_model/assets\n"
     ]
    },
    {
     "output_type": "stream",
     "name": "stderr",
     "text": [
      "INFO:tensorflow:Assets written to: /content/drive/MyDrive/dataton/contex_model/query_model/assets\n"
     ]
    }
   ]
  },
  {
   "cell_type": "code",
   "metadata": {
    "id": "GX4vb3RanBgm",
    "colab": {
     "base_uri": "https://localhost:8080/"
    },
    "executionInfo": {
     "status": "ok",
     "timestamp": 1635347479598,
     "user_tz": 180,
     "elapsed": 4431,
     "user": {
      "displayName": "Patricio Woodley",
      "photoUrl": "https://lh3.googleusercontent.com/a-/AOh14GjWL-Oeo4QuhMc7cDT6gvY7FhIu53OzWis3Z-N6=s64",
      "userId": "15070518986045227274"
     }
    },
    "outputId": "7e6df7b6-ad8b-4ec2-ba45-9a9bcf516d94"
   },
   "source": [
    "candidate_model_path = os.path.join(ouput_path, \"context_model_category_6_brand_10_epoch_2\", \"candidate_model\")\n",
    "\n",
    "if not os.path.exists(candidate_model_path):\n",
    "    os.makedirs(candidate_model_path)\n",
    "model.candidate_model.save(candidate_model_path)"
   ],
   "execution_count": 25,
   "outputs": [
    {
     "output_type": "stream",
     "name": "stdout",
     "text": [
      "WARNING:tensorflow:Layers in a Sequential model should only have a single input tensor, but we receive a <class 'dict'> input: {'gtin': <tf.Tensor 'gtin:0' shape=(None,) dtype=string>, 'category_id': <tf.Tensor 'category_id:0' shape=(None,) dtype=int32>, 'brand_id': <tf.Tensor 'brand_id:0' shape=(None,) dtype=int32>}\n",
      "Consider rewriting this model with the Functional API.\n"
     ]
    },
    {
     "output_type": "stream",
     "name": "stderr",
     "text": [
      "WARNING:tensorflow:Layers in a Sequential model should only have a single input tensor, but we receive a <class 'dict'> input: {'gtin': <tf.Tensor 'gtin:0' shape=(None,) dtype=string>, 'category_id': <tf.Tensor 'category_id:0' shape=(None,) dtype=int32>, 'brand_id': <tf.Tensor 'brand_id:0' shape=(None,) dtype=int32>}\n",
      "Consider rewriting this model with the Functional API.\n"
     ]
    },
    {
     "output_type": "stream",
     "name": "stdout",
     "text": [
      "WARNING:tensorflow:Layers in a Sequential model should only have a single input tensor, but we receive a <class 'dict'> input: {'gtin': <tf.Tensor 'inputs_2:0' shape=(None,) dtype=string>, 'category_id': <tf.Tensor 'inputs_1:0' shape=(None,) dtype=int32>, 'brand_id': <tf.Tensor 'inputs:0' shape=(None,) dtype=int32>}\n",
      "Consider rewriting this model with the Functional API.\n"
     ]
    },
    {
     "output_type": "stream",
     "name": "stderr",
     "text": [
      "WARNING:tensorflow:Layers in a Sequential model should only have a single input tensor, but we receive a <class 'dict'> input: {'gtin': <tf.Tensor 'inputs_2:0' shape=(None,) dtype=string>, 'category_id': <tf.Tensor 'inputs_1:0' shape=(None,) dtype=int32>, 'brand_id': <tf.Tensor 'inputs:0' shape=(None,) dtype=int32>}\n",
      "Consider rewriting this model with the Functional API.\n"
     ]
    },
    {
     "output_type": "stream",
     "name": "stdout",
     "text": [
      "WARNING:tensorflow:Layers in a Sequential model should only have a single input tensor, but we receive a <class 'dict'> input: {'gtin': <tf.Tensor 'inputs_2:0' shape=(None,) dtype=string>, 'category_id': <tf.Tensor 'inputs_1:0' shape=(None,) dtype=int32>, 'brand_id': <tf.Tensor 'inputs:0' shape=(None,) dtype=int32>}\n",
      "Consider rewriting this model with the Functional API.\n"
     ]
    },
    {
     "output_type": "stream",
     "name": "stderr",
     "text": [
      "WARNING:tensorflow:Layers in a Sequential model should only have a single input tensor, but we receive a <class 'dict'> input: {'gtin': <tf.Tensor 'inputs_2:0' shape=(None,) dtype=string>, 'category_id': <tf.Tensor 'inputs_1:0' shape=(None,) dtype=int32>, 'brand_id': <tf.Tensor 'inputs:0' shape=(None,) dtype=int32>}\n",
      "Consider rewriting this model with the Functional API.\n"
     ]
    },
    {
     "output_type": "stream",
     "name": "stdout",
     "text": [
      "WARNING:tensorflow:Layers in a Sequential model should only have a single input tensor, but we receive a <class 'dict'> input: {'gtin': <tf.Tensor 'gtin:0' shape=(None,) dtype=string>, 'category_id': <tf.Tensor 'category_id:0' shape=(None,) dtype=int32>, 'brand_id': <tf.Tensor 'brand_id:0' shape=(None,) dtype=int32>}\n",
      "Consider rewriting this model with the Functional API.\n"
     ]
    },
    {
     "output_type": "stream",
     "name": "stderr",
     "text": [
      "WARNING:tensorflow:Layers in a Sequential model should only have a single input tensor, but we receive a <class 'dict'> input: {'gtin': <tf.Tensor 'gtin:0' shape=(None,) dtype=string>, 'category_id': <tf.Tensor 'category_id:0' shape=(None,) dtype=int32>, 'brand_id': <tf.Tensor 'brand_id:0' shape=(None,) dtype=int32>}\n",
      "Consider rewriting this model with the Functional API.\n"
     ]
    },
    {
     "output_type": "stream",
     "name": "stdout",
     "text": [
      "WARNING:tensorflow:Layers in a Sequential model should only have a single input tensor, but we receive a <class 'dict'> input: {'gtin': <tf.Tensor 'gtin:0' shape=(None,) dtype=string>, 'category_id': <tf.Tensor 'category_id:0' shape=(None,) dtype=int32>, 'brand_id': <tf.Tensor 'brand_id:0' shape=(None,) dtype=int32>}\n",
      "Consider rewriting this model with the Functional API.\n"
     ]
    },
    {
     "output_type": "stream",
     "name": "stderr",
     "text": [
      "WARNING:tensorflow:Layers in a Sequential model should only have a single input tensor, but we receive a <class 'dict'> input: {'gtin': <tf.Tensor 'gtin:0' shape=(None,) dtype=string>, 'category_id': <tf.Tensor 'category_id:0' shape=(None,) dtype=int32>, 'brand_id': <tf.Tensor 'brand_id:0' shape=(None,) dtype=int32>}\n",
      "Consider rewriting this model with the Functional API.\n"
     ]
    },
    {
     "output_type": "stream",
     "name": "stdout",
     "text": [
      "WARNING:tensorflow:Layers in a Sequential model should only have a single input tensor, but we receive a <class 'dict'> input: {'gtin': <tf.Tensor 'inputs/gtin:0' shape=(None,) dtype=string>, 'category_id': <tf.Tensor 'inputs/category_id:0' shape=(None,) dtype=int32>, 'brand_id': <tf.Tensor 'inputs/brand_id:0' shape=(None,) dtype=int32>}\n",
      "Consider rewriting this model with the Functional API.\n"
     ]
    },
    {
     "output_type": "stream",
     "name": "stderr",
     "text": [
      "WARNING:tensorflow:Layers in a Sequential model should only have a single input tensor, but we receive a <class 'dict'> input: {'gtin': <tf.Tensor 'inputs/gtin:0' shape=(None,) dtype=string>, 'category_id': <tf.Tensor 'inputs/category_id:0' shape=(None,) dtype=int32>, 'brand_id': <tf.Tensor 'inputs/brand_id:0' shape=(None,) dtype=int32>}\n",
      "Consider rewriting this model with the Functional API.\n"
     ]
    },
    {
     "output_type": "stream",
     "name": "stdout",
     "text": [
      "WARNING:tensorflow:Layers in a Sequential model should only have a single input tensor, but we receive a <class 'dict'> input: {'gtin': <tf.Tensor 'inputs/gtin:0' shape=(None,) dtype=string>, 'category_id': <tf.Tensor 'inputs/category_id:0' shape=(None,) dtype=int32>, 'brand_id': <tf.Tensor 'inputs/brand_id:0' shape=(None,) dtype=int32>}\n",
      "Consider rewriting this model with the Functional API.\n"
     ]
    },
    {
     "output_type": "stream",
     "name": "stderr",
     "text": [
      "WARNING:tensorflow:Layers in a Sequential model should only have a single input tensor, but we receive a <class 'dict'> input: {'gtin': <tf.Tensor 'inputs/gtin:0' shape=(None,) dtype=string>, 'category_id': <tf.Tensor 'inputs/category_id:0' shape=(None,) dtype=int32>, 'brand_id': <tf.Tensor 'inputs/brand_id:0' shape=(None,) dtype=int32>}\n",
      "Consider rewriting this model with the Functional API.\n"
     ]
    },
    {
     "output_type": "stream",
     "name": "stdout",
     "text": [
      "INFO:tensorflow:Assets written to: /content/drive/MyDrive/dataton/contex_model/candidate_model/assets\n"
     ]
    },
    {
     "output_type": "stream",
     "name": "stderr",
     "text": [
      "INFO:tensorflow:Assets written to: /content/drive/MyDrive/dataton/contex_model/candidate_model/assets\n"
     ]
    }
   ]
  }
 ]
}