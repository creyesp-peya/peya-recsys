{
 "nbformat": 4,
 "nbformat_minor": 0,
 "metadata": {
  "colab": {
   "name": "TFRS_two_tower_model_with_context_simple.ipynb",
   "provenance": [],
   "collapsed_sections": [],
   "authorship_tag": "ABX9TyM8X2AJ6VcIep1N66jwFQXU"
  },
  "kernelspec": {
   "display_name": "Python 3",
   "name": "python3"
  },
  "language_info": {
   "name": "python"
  },
  "accelerator": "GPU"
 },
 "cells": [
  {
   "cell_type": "code",
   "metadata": {
    "colab": {
     "base_uri": "https://localhost:8080/"
    },
    "id": "A8X6C6EKELSb",
    "executionInfo": {
     "status": "ok",
     "timestamp": 1635287975475,
     "user_tz": 180,
     "elapsed": 43237,
     "user": {
      "displayName": "Cesar Reyes",
      "photoUrl": "https://lh3.googleusercontent.com/a-/AOh14GivCEktqhpVTBc89dTYts8q4--6-tXOlPrzRm22=s64",
      "userId": "04702276980078964785"
     }
    },
    "outputId": "5a5f7db7-09d5-4aa2-8f5b-72320ae494fd"
   },
   "source": [
    "try:\n",
    "    from google.colab import auth\n",
    "    from google.colab import drive\n",
    "\n",
    "    auth.authenticate_user()\n",
    "    print('Authenticated')\n",
    "    drive.mount('/content/drive')\n",
    "\n",
    "    !pip install -q tensorflow-recommenders\n",
    "    !pip install -q scann\n",
    "except:\n",
    "    IN_COLAB = False"
   ],
   "execution_count": null,
   "outputs": [
    {
     "output_type": "stream",
     "name": "stdout",
     "text": [
      "Authenticated\n",
      "Mounted at /content/drive\n"
     ]
    }
   ]
  },
  {
   "cell_type": "code",
   "metadata": {
    "id": "u4x9Z7GAkVqI"
   },
   "source": [
    "from typing import Dict, Text\n",
    "import os\n",
    "\n",
    "from google.cloud import bigquery\n",
    "from google.cloud.bigquery_storage_v1beta1 import BigQueryStorageClient\n",
    "import numpy as np\n",
    "import pandas as pd\n",
    "import tensorflow as tf\n",
    "import tensorflow_recommenders as tfrs"
   ],
   "execution_count": null,
   "outputs": []
  },
  {
   "cell_type": "markdown",
   "source": [
    "# Dataset\n",
    "We use the interaction between user ans product for user that has at least 2 orders to build a model"
   ],
   "metadata": {
    "collapsed": false,
    "pycharm": {
     "name": "#%% md\n"
    }
   }
  },
  {
   "cell_type": "code",
   "metadata": {
    "id": "mCsi-ZfduN8I"
   },
   "source": [
    "MINIMUM_PRODUCTS = 5\n",
    "MINIMUM_ORDERS = 2\n",
    "data_project_id = \"peya-food-and-groceries\"\n",
    "data_dataset_id = \"user_fiorella_dirosario\"\n",
    "data_table_orders = \"order_sep2020_sep2021\"\n",
    "data_table_order_details = \"order_details_sep2020_sep2021\"\n",
    "data_table_users = \"attributes_sep2020_sep2021\"\n",
    "data_table_products = \"product_attributes_sep2020_sep2021\"\n",
    "\n",
    "interaction_query_train = f\"\"\"\n",
    "DECLARE minimum_products INT64;\n",
    "DECLARE minimum_orders INT64;\n",
    "\n",
    "SET minimum_products = {MINIMUM_PRODUCTS};\n",
    "SET minimum_orders = {MINIMUM_ORDERS};\n",
    "\n",
    "WITH products_by_user AS (\n",
    "    SELECT\n",
    "        uo.user_id\n",
    "      , COUNT(DISTINCT gtin) as cant_products\n",
    "      , COUNT(DISTINCT uo.order_id) as cant_orders\n",
    "      , MAX(uo.order_id) as last_order_id\n",
    "    FROM \n",
    "      `{data_project_id}.{data_dataset_id}.{data_table_orders}` as uo\n",
    "    JOIN \n",
    "      `{data_project_id}.{data_dataset_id}.{data_table_order_details}` as od\n",
    "    ON \n",
    "      uo.order_id = od.order_id  \n",
    "    WHERE \n",
    "      uo.user_id IS NOT NULL\n",
    "      AND od.gtin IS NOT NULL\n",
    "      AND od.has_gtin = 1\n",
    "    GROUP BY 1\n",
    ")\n",
    "SELECT DISTINCT\n",
    "    uo.user_id\n",
    "  , EXTRACT(DAYOFWEEK FROM uo.timestamp) as dow\n",
    "  , EXTRACT(hour FROM uo.timestamp) as hod\n",
    "  , od.gtin\n",
    "  , IF(od.partner_id IS NULL, -1, od.partner_id) AS partner_id\n",
    "  , IF(pa.category_id IS NULL, -1, pa.category_id) AS category_id\n",
    "  , IF(pa.brand_id IS NULL, -1, pa.brand_id) AS brand_id\n",
    "  , IF(pa.age IS NULL, 1000, pa.age) as age\n",
    "FROM \n",
    "  `{data_project_id}.{data_dataset_id}.{data_table_orders}` as uo\n",
    "JOIN \n",
    "  `{data_project_id}.{data_dataset_id}.{data_table_order_details}` as od\n",
    "ON \n",
    "  uo.order_id = od.order_id\n",
    "LEFT JOIN \n",
    "  products_by_user pbu \n",
    "ON pbu.user_id = uo.user_id\n",
    "LEFT JOIN \n",
    "  `{data_project_id}.{data_dataset_id}.{data_table_products}` as pa\n",
    "ON \n",
    "  pa.gtin = od.gtin\n",
    "WHERE uo.user_id IS NOT NULL\n",
    "  AND od.gtin IS NOT NULL\n",
    "  AND od.has_gtin = 1\n",
    "  AND cant_products >= minimum_products\n",
    "  AND cant_orders >= minimum_orders\n",
    "  AND uo.order_id != pbu.last_order_id \n",
    "\"\"\"\n",
    "\n",
    "user_query_query_test = f\"\"\"\n",
    "DECLARE minimum_products INT64;\n",
    "DECLARE minimum_orders INT64;\n",
    "\n",
    "SET minimum_products = {MINIMUM_PRODUCTS};\n",
    "SET minimum_orders = {MINIMUM_ORDERS};\n",
    "\n",
    "WITH products_by_user AS (\n",
    "    SELECT\n",
    "        uo.user_id\n",
    "      , COUNT(DISTINCT gtin) as cant_products\n",
    "      , COUNT(DISTINCT uo.order_id) as cant_orders\n",
    "      , MAX(uo.order_id) as last_order_id\n",
    "    FROM \n",
    "      `{data_project_id}.{data_dataset_id}.{data_table_orders}` as uo\n",
    "    JOIN \n",
    "      `{data_project_id}.{data_dataset_id}.{data_table_order_details}` as od\n",
    "    ON \n",
    "      uo.order_id = od.order_id  \n",
    "    WHERE \n",
    "      uo.user_id IS NOT NULL\n",
    "      AND od.gtin IS NOT NULL\n",
    "      AND od.has_gtin = 1\n",
    "    GROUP BY 1\n",
    ")\n",
    "SELECT DISTINCT\n",
    "    uo.user_id\n",
    "  , EXTRACT(DAYOFWEEK FROM uo.timestamp) as dow\n",
    "  , EXTRACT(hour FROM uo.timestamp) as hod\n",
    "FROM \n",
    "  `{data_project_id}.{data_dataset_id}.{data_table_orders}` as uo\n",
    "JOIN \n",
    "  `{data_project_id}.{data_dataset_id}.{data_table_order_details}` as od\n",
    "ON \n",
    "  uo.order_id = od.order_id\n",
    "LEFT JOIN \n",
    "  products_by_user pbu \n",
    "ON pbu.user_id = uo.user_id\n",
    "LEFT JOIN \n",
    "  `{data_project_id}.{data_dataset_id}.{data_table_products}` as pa\n",
    "ON \n",
    "  pa.gtin = od.gtin\n",
    "WHERE uo.user_id IS NOT NULL\n",
    "  AND od.gtin IS NOT NULL\n",
    "  AND od.has_gtin = 1\n",
    "  AND cant_products >= minimum_products\n",
    "  AND cant_orders >= minimum_orders\n",
    "  AND uo.order_id = pbu.last_order_id \n",
    "\"\"\""
   ],
   "execution_count": null,
   "outputs": []
  },
  {
   "cell_type": "code",
   "execution_count": null,
   "outputs": [],
   "source": [
    "project_id = \"peya-data-analyt-factory-stg\"  #@param [\"peya-data-analyt-factory-stg\", \"peya-food-and-groceries\", \"peya-growth-and-onboarding\"]\n",
    "client = bigquery.client.Client(project=project_id)\n",
    "bq_storage_client = BigQueryStorageClient()\n",
    "\n",
    "interactions_train = (\n",
    "    client.query(interaction_query_train)\n",
    "        .result()\n",
    "        .to_arrow(bqstorage_client=bq_storage_client)\n",
    "        .to_pandas()\n",
    "        .fillna(-1)\n",
    ")\n",
    "\n",
    "query_test = (\n",
    "    client.query(user_query_query_test)\n",
    "        .result()\n",
    "        .to_arrow(bqstorage_client=bq_storage_client)\n",
    "        .to_pandas()\n",
    "        .fillna(-1)\n",
    ")"
   ],
   "metadata": {
    "collapsed": false,
    "pycharm": {
     "name": "#%%\n"
    }
   }
  },
  {
   "cell_type": "code",
   "metadata": {
    "id": "ApwLr3xEisib"
   },
   "source": [
    "if not os.path.exists(\"data\"):\n",
    "    os.makedirs(\"data\")"
   ],
   "execution_count": null,
   "outputs": []
  },
  {
   "cell_type": "code",
   "metadata": {
    "id": "kqTTezdKtIhi"
   },
   "source": [
    "query_fields = [\n",
    "    'user_id',\n",
    "    'dow',\n",
    "    'hod',\n",
    "]\n",
    "candidate_fields = [\n",
    "    'gtin',\n",
    "]"
   ],
   "execution_count": null,
   "outputs": []
  },
  {
   "cell_type": "code",
   "metadata": {
    "id": "tQS1gtUvkXPH"
   },
   "source": [
    "step = 100_000\n",
    "total_samples = len(interactions_train)\n",
    "for k in range(0, total_samples, step):\n",
    "    interactions_train.loc[k:k + step, query_fields + candidate_fields].to_csv(f\"data/interactions_{k}.csv\",\n",
    "                                                                               index=False)\n"
   ],
   "execution_count": null,
   "outputs": []
  },
  {
   "cell_type": "code",
   "metadata": {
    "colab": {
     "base_uri": "https://localhost:8080/"
    },
    "id": "kugw7oAxZoy2",
    "executionInfo": {
     "status": "ok",
     "timestamp": 1635288028523,
     "user_tz": 180,
     "elapsed": 49,
     "user": {
      "displayName": "Cesar Reyes",
      "photoUrl": "https://lh3.googleusercontent.com/a-/AOh14GivCEktqhpVTBc89dTYts8q4--6-tXOlPrzRm22=s64",
      "userId": "04702276980078964785"
     }
    },
    "outputId": "2c596673-48df-4423-fed1-c143c03dd1ab"
   },
   "source": [
    "!head / content / data / interactions_0.csv"
   ],
   "execution_count": null,
   "outputs": [
    {
     "output_type": "stream",
     "name": "stdout",
     "text": [
      "user_id,dow,hod,gtin\n",
      "23743004,6,12,07790117002839\n",
      "16313177,5,10,07798159716684\n",
      "13990635,5,15,07500435133388\n",
      "20111860,3,10,07790703165207\n",
      "22725221,3,11,08480017191335\n",
      "20437176,2,11,07790060100194\n",
      "2689042,7,14,07794000003378\n",
      "24756742,4,11,07791905002413\n",
      "21531879,6,18,07792798002337\n"
     ]
    }
   ]
  },
  {
   "cell_type": "code",
   "metadata": {
    "id": "mkzLG47xvD1y"
   },
   "source": [
    "queries = interactions_train[query_fields].drop_duplicates()\n",
    "candidates = interactions_train[candidate_fields].drop_duplicates()\n",
    "\n",
    "user_ids = queries['user_id'].unique()\n",
    "user_ids = user_ids[user_ids >= 0]\n",
    "gtin_ids = candidates['gtin'].unique()"
   ],
   "execution_count": null,
   "outputs": []
  },
  {
   "cell_type": "code",
   "metadata": {
    "colab": {
     "base_uri": "https://localhost:8080/"
    },
    "id": "kPI2Qfx9kkHj",
    "executionInfo": {
     "status": "ok",
     "timestamp": 1635288049623,
     "user_tz": 180,
     "elapsed": 14342,
     "user": {
      "displayName": "Cesar Reyes",
      "photoUrl": "https://lh3.googleusercontent.com/a-/AOh14GivCEktqhpVTBc89dTYts8q4--6-tXOlPrzRm22=s64",
      "userId": "04702276980078964785"
     }
    },
    "outputId": "764fd121-1196-49a9-bead-26835ed929bf"
   },
   "source": [
    "tf.random.set_seed(42)\n",
    "interactions_train_ds = tf.data.experimental.make_csv_dataset(\n",
    "    \"data/interactions*.csv\",\n",
    "    batch_size=8192,\n",
    "    num_epochs=1,\n",
    "    num_parallel_reads=20,\n",
    "    shuffle_buffer_size=10000\n",
    ").prefetch(tf.data.AUTOTUNE).cache().shuffle(100000, seed=42)\n",
    "users_ds = tf.data.Dataset.from_tensor_slices(queries.to_dict(orient=\"list\"))\n",
    "products_ds = tf.data.Dataset.from_tensor_slices(candidates.to_dict(orient=\"list\"))\n",
    "\n",
    "for k in products_ds.take(1).as_numpy_iterator():\n",
    "    print(k)\n",
    "for k in users_ds.take(1).as_numpy_iterator():\n",
    "    print(k)"
   ],
   "execution_count": null,
   "outputs": [
    {
     "output_type": "stream",
     "name": "stdout",
     "text": [
      "{'gtin': b'07790117002839'}\n",
      "{'user_id': 23743004, 'dow': 6, 'hod': 12}\n"
     ]
    }
   ]
  },
  {
   "cell_type": "markdown",
   "source": [
    "# Modeling - Context model simple\n",
    "In this experiment we build a two tower model with 2 inputs, query and candidates. In this version we only add mode context in query tower using user_id, day of week and hour of the day.\n",
    "\n",
    "\n",
    "<img src=\"https://1.bp.blogspot.com/-ww8cKT3nIb8/X2pdWAWWNmI/AAAAAAAADl8/pkeFRxizkXYbDGbOcaAnZkorjEuqtrabgCLcBGAsYHQ/s0/TF%2BRecommenders%2B06.gif\" width=500>"
   ],
   "metadata": {
    "collapsed": false,
    "pycharm": {
     "name": "#%% md\n"
    }
   }
  },
  {
   "cell_type": "code",
   "metadata": {
    "id": "uH01zzrRbLxS"
   },
   "source": [
    "class QueryModel(tf.keras.Model):\n",
    "\n",
    "    def __init__(self, user_ids: list):\n",
    "        super().__init__()\n",
    "\n",
    "        self.user_embedding = tf.keras.Sequential([\n",
    "            tf.keras.layers.IntegerLookup(vocabulary=user_ids),\n",
    "            tf.keras.layers.Embedding(len(user_ids) + 1, 32)\n",
    "        ])\n",
    "        self.dow_embedding = tf.keras.Sequential([\n",
    "            tf.keras.layers.IntegerLookup(vocabulary=[f\"{k}\" for k in range(7)]),\n",
    "            tf.keras.layers.Embedding(8, 4)\n",
    "        ])\n",
    "        self.hod_embedding = tf.keras.Sequential([\n",
    "            tf.keras.layers.IntegerLookup(vocabulary=[f\"{k}\" for k in range(24)]),\n",
    "            tf.keras.layers.Embedding(25, 4)\n",
    "        ])\n",
    "\n",
    "    def call(self, inputs: Dict[Text, tf.Tensor]):\n",
    "        return tf.concat([\n",
    "            self.user_embedding(inputs[\"user_id\"]),\n",
    "            self.dow_embedding(inputs[\"dow\"]),\n",
    "            self.hod_embedding(inputs[\"hod\"]),\n",
    "        ], axis=1)"
   ],
   "execution_count": null,
   "outputs": []
  },
  {
   "cell_type": "code",
   "metadata": {
    "id": "Vs5-XI0_xJJa"
   },
   "source": [
    "class CandidateModel(tf.keras.Model):\n",
    "\n",
    "    def __init__(self, gtin_ids):\n",
    "        super().__init__()\n",
    "\n",
    "        self.gtin_embedding = tf.keras.Sequential([\n",
    "            tf.keras.layers.StringLookup(vocabulary=gtin_ids),\n",
    "            tf.keras.layers.Embedding(len(gtin_ids) + 1, 32)\n",
    "        ])\n",
    "\n",
    "    def call(self, inputs: Dict[Text, tf.Tensor]):\n",
    "        return self.gtin_embedding(inputs[\"gtin\"])"
   ],
   "execution_count": null,
   "outputs": []
  },
  {
   "cell_type": "code",
   "metadata": {
    "id": "AkMbfYUNKXUL"
   },
   "source": [
    "class MarketsModel(tfrs.models.Model):\n",
    "\n",
    "    def __init__(\n",
    "            self,\n",
    "            query_model: tf.keras.Model,\n",
    "            candidate_model: tf.keras.Model,\n",
    "    ):\n",
    "        super().__init__()\n",
    "        self.query_model = tf.keras.Sequential([\n",
    "            query_model,\n",
    "            tf.keras.layers.Dense(32)\n",
    "        ])\n",
    "        self.candidate_model = tf.keras.Sequential([\n",
    "            candidate_model,\n",
    "            tf.keras.layers.Dense(32)\n",
    "        ])\n",
    "        self.task = tfrs.tasks.Retrieval(\n",
    "            metrics=tfrs.metrics.FactorizedTopK(\n",
    "                candidates=products_ds.batch(128).map(self.candidate_model),\n",
    "            ),\n",
    "        )\n",
    "\n",
    "    def compute_loss(\n",
    "            self,\n",
    "            features: Dict[Text, tf.Tensor],\n",
    "            training=False,\n",
    "    ):\n",
    "        query_embeddings = self.query_model({\n",
    "            \"user_id\": features[\"user_id\"],\n",
    "            \"dow\": features[\"dow\"],\n",
    "            \"hod\": features[\"hod\"],\n",
    "        })\n",
    "        candidate_embeddings = self.candidate_model({\"gtin\": tf.strings.as_string(features[\"gtin\"])})\n",
    "        compute_metrics = False if training else True\n",
    "\n",
    "        return self.task(query_embeddings, candidate_embeddings, compute_metrics=compute_metrics)"
   ],
   "execution_count": null,
   "outputs": []
  },
  {
   "cell_type": "code",
   "metadata": {
    "colab": {
     "base_uri": "https://localhost:8080/"
    },
    "id": "ZUJKrtYpQDhZ",
    "executionInfo": {
     "status": "ok",
     "timestamp": 1635294521216,
     "user_tz": 180,
     "elapsed": 515,
     "user": {
      "displayName": "Cesar Reyes",
      "photoUrl": "https://lh3.googleusercontent.com/a-/AOh14GivCEktqhpVTBc89dTYts8q4--6-tXOlPrzRm22=s64",
      "userId": "04702276980078964785"
     }
    },
    "outputId": "10251e8a-4686-4957-b520-c9a335fb9833"
   },
   "source": [
    "query_model = QueryModel(user_ids)\n",
    "product_model = CandidateModel(gtin_ids)"
   ],
   "execution_count": 83,
   "outputs": [
    {
     "output_type": "stream",
     "name": "stderr",
     "text": [
      "/usr/local/lib/python3.7/dist-packages/numpy/core/numeric.py:2378: FutureWarning: elementwise comparison failed; returning scalar instead, but in the future will perform elementwise comparison\n",
      "  return bool(asarray(a1 == a2).all())\n",
      "/usr/local/lib/python3.7/dist-packages/keras/layers/preprocessing/index_lookup.py:465: FutureWarning: elementwise comparison failed; returning scalar instead, but in the future will perform elementwise comparison\n",
      "  if self.oov_token in tokens:\n"
     ]
    }
   ]
  },
  {
   "cell_type": "code",
   "metadata": {
    "colab": {
     "base_uri": "https://localhost:8080/"
    },
    "id": "jl0ZQq9KqKjj",
    "executionInfo": {
     "status": "ok",
     "timestamp": 1635294521623,
     "user_tz": 180,
     "elapsed": 16,
     "user": {
      "displayName": "Cesar Reyes",
      "photoUrl": "https://lh3.googleusercontent.com/a-/AOh14GivCEktqhpVTBc89dTYts8q4--6-tXOlPrzRm22=s64",
      "userId": "04702276980078964785"
     }
    },
    "outputId": "19143ba2-5063-4a5a-bd28-c2b9ffd42d0b"
   },
   "source": [
    "for row in products_ds.batch(2).take(1):\n",
    "    print(row)\n",
    "    print(f\"Computed representations: {product_model(row)[0, :].shape}\")"
   ],
   "execution_count": 84,
   "outputs": [
    {
     "output_type": "stream",
     "name": "stdout",
     "text": [
      "{'gtin': <tf.Tensor: shape=(2,), dtype=string, numpy=array([b'07790117002839', b'07798159716684'], dtype=object)>}\n",
      "Computed representations: (32,)\n"
     ]
    }
   ]
  },
  {
   "cell_type": "code",
   "metadata": {
    "colab": {
     "base_uri": "https://localhost:8080/"
    },
    "id": "hvHhPVX6v5My",
    "executionInfo": {
     "status": "ok",
     "timestamp": 1635294521927,
     "user_tz": 180,
     "elapsed": 15,
     "user": {
      "displayName": "Cesar Reyes",
      "photoUrl": "https://lh3.googleusercontent.com/a-/AOh14GivCEktqhpVTBc89dTYts8q4--6-tXOlPrzRm22=s64",
      "userId": "04702276980078964785"
     }
    },
    "outputId": "adf2209a-2a17-4d74-d304-34a8c90c6f0c"
   },
   "source": [
    "for row in users_ds.batch(2).take(1):\n",
    "    print(row)\n",
    "    print(f\"Computed representations: {query_model(row)[0, :].shape}\")"
   ],
   "execution_count": 85,
   "outputs": [
    {
     "output_type": "stream",
     "name": "stdout",
     "text": [
      "{'user_id': <tf.Tensor: shape=(2,), dtype=int32, numpy=array([23743004, 16313177], dtype=int32)>, 'dow': <tf.Tensor: shape=(2,), dtype=int32, numpy=array([6, 5], dtype=int32)>, 'hod': <tf.Tensor: shape=(2,), dtype=int32, numpy=array([12, 10], dtype=int32)>}\n",
      "Computed representations: (40,)\n"
     ]
    }
   ]
  },
  {
   "cell_type": "code",
   "metadata": {
    "colab": {
     "base_uri": "https://localhost:8080/"
    },
    "id": "YApXoYqgkZ3X",
    "executionInfo": {
     "status": "ok",
     "timestamp": 1635294524167,
     "user_tz": 180,
     "elapsed": 7,
     "user": {
      "displayName": "Cesar Reyes",
      "photoUrl": "https://lh3.googleusercontent.com/a-/AOh14GivCEktqhpVTBc89dTYts8q4--6-tXOlPrzRm22=s64",
      "userId": "04702276980078964785"
     }
    },
    "outputId": "d2ef7a88-7129-4350-eee9-3e7f14e25eb9"
   },
   "source": [
    "lr_schedule = tf.keras.optimizers.schedules.ExponentialDecay(\n",
    "    initial_learning_rate=1e-2,\n",
    "    decay_steps=1000,\n",
    "    decay_rate=0.9)\n",
    "\n",
    "model = MarketsModel(query_model, product_model)\n",
    "model.compile(optimizer=tf.keras.optimizers.Adam(lr_schedule))"
   ],
   "execution_count": 86,
   "outputs": [
    {
     "output_type": "stream",
     "name": "stdout",
     "text": [
      "WARNING:tensorflow:Layers in a Sequential model should only have a single input tensor, but we receive a <class 'dict'> input: {'gtin': <tf.Tensor 'args_0:0' shape=(None,) dtype=string>}\n",
      "Consider rewriting this model with the Functional API.\n"
     ]
    },
    {
     "output_type": "stream",
     "name": "stderr",
     "text": [
      "WARNING:tensorflow:Layers in a Sequential model should only have a single input tensor, but we receive a <class 'dict'> input: {'gtin': <tf.Tensor 'args_0:0' shape=(None,) dtype=string>}\n",
      "Consider rewriting this model with the Functional API.\n"
     ]
    }
   ]
  },
  {
   "cell_type": "code",
   "metadata": {
    "colab": {
     "base_uri": "https://localhost:8080/"
    },
    "id": "r9QY2LQwkrYy",
    "executionInfo": {
     "status": "ok",
     "timestamp": 1635296406375,
     "user_tz": 180,
     "elapsed": 1881098,
     "user": {
      "displayName": "Cesar Reyes",
      "photoUrl": "https://lh3.googleusercontent.com/a-/AOh14GivCEktqhpVTBc89dTYts8q4--6-tXOlPrzRm22=s64",
      "userId": "04702276980078964785"
     }
    },
    "outputId": "af0b66af-94ca-4144-f5f4-cc28ad582350"
   },
   "source": [
    "history = model.fit(\n",
    "    interactions_train_ds,\n",
    "    callbacks=[tf.keras.callbacks.EarlyStopping(monitor='loss', patience=5)],\n",
    "    epochs=50)"
   ],
   "execution_count": 87,
   "outputs": [
    {
     "output_type": "stream",
     "name": "stdout",
     "text": [
      "Epoch 1/50\n",
      "WARNING:tensorflow:Layers in a Sequential model should only have a single input tensor, but we receive a <class 'dict'> input: {'user_id': <tf.Tensor 'IteratorGetNext:3' shape=(None,) dtype=int32>, 'dow': <tf.Tensor 'IteratorGetNext:0' shape=(None,) dtype=int32>, 'hod': <tf.Tensor 'IteratorGetNext:2' shape=(None,) dtype=int32>}\n",
      "Consider rewriting this model with the Functional API.\n"
     ]
    },
    {
     "output_type": "stream",
     "name": "stderr",
     "text": [
      "WARNING:tensorflow:Layers in a Sequential model should only have a single input tensor, but we receive a <class 'dict'> input: {'user_id': <tf.Tensor 'IteratorGetNext:3' shape=(None,) dtype=int32>, 'dow': <tf.Tensor 'IteratorGetNext:0' shape=(None,) dtype=int32>, 'hod': <tf.Tensor 'IteratorGetNext:2' shape=(None,) dtype=int32>}\n",
      "Consider rewriting this model with the Functional API.\n"
     ]
    },
    {
     "output_type": "stream",
     "name": "stdout",
     "text": [
      "WARNING:tensorflow:Layers in a Sequential model should only have a single input tensor, but we receive a <class 'dict'> input: {'gtin': <tf.Tensor 'AsString:0' shape=(None,) dtype=string>}\n",
      "Consider rewriting this model with the Functional API.\n"
     ]
    },
    {
     "output_type": "stream",
     "name": "stderr",
     "text": [
      "WARNING:tensorflow:Layers in a Sequential model should only have a single input tensor, but we receive a <class 'dict'> input: {'gtin': <tf.Tensor 'AsString:0' shape=(None,) dtype=string>}\n",
      "Consider rewriting this model with the Functional API.\n"
     ]
    },
    {
     "output_type": "stream",
     "name": "stdout",
     "text": [
      "WARNING:tensorflow:Layers in a Sequential model should only have a single input tensor, but we receive a <class 'dict'> input: {'user_id': <tf.Tensor 'IteratorGetNext:3' shape=(None,) dtype=int32>, 'dow': <tf.Tensor 'IteratorGetNext:0' shape=(None,) dtype=int32>, 'hod': <tf.Tensor 'IteratorGetNext:2' shape=(None,) dtype=int32>}\n",
      "Consider rewriting this model with the Functional API.\n"
     ]
    },
    {
     "output_type": "stream",
     "name": "stderr",
     "text": [
      "WARNING:tensorflow:Layers in a Sequential model should only have a single input tensor, but we receive a <class 'dict'> input: {'user_id': <tf.Tensor 'IteratorGetNext:3' shape=(None,) dtype=int32>, 'dow': <tf.Tensor 'IteratorGetNext:0' shape=(None,) dtype=int32>, 'hod': <tf.Tensor 'IteratorGetNext:2' shape=(None,) dtype=int32>}\n",
      "Consider rewriting this model with the Functional API.\n"
     ]
    },
    {
     "output_type": "stream",
     "name": "stdout",
     "text": [
      "WARNING:tensorflow:Layers in a Sequential model should only have a single input tensor, but we receive a <class 'dict'> input: {'gtin': <tf.Tensor 'AsString:0' shape=(None,) dtype=string>}\n",
      "Consider rewriting this model with the Functional API.\n"
     ]
    },
    {
     "output_type": "stream",
     "name": "stderr",
     "text": [
      "WARNING:tensorflow:Layers in a Sequential model should only have a single input tensor, but we receive a <class 'dict'> input: {'gtin': <tf.Tensor 'AsString:0' shape=(None,) dtype=string>}\n",
      "Consider rewriting this model with the Functional API.\n"
     ]
    },
    {
     "output_type": "stream",
     "name": "stdout",
     "text": [
      "2088/2088 [==============================] - 43s 20ms/step - factorized_top_k/top_1_categorical_accuracy: 0.0000e+00 - factorized_top_k/top_5_categorical_accuracy: 0.0000e+00 - factorized_top_k/top_10_categorical_accuracy: 0.0000e+00 - factorized_top_k/top_50_categorical_accuracy: 0.0000e+00 - factorized_top_k/top_100_categorical_accuracy: 0.0000e+00 - loss: 68654.3686 - regularization_loss: 0.0000e+00 - total_loss: 68654.3686\n",
      "Epoch 2/50\n",
      "2088/2088 [==============================] - 43s 20ms/step - factorized_top_k/top_1_categorical_accuracy: 0.0000e+00 - factorized_top_k/top_5_categorical_accuracy: 0.0000e+00 - factorized_top_k/top_10_categorical_accuracy: 0.0000e+00 - factorized_top_k/top_50_categorical_accuracy: 0.0000e+00 - factorized_top_k/top_100_categorical_accuracy: 0.0000e+00 - loss: 65234.0902 - regularization_loss: 0.0000e+00 - total_loss: 65234.0902\n",
      "Epoch 3/50\n",
      "2088/2088 [==============================] - 43s 20ms/step - factorized_top_k/top_1_categorical_accuracy: 0.0000e+00 - factorized_top_k/top_5_categorical_accuracy: 0.0000e+00 - factorized_top_k/top_10_categorical_accuracy: 0.0000e+00 - factorized_top_k/top_50_categorical_accuracy: 0.0000e+00 - factorized_top_k/top_100_categorical_accuracy: 0.0000e+00 - loss: 63863.8650 - regularization_loss: 0.0000e+00 - total_loss: 63863.8650\n",
      "Epoch 4/50\n",
      "2088/2088 [==============================] - 42s 20ms/step - factorized_top_k/top_1_categorical_accuracy: 0.0000e+00 - factorized_top_k/top_5_categorical_accuracy: 0.0000e+00 - factorized_top_k/top_10_categorical_accuracy: 0.0000e+00 - factorized_top_k/top_50_categorical_accuracy: 0.0000e+00 - factorized_top_k/top_100_categorical_accuracy: 0.0000e+00 - loss: 63091.2115 - regularization_loss: 0.0000e+00 - total_loss: 63091.2115\n",
      "Epoch 5/50\n",
      "2088/2088 [==============================] - 43s 20ms/step - factorized_top_k/top_1_categorical_accuracy: 0.0000e+00 - factorized_top_k/top_5_categorical_accuracy: 0.0000e+00 - factorized_top_k/top_10_categorical_accuracy: 0.0000e+00 - factorized_top_k/top_50_categorical_accuracy: 0.0000e+00 - factorized_top_k/top_100_categorical_accuracy: 0.0000e+00 - loss: 62577.8419 - regularization_loss: 0.0000e+00 - total_loss: 62577.8419\n",
      "Epoch 6/50\n",
      "2088/2088 [==============================] - 43s 20ms/step - factorized_top_k/top_1_categorical_accuracy: 0.0000e+00 - factorized_top_k/top_5_categorical_accuracy: 0.0000e+00 - factorized_top_k/top_10_categorical_accuracy: 0.0000e+00 - factorized_top_k/top_50_categorical_accuracy: 0.0000e+00 - factorized_top_k/top_100_categorical_accuracy: 0.0000e+00 - loss: 62199.8749 - regularization_loss: 0.0000e+00 - total_loss: 62199.8749\n",
      "Epoch 7/50\n",
      "2088/2088 [==============================] - 42s 20ms/step - factorized_top_k/top_1_categorical_accuracy: 0.0000e+00 - factorized_top_k/top_5_categorical_accuracy: 0.0000e+00 - factorized_top_k/top_10_categorical_accuracy: 0.0000e+00 - factorized_top_k/top_50_categorical_accuracy: 0.0000e+00 - factorized_top_k/top_100_categorical_accuracy: 0.0000e+00 - loss: 61893.1332 - regularization_loss: 0.0000e+00 - total_loss: 61893.1332\n",
      "Epoch 8/50\n",
      "2088/2088 [==============================] - 43s 20ms/step - factorized_top_k/top_1_categorical_accuracy: 0.0000e+00 - factorized_top_k/top_5_categorical_accuracy: 0.0000e+00 - factorized_top_k/top_10_categorical_accuracy: 0.0000e+00 - factorized_top_k/top_50_categorical_accuracy: 0.0000e+00 - factorized_top_k/top_100_categorical_accuracy: 0.0000e+00 - loss: 61648.4357 - regularization_loss: 0.0000e+00 - total_loss: 61648.4357\n",
      "Epoch 9/50\n",
      "2088/2088 [==============================] - 43s 20ms/step - factorized_top_k/top_1_categorical_accuracy: 0.0000e+00 - factorized_top_k/top_5_categorical_accuracy: 0.0000e+00 - factorized_top_k/top_10_categorical_accuracy: 0.0000e+00 - factorized_top_k/top_50_categorical_accuracy: 0.0000e+00 - factorized_top_k/top_100_categorical_accuracy: 0.0000e+00 - loss: 61455.7376 - regularization_loss: 0.0000e+00 - total_loss: 61455.7376\n",
      "Epoch 10/50\n",
      "2088/2088 [==============================] - 43s 20ms/step - factorized_top_k/top_1_categorical_accuracy: 0.0000e+00 - factorized_top_k/top_5_categorical_accuracy: 0.0000e+00 - factorized_top_k/top_10_categorical_accuracy: 0.0000e+00 - factorized_top_k/top_50_categorical_accuracy: 0.0000e+00 - factorized_top_k/top_100_categorical_accuracy: 0.0000e+00 - loss: 61300.2906 - regularization_loss: 0.0000e+00 - total_loss: 61300.2906\n",
      "Epoch 11/50\n",
      "2088/2088 [==============================] - 43s 20ms/step - factorized_top_k/top_1_categorical_accuracy: 0.0000e+00 - factorized_top_k/top_5_categorical_accuracy: 0.0000e+00 - factorized_top_k/top_10_categorical_accuracy: 0.0000e+00 - factorized_top_k/top_50_categorical_accuracy: 0.0000e+00 - factorized_top_k/top_100_categorical_accuracy: 0.0000e+00 - loss: 61174.9136 - regularization_loss: 0.0000e+00 - total_loss: 61174.9136\n",
      "Epoch 12/50\n",
      "2088/2088 [==============================] - 43s 21ms/step - factorized_top_k/top_1_categorical_accuracy: 0.0000e+00 - factorized_top_k/top_5_categorical_accuracy: 0.0000e+00 - factorized_top_k/top_10_categorical_accuracy: 0.0000e+00 - factorized_top_k/top_50_categorical_accuracy: 0.0000e+00 - factorized_top_k/top_100_categorical_accuracy: 0.0000e+00 - loss: 61072.5118 - regularization_loss: 0.0000e+00 - total_loss: 61072.5118\n",
      "Epoch 13/50\n",
      "2088/2088 [==============================] - 43s 20ms/step - factorized_top_k/top_1_categorical_accuracy: 0.0000e+00 - factorized_top_k/top_5_categorical_accuracy: 0.0000e+00 - factorized_top_k/top_10_categorical_accuracy: 0.0000e+00 - factorized_top_k/top_50_categorical_accuracy: 0.0000e+00 - factorized_top_k/top_100_categorical_accuracy: 0.0000e+00 - loss: 60989.1970 - regularization_loss: 0.0000e+00 - total_loss: 60989.1970\n",
      "Epoch 14/50\n",
      "2088/2088 [==============================] - 43s 21ms/step - factorized_top_k/top_1_categorical_accuracy: 0.0000e+00 - factorized_top_k/top_5_categorical_accuracy: 0.0000e+00 - factorized_top_k/top_10_categorical_accuracy: 0.0000e+00 - factorized_top_k/top_50_categorical_accuracy: 0.0000e+00 - factorized_top_k/top_100_categorical_accuracy: 0.0000e+00 - loss: 60921.1254 - regularization_loss: 0.0000e+00 - total_loss: 60921.1254\n",
      "Epoch 15/50\n",
      "2088/2088 [==============================] - 43s 21ms/step - factorized_top_k/top_1_categorical_accuracy: 0.0000e+00 - factorized_top_k/top_5_categorical_accuracy: 0.0000e+00 - factorized_top_k/top_10_categorical_accuracy: 0.0000e+00 - factorized_top_k/top_50_categorical_accuracy: 0.0000e+00 - factorized_top_k/top_100_categorical_accuracy: 0.0000e+00 - loss: 60865.3552 - regularization_loss: 0.0000e+00 - total_loss: 60865.3552\n",
      "Epoch 16/50\n",
      "2088/2088 [==============================] - 43s 21ms/step - factorized_top_k/top_1_categorical_accuracy: 0.0000e+00 - factorized_top_k/top_5_categorical_accuracy: 0.0000e+00 - factorized_top_k/top_10_categorical_accuracy: 0.0000e+00 - factorized_top_k/top_50_categorical_accuracy: 0.0000e+00 - factorized_top_k/top_100_categorical_accuracy: 0.0000e+00 - loss: 60819.9705 - regularization_loss: 0.0000e+00 - total_loss: 60819.9705\n",
      "Epoch 17/50\n",
      "2088/2088 [==============================] - 43s 21ms/step - factorized_top_k/top_1_categorical_accuracy: 0.0000e+00 - factorized_top_k/top_5_categorical_accuracy: 0.0000e+00 - factorized_top_k/top_10_categorical_accuracy: 0.0000e+00 - factorized_top_k/top_50_categorical_accuracy: 0.0000e+00 - factorized_top_k/top_100_categorical_accuracy: 0.0000e+00 - loss: 60783.6806 - regularization_loss: 0.0000e+00 - total_loss: 60783.6806\n",
      "Epoch 18/50\n",
      "2088/2088 [==============================] - 44s 21ms/step - factorized_top_k/top_1_categorical_accuracy: 0.0000e+00 - factorized_top_k/top_5_categorical_accuracy: 0.0000e+00 - factorized_top_k/top_10_categorical_accuracy: 0.0000e+00 - factorized_top_k/top_50_categorical_accuracy: 0.0000e+00 - factorized_top_k/top_100_categorical_accuracy: 0.0000e+00 - loss: 60753.5589 - regularization_loss: 0.0000e+00 - total_loss: 60753.5589\n",
      "Epoch 19/50\n",
      "2088/2088 [==============================] - 44s 21ms/step - factorized_top_k/top_1_categorical_accuracy: 0.0000e+00 - factorized_top_k/top_5_categorical_accuracy: 0.0000e+00 - factorized_top_k/top_10_categorical_accuracy: 0.0000e+00 - factorized_top_k/top_50_categorical_accuracy: 0.0000e+00 - factorized_top_k/top_100_categorical_accuracy: 0.0000e+00 - loss: 60729.3897 - regularization_loss: 0.0000e+00 - total_loss: 60729.3897\n",
      "Epoch 20/50\n",
      "2088/2088 [==============================] - 44s 21ms/step - factorized_top_k/top_1_categorical_accuracy: 0.0000e+00 - factorized_top_k/top_5_categorical_accuracy: 0.0000e+00 - factorized_top_k/top_10_categorical_accuracy: 0.0000e+00 - factorized_top_k/top_50_categorical_accuracy: 0.0000e+00 - factorized_top_k/top_100_categorical_accuracy: 0.0000e+00 - loss: 60709.7360 - regularization_loss: 0.0000e+00 - total_loss: 60709.7360\n",
      "Epoch 21/50\n",
      "2088/2088 [==============================] - 44s 21ms/step - factorized_top_k/top_1_categorical_accuracy: 0.0000e+00 - factorized_top_k/top_5_categorical_accuracy: 0.0000e+00 - factorized_top_k/top_10_categorical_accuracy: 0.0000e+00 - factorized_top_k/top_50_categorical_accuracy: 0.0000e+00 - factorized_top_k/top_100_categorical_accuracy: 0.0000e+00 - loss: 60694.4745 - regularization_loss: 0.0000e+00 - total_loss: 60694.4745\n",
      "Epoch 22/50\n",
      "2088/2088 [==============================] - 44s 21ms/step - factorized_top_k/top_1_categorical_accuracy: 0.0000e+00 - factorized_top_k/top_5_categorical_accuracy: 0.0000e+00 - factorized_top_k/top_10_categorical_accuracy: 0.0000e+00 - factorized_top_k/top_50_categorical_accuracy: 0.0000e+00 - factorized_top_k/top_100_categorical_accuracy: 0.0000e+00 - loss: 60681.4992 - regularization_loss: 0.0000e+00 - total_loss: 60681.4992\n",
      "Epoch 23/50\n",
      "2088/2088 [==============================] - 44s 21ms/step - factorized_top_k/top_1_categorical_accuracy: 0.0000e+00 - factorized_top_k/top_5_categorical_accuracy: 0.0000e+00 - factorized_top_k/top_10_categorical_accuracy: 0.0000e+00 - factorized_top_k/top_50_categorical_accuracy: 0.0000e+00 - factorized_top_k/top_100_categorical_accuracy: 0.0000e+00 - loss: 60670.9988 - regularization_loss: 0.0000e+00 - total_loss: 60670.9988\n",
      "Epoch 24/50\n",
      "2088/2088 [==============================] - 44s 21ms/step - factorized_top_k/top_1_categorical_accuracy: 0.0000e+00 - factorized_top_k/top_5_categorical_accuracy: 0.0000e+00 - factorized_top_k/top_10_categorical_accuracy: 0.0000e+00 - factorized_top_k/top_50_categorical_accuracy: 0.0000e+00 - factorized_top_k/top_100_categorical_accuracy: 0.0000e+00 - loss: 60662.5459 - regularization_loss: 0.0000e+00 - total_loss: 60662.5459\n",
      "Epoch 25/50\n",
      "2088/2088 [==============================] - 44s 21ms/step - factorized_top_k/top_1_categorical_accuracy: 0.0000e+00 - factorized_top_k/top_5_categorical_accuracy: 0.0000e+00 - factorized_top_k/top_10_categorical_accuracy: 0.0000e+00 - factorized_top_k/top_50_categorical_accuracy: 0.0000e+00 - factorized_top_k/top_100_categorical_accuracy: 0.0000e+00 - loss: 60656.2276 - regularization_loss: 0.0000e+00 - total_loss: 60656.2276\n",
      "Epoch 26/50\n",
      "2088/2088 [==============================] - 43s 21ms/step - factorized_top_k/top_1_categorical_accuracy: 0.0000e+00 - factorized_top_k/top_5_categorical_accuracy: 0.0000e+00 - factorized_top_k/top_10_categorical_accuracy: 0.0000e+00 - factorized_top_k/top_50_categorical_accuracy: 0.0000e+00 - factorized_top_k/top_100_categorical_accuracy: 0.0000e+00 - loss: 60650.4625 - regularization_loss: 0.0000e+00 - total_loss: 60650.4625\n",
      "Epoch 27/50\n",
      "2088/2088 [==============================] - 44s 21ms/step - factorized_top_k/top_1_categorical_accuracy: 0.0000e+00 - factorized_top_k/top_5_categorical_accuracy: 0.0000e+00 - factorized_top_k/top_10_categorical_accuracy: 0.0000e+00 - factorized_top_k/top_50_categorical_accuracy: 0.0000e+00 - factorized_top_k/top_100_categorical_accuracy: 0.0000e+00 - loss: 60646.4542 - regularization_loss: 0.0000e+00 - total_loss: 60646.4542\n",
      "Epoch 28/50\n",
      "2088/2088 [==============================] - 44s 21ms/step - factorized_top_k/top_1_categorical_accuracy: 0.0000e+00 - factorized_top_k/top_5_categorical_accuracy: 0.0000e+00 - factorized_top_k/top_10_categorical_accuracy: 0.0000e+00 - factorized_top_k/top_50_categorical_accuracy: 0.0000e+00 - factorized_top_k/top_100_categorical_accuracy: 0.0000e+00 - loss: 60642.9398 - regularization_loss: 0.0000e+00 - total_loss: 60642.9398\n",
      "Epoch 29/50\n",
      "2088/2088 [==============================] - 44s 21ms/step - factorized_top_k/top_1_categorical_accuracy: 0.0000e+00 - factorized_top_k/top_5_categorical_accuracy: 0.0000e+00 - factorized_top_k/top_10_categorical_accuracy: 0.0000e+00 - factorized_top_k/top_50_categorical_accuracy: 0.0000e+00 - factorized_top_k/top_100_categorical_accuracy: 0.0000e+00 - loss: 60639.9574 - regularization_loss: 0.0000e+00 - total_loss: 60639.9574\n",
      "Epoch 30/50\n",
      "2088/2088 [==============================] - 44s 21ms/step - factorized_top_k/top_1_categorical_accuracy: 0.0000e+00 - factorized_top_k/top_5_categorical_accuracy: 0.0000e+00 - factorized_top_k/top_10_categorical_accuracy: 0.0000e+00 - factorized_top_k/top_50_categorical_accuracy: 0.0000e+00 - factorized_top_k/top_100_categorical_accuracy: 0.0000e+00 - loss: 60637.5993 - regularization_loss: 0.0000e+00 - total_loss: 60637.5993\n",
      "Epoch 31/50\n",
      "2088/2088 [==============================] - 44s 21ms/step - factorized_top_k/top_1_categorical_accuracy: 0.0000e+00 - factorized_top_k/top_5_categorical_accuracy: 0.0000e+00 - factorized_top_k/top_10_categorical_accuracy: 0.0000e+00 - factorized_top_k/top_50_categorical_accuracy: 0.0000e+00 - factorized_top_k/top_100_categorical_accuracy: 0.0000e+00 - loss: 60635.7607 - regularization_loss: 0.0000e+00 - total_loss: 60635.7607\n"
     ]
    }
   ]
  },
  {
   "cell_type": "code",
   "metadata": {
    "colab": {
     "base_uri": "https://localhost:8080/",
     "height": 282
    },
    "id": "rs9uI45iR0PT",
    "executionInfo": {
     "status": "ok",
     "timestamp": 1635297175625,
     "user_tz": 180,
     "elapsed": 424,
     "user": {
      "displayName": "Cesar Reyes",
      "photoUrl": "https://lh3.googleusercontent.com/a-/AOh14GivCEktqhpVTBc89dTYts8q4--6-tXOlPrzRm22=s64",
      "userId": "04702276980078964785"
     }
    },
    "outputId": "f3c0a742-cfd0-4441-c8d3-fa6b529cd79b"
   },
   "source": [
    "pd.DataFrame(history.history)[\"loss\"].plot()"
   ],
   "execution_count": 88,
   "outputs": [
    {
     "output_type": "execute_result",
     "data": {
      "text/plain": [
       "<matplotlib.axes._subplots.AxesSubplot at 0x7fb38a90ab90>"
      ]
     },
     "metadata": {},
     "execution_count": 88
    },
    {
     "output_type": "display_data",
     "data": {
      "image/png": "[encoded data removed]",
      "text/plain": [
       "<Figure size 432x288 with 1 Axes>"
      ]
     },
     "metadata": {
      "needs_background": "light"
     }
    }
   ]
  },
  {
   "cell_type": "markdown",
   "metadata": {
    "id": "AzdS16WFKZFr"
   },
   "source": [
    "# Inference\n",
    "## ScaNN\n",
    "Scann is an efficient Nearest neighbor approximation to retrieve the top k product"
   ]
  },
  {
   "cell_type": "code",
   "metadata": {
    "colab": {
     "base_uri": "https://localhost:8080/"
    },
    "id": "ROE2_nWWlwtn",
    "executionInfo": {
     "status": "ok",
     "timestamp": 1635297250759,
     "user_tz": 180,
     "elapsed": 1535,
     "user": {
      "displayName": "Cesar Reyes",
      "photoUrl": "https://lh3.googleusercontent.com/a-/AOh14GivCEktqhpVTBc89dTYts8q4--6-tXOlPrzRm22=s64",
      "userId": "04702276980078964785"
     }
    },
    "outputId": "84b71fec-1d37-4107-a9ce-6b100a926ede"
   },
   "source": [
    "scann = tfrs.layers.factorized_top_k.ScaNN(model.query_model)\n",
    "scann.index_from_dataset(\n",
    "    tf.data.Dataset.zip(\n",
    "        (products_ds.map(lambda x: x[\"gtin\"]).batch(100), products_ds.batch(100).map(model.candidate_model)))\n",
    ")"
   ],
   "execution_count": 89,
   "outputs": [
    {
     "output_type": "stream",
     "name": "stdout",
     "text": [
      "WARNING:tensorflow:Layers in a Sequential model should only have a single input tensor, but we receive a <class 'dict'> input: {'gtin': <tf.Tensor 'args_0:0' shape=(None,) dtype=string>}\n",
      "Consider rewriting this model with the Functional API.\n"
     ]
    },
    {
     "output_type": "stream",
     "name": "stderr",
     "text": [
      "WARNING:tensorflow:Layers in a Sequential model should only have a single input tensor, but we receive a <class 'dict'> input: {'gtin': <tf.Tensor 'args_0:0' shape=(None,) dtype=string>}\n",
      "Consider rewriting this model with the Functional API.\n"
     ]
    },
    {
     "output_type": "execute_result",
     "data": {
      "text/plain": [
       "<tensorflow_recommenders.layers.factorized_top_k.ScaNN at 0x7fb38a910790>"
      ]
     },
     "metadata": {},
     "execution_count": 89
    }
   ]
  },
  {
   "cell_type": "markdown",
   "metadata": {
    "id": "HX8U4qlt6ni6",
    "colab": {
     "base_uri": "https://localhost:8080/",
     "output_embedded_package_id": "1GT-02Gn9yCHOU1VGBALtdzlhnj136e4j"
    },
    "executionInfo": {
     "status": "ok",
     "timestamp": 1635297306896,
     "user_tz": 180,
     "elapsed": 53562,
     "user": {
      "displayName": "Cesar Reyes",
      "photoUrl": "https://lh3.googleusercontent.com/a-/AOh14GivCEktqhpVTBc89dTYts8q4--6-tXOlPrzRm22=s64",
      "userId": "04702276980078964785"
     }
    },
    "outputId": "afbcfb45-55df-4c94-804a-8df730eb91cf",
    "pycharm": {
     "name": "#%% md\n"
    }
   },
   "source": [
    "# Export result to BQ"
   ]
  },
  {
   "cell_type": "code",
   "metadata": {
    "colab": {
     "base_uri": "https://localhost:8080/",
     "height": 419
    },
    "id": "A1Q5Y3OlAyMd",
    "executionInfo": {
     "status": "ok",
     "timestamp": 1635297306897,
     "user_tz": 180,
     "elapsed": 294,
     "user": {
      "displayName": "Cesar Reyes",
      "photoUrl": "https://lh3.googleusercontent.com/a-/AOh14GivCEktqhpVTBc89dTYts8q4--6-tXOlPrzRm22=s64",
      "userId": "04702276980078964785"
     }
    },
    "outputId": "09c13544-c8d7-4057-8aed-27d3a544a384"
   },
   "source": [
    "step = 1000\n",
    "len_queries = query_test.shape[0]\n",
    "partial_result = []\n",
    "\n",
    "for k in range(0, len_queries, step):\n",
    "    sample = query_test.iloc[k:k + step, :].to_dict(orient=\"list\")\n",
    "    rec_score, rec_products = scann({\n",
    "        \"user_id\": tf.convert_to_tensor(sample[\"user_id\"]),\n",
    "        \"dow\": tf.convert_to_tensor(sample[\"dow\"]),\n",
    "        \"hod\": tf.convert_to_tensor(sample[\"hod\"]),\n",
    "    })\n",
    "    partial_result.append([rec_score.numpy(), rec_products.numpy()])\n",
    "\n",
    "recommendation = np.concatenate([k[1] for k in partial_result], axis=0).squeeze()\n",
    "recommendation = pd.concat([query_test, pd.DataFrame(recommendation)], axis=1).set_index(\n",
    "    [\"user_id\", \"dow\", \"hod\"]).stack().reset_index()\n",
    "recommendation.columns = [\"user_id\", \"dow\", \"hod\", \"rank\", \"gtin\"]\n",
    "recommendation['gtin'] = recommendation['gtin'].apply(lambda x: x.decode())\n",
    "\n",
    "recommendation"
   ],
   "execution_count": 91,
   "outputs": [
    {
     "output_type": "execute_result",
     "data": {
      "text/html": [
       "<div>\n",
       "<style scoped>\n",
       "    .dataframe tbody tr th:only-of-type {\n",
       "        vertical-align: middle;\n",
       "    }\n",
       "\n",
       "    .dataframe tbody tr th {\n",
       "        vertical-align: top;\n",
       "    }\n",
       "\n",
       "    .dataframe thead th {\n",
       "        text-align: right;\n",
       "    }\n",
       "</style>\n",
       "<table border=\"1\" class=\"dataframe\">\n",
       "  <thead>\n",
       "    <tr style=\"text-align: right;\">\n",
       "      <th></th>\n",
       "      <th>user_id</th>\n",
       "      <th>dow</th>\n",
       "      <th>hod</th>\n",
       "      <th>rank</th>\n",
       "      <th>gtin</th>\n",
       "    </tr>\n",
       "  </thead>\n",
       "  <tbody>\n",
       "    <tr>\n",
       "      <th>0</th>\n",
       "      <td>876732</td>\n",
       "      <td>6</td>\n",
       "      <td>7</td>\n",
       "      <td>0</td>\n",
       "      <td>8480017134332</td>\n",
       "    </tr>\n",
       "    <tr>\n",
       "      <th>1</th>\n",
       "      <td>876732</td>\n",
       "      <td>6</td>\n",
       "      <td>7</td>\n",
       "      <td>1</td>\n",
       "      <td>7790550000164</td>\n",
       "    </tr>\n",
       "    <tr>\n",
       "      <th>2</th>\n",
       "      <td>876732</td>\n",
       "      <td>6</td>\n",
       "      <td>7</td>\n",
       "      <td>2</td>\n",
       "      <td>7500435012294</td>\n",
       "    </tr>\n",
       "    <tr>\n",
       "      <th>3</th>\n",
       "      <td>876732</td>\n",
       "      <td>6</td>\n",
       "      <td>7</td>\n",
       "      <td>3</td>\n",
       "      <td>7500435127370</td>\n",
       "    </tr>\n",
       "    <tr>\n",
       "      <th>4</th>\n",
       "      <td>876732</td>\n",
       "      <td>6</td>\n",
       "      <td>7</td>\n",
       "      <td>4</td>\n",
       "      <td>8480017008343</td>\n",
       "    </tr>\n",
       "    <tr>\n",
       "      <th>...</th>\n",
       "      <td>...</td>\n",
       "      <td>...</td>\n",
       "      <td>...</td>\n",
       "      <td>...</td>\n",
       "      <td>...</td>\n",
       "    </tr>\n",
       "    <tr>\n",
       "      <th>3565805</th>\n",
       "      <td>2718562</td>\n",
       "      <td>2</td>\n",
       "      <td>23</td>\n",
       "      <td>5</td>\n",
       "      <td>7790950133363</td>\n",
       "    </tr>\n",
       "    <tr>\n",
       "      <th>3565806</th>\n",
       "      <td>2718562</td>\n",
       "      <td>2</td>\n",
       "      <td>23</td>\n",
       "      <td>6</td>\n",
       "      <td>7798259439254</td>\n",
       "    </tr>\n",
       "    <tr>\n",
       "      <th>3565807</th>\n",
       "      <td>2718562</td>\n",
       "      <td>2</td>\n",
       "      <td>23</td>\n",
       "      <td>7</td>\n",
       "      <td>7798128000684</td>\n",
       "    </tr>\n",
       "    <tr>\n",
       "      <th>3565808</th>\n",
       "      <td>2718562</td>\n",
       "      <td>2</td>\n",
       "      <td>23</td>\n",
       "      <td>8</td>\n",
       "      <td>7790524323862</td>\n",
       "    </tr>\n",
       "    <tr>\n",
       "      <th>3565809</th>\n",
       "      <td>2718562</td>\n",
       "      <td>2</td>\n",
       "      <td>23</td>\n",
       "      <td>9</td>\n",
       "      <td>2979900002293</td>\n",
       "    </tr>\n",
       "  </tbody>\n",
       "</table>\n",
       "<p>3565810 rows × 5 columns</p>\n",
       "</div>"
      ],
      "text/plain": [
       "         user_id  dow  hod  rank           gtin\n",
       "0         876732    6    7     0  8480017134332\n",
       "1         876732    6    7     1  7790550000164\n",
       "2         876732    6    7     2  7500435012294\n",
       "3         876732    6    7     3  7500435127370\n",
       "4         876732    6    7     4  8480017008343\n",
       "...          ...  ...  ...   ...            ...\n",
       "3565805  2718562    2   23     5  7790950133363\n",
       "3565806  2718562    2   23     6  7798259439254\n",
       "3565807  2718562    2   23     7  7798128000684\n",
       "3565808  2718562    2   23     8  7790524323862\n",
       "3565809  2718562    2   23     9  2979900002293\n",
       "\n",
       "[3565810 rows x 5 columns]"
      ]
     },
     "metadata": {},
     "execution_count": 91
    }
   ]
  },
  {
   "cell_type": "code",
   "metadata": {
    "colab": {
     "base_uri": "https://localhost:8080/"
    },
    "id": "lYa3G25KLMyI",
    "executionInfo": {
     "status": "ok",
     "timestamp": 1635297344557,
     "user_tz": 180,
     "elapsed": 37949,
     "user": {
      "displayName": "Cesar Reyes",
      "photoUrl": "https://lh3.googleusercontent.com/a-/AOh14GivCEktqhpVTBc89dTYts8q4--6-tXOlPrzRm22=s64",
      "userId": "04702276980078964785"
     }
    },
    "outputId": "9e42b5e8-5d56-483d-e5ad-b177fd674fb2"
   },
   "source": [
    "result_project_name = \"peya-food-and-groceries\"\n",
    "result_dataset_name = \"user_fiorella_dirosario\"\n",
    "result_table_name = \"recommendation_context_model_simple\"\n",
    "\n",
    "recommendation.to_gbq(\n",
    "    destination_table=f\"{result_dataset_name}.{result_table_name}\",\n",
    "    project_id=result_project_name,\n",
    "    if_exists=\"replace\"\n",
    ")"
   ],
   "execution_count": 92,
   "outputs": [
    {
     "output_type": "stream",
     "name": "stderr",
     "text": [
      "1it [00:39, 39.10s/it]\n"
     ]
    }
   ]
  },
  {
   "cell_type": "markdown",
   "source": [
    "# Saving Model"
   ],
   "metadata": {
    "collapsed": false,
    "pycharm": {
     "name": "#%% md\n"
    }
   }
  },
  {
   "cell_type": "code",
   "metadata": {
    "colab": {
     "base_uri": "https://localhost:8080/"
    },
    "id": "s-JhGXcllgPT",
    "executionInfo": {
     "status": "ok",
     "timestamp": 1635297347745,
     "user_tz": 180,
     "elapsed": 3209,
     "user": {
      "displayName": "Cesar Reyes",
      "photoUrl": "https://lh3.googleusercontent.com/a-/AOh14GivCEktqhpVTBc89dTYts8q4--6-tXOlPrzRm22=s64",
      "userId": "04702276980078964785"
     }
    },
    "outputId": "c21e70ab-0374-4cee-d52b-ba362c21b2f2"
   },
   "source": [
    "if IN_COLAB:\n",
    "    ouput_path = \"/content/drive/MyDrive/Colab Notebooks/recsys-dataton/models/\"  #@param [\"/content/drive/MyDrive/Colab Notebooks/recsys-dataton/models/\", \"/content/models/\"]\n",
    "else:\n",
    "    ouput_path = \"../models/\"\n",
    "\n",
    "path = os.path.join(ouput_path, \"contex_simple_index\")\n",
    "if not os.path.exists(path):\n",
    "    os.makedirs(path)\n",
    "tf.saved_model.save(\n",
    "    scann,\n",
    "    path,\n",
    "    options=tf.saved_model.SaveOptions(namespace_whitelist=[\"Scann\"])\n",
    ")"
   ],
   "execution_count": 93,
   "outputs": [
    {
     "output_type": "stream",
     "name": "stdout",
     "text": [
      "WARNING:tensorflow:Layers in a Sequential model should only have a single input tensor, but we receive a <class 'dict'> input: {'user_id': <tf.Tensor 'user_id:0' shape=(None,) dtype=int32>, 'dow': <tf.Tensor 'dow:0' shape=(None,) dtype=int32>, 'hod': <tf.Tensor 'hod:0' shape=(None,) dtype=int32>}\n",
      "Consider rewriting this model with the Functional API.\n"
     ]
    },
    {
     "output_type": "stream",
     "name": "stderr",
     "text": [
      "WARNING:tensorflow:Layers in a Sequential model should only have a single input tensor, but we receive a <class 'dict'> input: {'user_id': <tf.Tensor 'user_id:0' shape=(None,) dtype=int32>, 'dow': <tf.Tensor 'dow:0' shape=(None,) dtype=int32>, 'hod': <tf.Tensor 'hod:0' shape=(None,) dtype=int32>}\n",
      "Consider rewriting this model with the Functional API.\n"
     ]
    },
    {
     "output_type": "stream",
     "name": "stdout",
     "text": [
      "WARNING:tensorflow:Layers in a Sequential model should only have a single input tensor, but we receive a <class 'dict'> input: {'user_id': <tf.Tensor 'inputs_2:0' shape=(None,) dtype=int32>, 'dow': <tf.Tensor 'inputs:0' shape=(None,) dtype=int32>, 'hod': <tf.Tensor 'inputs_1:0' shape=(None,) dtype=int32>}\n",
      "Consider rewriting this model with the Functional API.\n"
     ]
    },
    {
     "output_type": "stream",
     "name": "stderr",
     "text": [
      "WARNING:tensorflow:Layers in a Sequential model should only have a single input tensor, but we receive a <class 'dict'> input: {'user_id': <tf.Tensor 'inputs_2:0' shape=(None,) dtype=int32>, 'dow': <tf.Tensor 'inputs:0' shape=(None,) dtype=int32>, 'hod': <tf.Tensor 'inputs_1:0' shape=(None,) dtype=int32>}\n",
      "Consider rewriting this model with the Functional API.\n"
     ]
    },
    {
     "output_type": "stream",
     "name": "stdout",
     "text": [
      "WARNING:tensorflow:Layers in a Sequential model should only have a single input tensor, but we receive a <class 'dict'> input: {'user_id': <tf.Tensor 'inputs_2:0' shape=(None,) dtype=int32>, 'dow': <tf.Tensor 'inputs:0' shape=(None,) dtype=int32>, 'hod': <tf.Tensor 'inputs_1:0' shape=(None,) dtype=int32>}\n",
      "Consider rewriting this model with the Functional API.\n"
     ]
    },
    {
     "output_type": "stream",
     "name": "stderr",
     "text": [
      "WARNING:tensorflow:Layers in a Sequential model should only have a single input tensor, but we receive a <class 'dict'> input: {'user_id': <tf.Tensor 'inputs_2:0' shape=(None,) dtype=int32>, 'dow': <tf.Tensor 'inputs:0' shape=(None,) dtype=int32>, 'hod': <tf.Tensor 'inputs_1:0' shape=(None,) dtype=int32>}\n",
      "Consider rewriting this model with the Functional API.\n"
     ]
    },
    {
     "output_type": "stream",
     "name": "stdout",
     "text": [
      "WARNING:tensorflow:Layers in a Sequential model should only have a single input tensor, but we receive a <class 'dict'> input: {'user_id': <tf.Tensor 'user_id:0' shape=(None,) dtype=int32>, 'dow': <tf.Tensor 'dow:0' shape=(None,) dtype=int32>, 'hod': <tf.Tensor 'hod:0' shape=(None,) dtype=int32>}\n",
      "Consider rewriting this model with the Functional API.\n"
     ]
    },
    {
     "output_type": "stream",
     "name": "stderr",
     "text": [
      "WARNING:tensorflow:Layers in a Sequential model should only have a single input tensor, but we receive a <class 'dict'> input: {'user_id': <tf.Tensor 'user_id:0' shape=(None,) dtype=int32>, 'dow': <tf.Tensor 'dow:0' shape=(None,) dtype=int32>, 'hod': <tf.Tensor 'hod:0' shape=(None,) dtype=int32>}\n",
      "Consider rewriting this model with the Functional API.\n"
     ]
    },
    {
     "output_type": "stream",
     "name": "stdout",
     "text": [
      "WARNING:tensorflow:Layers in a Sequential model should only have a single input tensor, but we receive a <class 'dict'> input: {'user_id': <tf.Tensor 'user_id:0' shape=(None,) dtype=int32>, 'dow': <tf.Tensor 'dow:0' shape=(None,) dtype=int32>, 'hod': <tf.Tensor 'hod:0' shape=(None,) dtype=int32>}\n",
      "Consider rewriting this model with the Functional API.\n"
     ]
    },
    {
     "output_type": "stream",
     "name": "stderr",
     "text": [
      "WARNING:tensorflow:Layers in a Sequential model should only have a single input tensor, but we receive a <class 'dict'> input: {'user_id': <tf.Tensor 'user_id:0' shape=(None,) dtype=int32>, 'dow': <tf.Tensor 'dow:0' shape=(None,) dtype=int32>, 'hod': <tf.Tensor 'hod:0' shape=(None,) dtype=int32>}\n",
      "Consider rewriting this model with the Functional API.\n"
     ]
    },
    {
     "output_type": "stream",
     "name": "stdout",
     "text": [
      "WARNING:tensorflow:Layers in a Sequential model should only have a single input tensor, but we receive a <class 'dict'> input: {'user_id': <tf.Tensor 'queries/user_id:0' shape=(None,) dtype=int32>, 'dow': <tf.Tensor 'queries/dow:0' shape=(None,) dtype=int32>, 'hod': <tf.Tensor 'queries/hod:0' shape=(None,) dtype=int32>}\n",
      "Consider rewriting this model with the Functional API.\n"
     ]
    },
    {
     "output_type": "stream",
     "name": "stderr",
     "text": [
      "WARNING:tensorflow:Layers in a Sequential model should only have a single input tensor, but we receive a <class 'dict'> input: {'user_id': <tf.Tensor 'queries/user_id:0' shape=(None,) dtype=int32>, 'dow': <tf.Tensor 'queries/dow:0' shape=(None,) dtype=int32>, 'hod': <tf.Tensor 'queries/hod:0' shape=(None,) dtype=int32>}\n",
      "Consider rewriting this model with the Functional API.\n"
     ]
    },
    {
     "output_type": "stream",
     "name": "stdout",
     "text": [
      "WARNING:tensorflow:Layers in a Sequential model should only have a single input tensor, but we receive a <class 'dict'> input: {'user_id': <tf.Tensor 'queries/user_id:0' shape=(None,) dtype=int32>, 'dow': <tf.Tensor 'queries/dow:0' shape=(None,) dtype=int32>, 'hod': <tf.Tensor 'queries/hod:0' shape=(None,) dtype=int32>}\n",
      "Consider rewriting this model with the Functional API.\n"
     ]
    },
    {
     "output_type": "stream",
     "name": "stderr",
     "text": [
      "WARNING:tensorflow:Layers in a Sequential model should only have a single input tensor, but we receive a <class 'dict'> input: {'user_id': <tf.Tensor 'queries/user_id:0' shape=(None,) dtype=int32>, 'dow': <tf.Tensor 'queries/dow:0' shape=(None,) dtype=int32>, 'hod': <tf.Tensor 'queries/hod:0' shape=(None,) dtype=int32>}\n",
      "Consider rewriting this model with the Functional API.\n"
     ]
    },
    {
     "output_type": "stream",
     "name": "stdout",
     "text": [
      "WARNING:tensorflow:Layers in a Sequential model should only have a single input tensor, but we receive a <class 'dict'> input: {'user_id': <tf.Tensor 'user_id:0' shape=(None,) dtype=int32>, 'dow': <tf.Tensor 'dow:0' shape=(None,) dtype=int32>, 'hod': <tf.Tensor 'hod:0' shape=(None,) dtype=int32>}\n",
      "Consider rewriting this model with the Functional API.\n"
     ]
    },
    {
     "output_type": "stream",
     "name": "stderr",
     "text": [
      "WARNING:tensorflow:Layers in a Sequential model should only have a single input tensor, but we receive a <class 'dict'> input: {'user_id': <tf.Tensor 'user_id:0' shape=(None,) dtype=int32>, 'dow': <tf.Tensor 'dow:0' shape=(None,) dtype=int32>, 'hod': <tf.Tensor 'hod:0' shape=(None,) dtype=int32>}\n",
      "Consider rewriting this model with the Functional API.\n"
     ]
    },
    {
     "output_type": "stream",
     "name": "stdout",
     "text": [
      "WARNING:tensorflow:Layers in a Sequential model should only have a single input tensor, but we receive a <class 'dict'> input: {'user_id': <tf.Tensor 'user_id:0' shape=(None,) dtype=int32>, 'dow': <tf.Tensor 'dow:0' shape=(None,) dtype=int32>, 'hod': <tf.Tensor 'hod:0' shape=(None,) dtype=int32>}\n",
      "Consider rewriting this model with the Functional API.\n"
     ]
    },
    {
     "output_type": "stream",
     "name": "stderr",
     "text": [
      "WARNING:tensorflow:Layers in a Sequential model should only have a single input tensor, but we receive a <class 'dict'> input: {'user_id': <tf.Tensor 'user_id:0' shape=(None,) dtype=int32>, 'dow': <tf.Tensor 'dow:0' shape=(None,) dtype=int32>, 'hod': <tf.Tensor 'hod:0' shape=(None,) dtype=int32>}\n",
      "Consider rewriting this model with the Functional API.\n"
     ]
    },
    {
     "output_type": "stream",
     "name": "stdout",
     "text": [
      "WARNING:tensorflow:Layers in a Sequential model should only have a single input tensor, but we receive a <class 'dict'> input: {'user_id': <tf.Tensor 'inputs/user_id:0' shape=(None,) dtype=int32>, 'dow': <tf.Tensor 'inputs/dow:0' shape=(None,) dtype=int32>, 'hod': <tf.Tensor 'inputs/hod:0' shape=(None,) dtype=int32>}\n",
      "Consider rewriting this model with the Functional API.\n"
     ]
    },
    {
     "output_type": "stream",
     "name": "stderr",
     "text": [
      "WARNING:tensorflow:Layers in a Sequential model should only have a single input tensor, but we receive a <class 'dict'> input: {'user_id': <tf.Tensor 'inputs/user_id:0' shape=(None,) dtype=int32>, 'dow': <tf.Tensor 'inputs/dow:0' shape=(None,) dtype=int32>, 'hod': <tf.Tensor 'inputs/hod:0' shape=(None,) dtype=int32>}\n",
      "Consider rewriting this model with the Functional API.\n"
     ]
    },
    {
     "output_type": "stream",
     "name": "stdout",
     "text": [
      "WARNING:tensorflow:Layers in a Sequential model should only have a single input tensor, but we receive a <class 'dict'> input: {'user_id': <tf.Tensor 'inputs/user_id:0' shape=(None,) dtype=int32>, 'dow': <tf.Tensor 'inputs/dow:0' shape=(None,) dtype=int32>, 'hod': <tf.Tensor 'inputs/hod:0' shape=(None,) dtype=int32>}\n",
      "Consider rewriting this model with the Functional API.\n"
     ]
    },
    {
     "output_type": "stream",
     "name": "stderr",
     "text": [
      "WARNING:tensorflow:Layers in a Sequential model should only have a single input tensor, but we receive a <class 'dict'> input: {'user_id': <tf.Tensor 'inputs/user_id:0' shape=(None,) dtype=int32>, 'dow': <tf.Tensor 'inputs/dow:0' shape=(None,) dtype=int32>, 'hod': <tf.Tensor 'inputs/hod:0' shape=(None,) dtype=int32>}\n",
      "Consider rewriting this model with the Functional API.\n",
      "WARNING:absl:Found untraced functions such as query_with_exclusions while saving (showing 1 of 1). These functions will not be directly callable after loading.\n"
     ]
    },
    {
     "output_type": "stream",
     "name": "stdout",
     "text": [
      "INFO:tensorflow:Assets written to: /content/drive/MyDrive/Colab Notebooks/recsys-dataton/models/contex_simple_index/assets\n"
     ]
    },
    {
     "output_type": "stream",
     "name": "stderr",
     "text": [
      "INFO:tensorflow:Assets written to: /content/drive/MyDrive/Colab Notebooks/recsys-dataton/models/contex_simple_index/assets\n"
     ]
    }
   ]
  },
  {
   "cell_type": "code",
   "metadata": {
    "colab": {
     "base_uri": "https://localhost:8080/"
    },
    "id": "35KwsEsbLSop",
    "executionInfo": {
     "status": "ok",
     "timestamp": 1635297350899,
     "user_tz": 180,
     "elapsed": 3158,
     "user": {
      "displayName": "Cesar Reyes",
      "photoUrl": "https://lh3.googleusercontent.com/a-/AOh14GivCEktqhpVTBc89dTYts8q4--6-tXOlPrzRm22=s64",
      "userId": "04702276980078964785"
     }
    },
    "outputId": "28181c96-088c-4cf7-979f-747f69a35aa3"
   },
   "source": [
    "query_model_path = os.path.join(ouput_path, \"contex_simple_model\", \"query_model\")\n",
    "if not os.path.exists(query_model_path):\n",
    "    os.makedirs(query_model_path)\n",
    "model.query_model.save(query_model_path)"
   ],
   "execution_count": 94,
   "outputs": [
    {
     "output_type": "stream",
     "name": "stdout",
     "text": [
      "WARNING:tensorflow:Layers in a Sequential model should only have a single input tensor, but we receive a <class 'dict'> input: {'user_id': <tf.Tensor 'user_id:0' shape=(None,) dtype=int32>, 'dow': <tf.Tensor 'dow:0' shape=(None,) dtype=int32>, 'hod': <tf.Tensor 'hod:0' shape=(None,) dtype=int32>}\n",
      "Consider rewriting this model with the Functional API.\n"
     ]
    },
    {
     "output_type": "stream",
     "name": "stderr",
     "text": [
      "WARNING:tensorflow:Layers in a Sequential model should only have a single input tensor, but we receive a <class 'dict'> input: {'user_id': <tf.Tensor 'user_id:0' shape=(None,) dtype=int32>, 'dow': <tf.Tensor 'dow:0' shape=(None,) dtype=int32>, 'hod': <tf.Tensor 'hod:0' shape=(None,) dtype=int32>}\n",
      "Consider rewriting this model with the Functional API.\n"
     ]
    },
    {
     "output_type": "stream",
     "name": "stdout",
     "text": [
      "WARNING:tensorflow:Layers in a Sequential model should only have a single input tensor, but we receive a <class 'dict'> input: {'user_id': <tf.Tensor 'inputs_2:0' shape=(None,) dtype=int32>, 'dow': <tf.Tensor 'inputs:0' shape=(None,) dtype=int32>, 'hod': <tf.Tensor 'inputs_1:0' shape=(None,) dtype=int32>}\n",
      "Consider rewriting this model with the Functional API.\n"
     ]
    },
    {
     "output_type": "stream",
     "name": "stderr",
     "text": [
      "WARNING:tensorflow:Layers in a Sequential model should only have a single input tensor, but we receive a <class 'dict'> input: {'user_id': <tf.Tensor 'inputs_2:0' shape=(None,) dtype=int32>, 'dow': <tf.Tensor 'inputs:0' shape=(None,) dtype=int32>, 'hod': <tf.Tensor 'inputs_1:0' shape=(None,) dtype=int32>}\n",
      "Consider rewriting this model with the Functional API.\n"
     ]
    },
    {
     "output_type": "stream",
     "name": "stdout",
     "text": [
      "WARNING:tensorflow:Layers in a Sequential model should only have a single input tensor, but we receive a <class 'dict'> input: {'user_id': <tf.Tensor 'inputs_2:0' shape=(None,) dtype=int32>, 'dow': <tf.Tensor 'inputs:0' shape=(None,) dtype=int32>, 'hod': <tf.Tensor 'inputs_1:0' shape=(None,) dtype=int32>}\n",
      "Consider rewriting this model with the Functional API.\n"
     ]
    },
    {
     "output_type": "stream",
     "name": "stderr",
     "text": [
      "WARNING:tensorflow:Layers in a Sequential model should only have a single input tensor, but we receive a <class 'dict'> input: {'user_id': <tf.Tensor 'inputs_2:0' shape=(None,) dtype=int32>, 'dow': <tf.Tensor 'inputs:0' shape=(None,) dtype=int32>, 'hod': <tf.Tensor 'inputs_1:0' shape=(None,) dtype=int32>}\n",
      "Consider rewriting this model with the Functional API.\n"
     ]
    },
    {
     "output_type": "stream",
     "name": "stdout",
     "text": [
      "WARNING:tensorflow:Layers in a Sequential model should only have a single input tensor, but we receive a <class 'dict'> input: {'user_id': <tf.Tensor 'user_id:0' shape=(None,) dtype=int32>, 'dow': <tf.Tensor 'dow:0' shape=(None,) dtype=int32>, 'hod': <tf.Tensor 'hod:0' shape=(None,) dtype=int32>}\n",
      "Consider rewriting this model with the Functional API.\n"
     ]
    },
    {
     "output_type": "stream",
     "name": "stderr",
     "text": [
      "WARNING:tensorflow:Layers in a Sequential model should only have a single input tensor, but we receive a <class 'dict'> input: {'user_id': <tf.Tensor 'user_id:0' shape=(None,) dtype=int32>, 'dow': <tf.Tensor 'dow:0' shape=(None,) dtype=int32>, 'hod': <tf.Tensor 'hod:0' shape=(None,) dtype=int32>}\n",
      "Consider rewriting this model with the Functional API.\n"
     ]
    },
    {
     "output_type": "stream",
     "name": "stdout",
     "text": [
      "WARNING:tensorflow:Layers in a Sequential model should only have a single input tensor, but we receive a <class 'dict'> input: {'user_id': <tf.Tensor 'user_id:0' shape=(None,) dtype=int32>, 'dow': <tf.Tensor 'dow:0' shape=(None,) dtype=int32>, 'hod': <tf.Tensor 'hod:0' shape=(None,) dtype=int32>}\n",
      "Consider rewriting this model with the Functional API.\n"
     ]
    },
    {
     "output_type": "stream",
     "name": "stderr",
     "text": [
      "WARNING:tensorflow:Layers in a Sequential model should only have a single input tensor, but we receive a <class 'dict'> input: {'user_id': <tf.Tensor 'user_id:0' shape=(None,) dtype=int32>, 'dow': <tf.Tensor 'dow:0' shape=(None,) dtype=int32>, 'hod': <tf.Tensor 'hod:0' shape=(None,) dtype=int32>}\n",
      "Consider rewriting this model with the Functional API.\n"
     ]
    },
    {
     "output_type": "stream",
     "name": "stdout",
     "text": [
      "WARNING:tensorflow:Layers in a Sequential model should only have a single input tensor, but we receive a <class 'dict'> input: {'user_id': <tf.Tensor 'inputs/user_id:0' shape=(None,) dtype=int32>, 'dow': <tf.Tensor 'inputs/dow:0' shape=(None,) dtype=int32>, 'hod': <tf.Tensor 'inputs/hod:0' shape=(None,) dtype=int32>}\n",
      "Consider rewriting this model with the Functional API.\n"
     ]
    },
    {
     "output_type": "stream",
     "name": "stderr",
     "text": [
      "WARNING:tensorflow:Layers in a Sequential model should only have a single input tensor, but we receive a <class 'dict'> input: {'user_id': <tf.Tensor 'inputs/user_id:0' shape=(None,) dtype=int32>, 'dow': <tf.Tensor 'inputs/dow:0' shape=(None,) dtype=int32>, 'hod': <tf.Tensor 'inputs/hod:0' shape=(None,) dtype=int32>}\n",
      "Consider rewriting this model with the Functional API.\n"
     ]
    },
    {
     "output_type": "stream",
     "name": "stdout",
     "text": [
      "WARNING:tensorflow:Layers in a Sequential model should only have a single input tensor, but we receive a <class 'dict'> input: {'user_id': <tf.Tensor 'inputs/user_id:0' shape=(None,) dtype=int32>, 'dow': <tf.Tensor 'inputs/dow:0' shape=(None,) dtype=int32>, 'hod': <tf.Tensor 'inputs/hod:0' shape=(None,) dtype=int32>}\n",
      "Consider rewriting this model with the Functional API.\n"
     ]
    },
    {
     "output_type": "stream",
     "name": "stderr",
     "text": [
      "WARNING:tensorflow:Layers in a Sequential model should only have a single input tensor, but we receive a <class 'dict'> input: {'user_id': <tf.Tensor 'inputs/user_id:0' shape=(None,) dtype=int32>, 'dow': <tf.Tensor 'inputs/dow:0' shape=(None,) dtype=int32>, 'hod': <tf.Tensor 'inputs/hod:0' shape=(None,) dtype=int32>}\n",
      "Consider rewriting this model with the Functional API.\n"
     ]
    },
    {
     "output_type": "stream",
     "name": "stdout",
     "text": [
      "INFO:tensorflow:Assets written to: /content/drive/MyDrive/Colab Notebooks/recsys-dataton/models/contex_simple_model/query_model/assets\n"
     ]
    },
    {
     "output_type": "stream",
     "name": "stderr",
     "text": [
      "INFO:tensorflow:Assets written to: /content/drive/MyDrive/Colab Notebooks/recsys-dataton/models/contex_simple_model/query_model/assets\n"
     ]
    }
   ]
  },
  {
   "cell_type": "code",
   "metadata": {
    "id": "GX4vb3RanBgm",
    "colab": {
     "base_uri": "https://localhost:8080/"
    },
    "executionInfo": {
     "status": "ok",
     "timestamp": 1635297351865,
     "user_tz": 180,
     "elapsed": 979,
     "user": {
      "displayName": "Cesar Reyes",
      "photoUrl": "https://lh3.googleusercontent.com/a-/AOh14GivCEktqhpVTBc89dTYts8q4--6-tXOlPrzRm22=s64",
      "userId": "04702276980078964785"
     }
    },
    "outputId": "045aaf01-1a8b-458f-b70c-7ae0bda9aff9"
   },
   "source": [
    "candidate_model_path = os.path.join(ouput_path, \"contex_simple_model\", \"candidate_model\")\n",
    "if not os.path.exists(candidate_model_path):\n",
    "    os.makedirs(candidate_model_path)\n",
    "model.candidate_model.save(candidate_model_path)"
   ],
   "execution_count": 95,
   "outputs": [
    {
     "output_type": "stream",
     "name": "stdout",
     "text": [
      "WARNING:tensorflow:Layers in a Sequential model should only have a single input tensor, but we receive a <class 'dict'> input: {'gtin': <tf.Tensor 'gtin:0' shape=(None,) dtype=string>}\n",
      "Consider rewriting this model with the Functional API.\n"
     ]
    },
    {
     "output_type": "stream",
     "name": "stderr",
     "text": [
      "WARNING:tensorflow:Layers in a Sequential model should only have a single input tensor, but we receive a <class 'dict'> input: {'gtin': <tf.Tensor 'gtin:0' shape=(None,) dtype=string>}\n",
      "Consider rewriting this model with the Functional API.\n"
     ]
    },
    {
     "output_type": "stream",
     "name": "stdout",
     "text": [
      "WARNING:tensorflow:Layers in a Sequential model should only have a single input tensor, but we receive a <class 'dict'> input: {'gtin': <tf.Tensor 'inputs:0' shape=(None,) dtype=string>}\n",
      "Consider rewriting this model with the Functional API.\n"
     ]
    },
    {
     "output_type": "stream",
     "name": "stderr",
     "text": [
      "WARNING:tensorflow:Layers in a Sequential model should only have a single input tensor, but we receive a <class 'dict'> input: {'gtin': <tf.Tensor 'inputs:0' shape=(None,) dtype=string>}\n",
      "Consider rewriting this model with the Functional API.\n"
     ]
    },
    {
     "output_type": "stream",
     "name": "stdout",
     "text": [
      "WARNING:tensorflow:Layers in a Sequential model should only have a single input tensor, but we receive a <class 'dict'> input: {'gtin': <tf.Tensor 'inputs:0' shape=(None,) dtype=string>}\n",
      "Consider rewriting this model with the Functional API.\n"
     ]
    },
    {
     "output_type": "stream",
     "name": "stderr",
     "text": [
      "WARNING:tensorflow:Layers in a Sequential model should only have a single input tensor, but we receive a <class 'dict'> input: {'gtin': <tf.Tensor 'inputs:0' shape=(None,) dtype=string>}\n",
      "Consider rewriting this model with the Functional API.\n"
     ]
    },
    {
     "output_type": "stream",
     "name": "stdout",
     "text": [
      "WARNING:tensorflow:Layers in a Sequential model should only have a single input tensor, but we receive a <class 'dict'> input: {'gtin': <tf.Tensor 'gtin:0' shape=(None,) dtype=string>}\n",
      "Consider rewriting this model with the Functional API.\n"
     ]
    },
    {
     "output_type": "stream",
     "name": "stderr",
     "text": [
      "WARNING:tensorflow:Layers in a Sequential model should only have a single input tensor, but we receive a <class 'dict'> input: {'gtin': <tf.Tensor 'gtin:0' shape=(None,) dtype=string>}\n",
      "Consider rewriting this model with the Functional API.\n"
     ]
    },
    {
     "output_type": "stream",
     "name": "stdout",
     "text": [
      "WARNING:tensorflow:Layers in a Sequential model should only have a single input tensor, but we receive a <class 'dict'> input: {'gtin': <tf.Tensor 'gtin:0' shape=(None,) dtype=string>}\n",
      "Consider rewriting this model with the Functional API.\n"
     ]
    },
    {
     "output_type": "stream",
     "name": "stderr",
     "text": [
      "WARNING:tensorflow:Layers in a Sequential model should only have a single input tensor, but we receive a <class 'dict'> input: {'gtin': <tf.Tensor 'gtin:0' shape=(None,) dtype=string>}\n",
      "Consider rewriting this model with the Functional API.\n"
     ]
    },
    {
     "output_type": "stream",
     "name": "stdout",
     "text": [
      "WARNING:tensorflow:Layers in a Sequential model should only have a single input tensor, but we receive a <class 'dict'> input: {'gtin': <tf.Tensor 'inputs/gtin:0' shape=(None,) dtype=string>}\n",
      "Consider rewriting this model with the Functional API.\n"
     ]
    },
    {
     "output_type": "stream",
     "name": "stderr",
     "text": [
      "WARNING:tensorflow:Layers in a Sequential model should only have a single input tensor, but we receive a <class 'dict'> input: {'gtin': <tf.Tensor 'inputs/gtin:0' shape=(None,) dtype=string>}\n",
      "Consider rewriting this model with the Functional API.\n"
     ]
    },
    {
     "output_type": "stream",
     "name": "stdout",
     "text": [
      "WARNING:tensorflow:Layers in a Sequential model should only have a single input tensor, but we receive a <class 'dict'> input: {'gtin': <tf.Tensor 'inputs/gtin:0' shape=(None,) dtype=string>}\n",
      "Consider rewriting this model with the Functional API.\n"
     ]
    },
    {
     "output_type": "stream",
     "name": "stderr",
     "text": [
      "WARNING:tensorflow:Layers in a Sequential model should only have a single input tensor, but we receive a <class 'dict'> input: {'gtin': <tf.Tensor 'inputs/gtin:0' shape=(None,) dtype=string>}\n",
      "Consider rewriting this model with the Functional API.\n"
     ]
    },
    {
     "output_type": "stream",
     "name": "stdout",
     "text": [
      "INFO:tensorflow:Assets written to: /content/drive/MyDrive/Colab Notebooks/recsys-dataton/models/contex_simple_model/candidate_model/assets\n"
     ]
    },
    {
     "output_type": "stream",
     "name": "stderr",
     "text": [
      "INFO:tensorflow:Assets written to: /content/drive/MyDrive/Colab Notebooks/recsys-dataton/models/contex_simple_model/candidate_model/assets\n"
     ]
    }
   ]
  },
  {
   "cell_type": "code",
   "metadata": {
    "id": "0lnigkGOxJBJ"
   },
   "source": [
    ""
   ],
   "execution_count": null,
   "outputs": []
  }
 ]
}