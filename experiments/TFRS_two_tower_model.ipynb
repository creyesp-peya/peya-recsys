{
 "nbformat": 4,
 "nbformat_minor": 0,
 "metadata": {
  "colab": {
   "name": "TFRS_two_tower_model.ipynb",
   "provenance": [
    {
     "file_id": "1XHCDF-PDYwQO93FXUnPUd6J9L5VNoU7F",
     "timestamp": 1634150349168
    },
    {
     "file_id": "1YsgBJd57Xg1cFeLSPg7cBrgn0wSj1GPf",
     "timestamp": 1634051306689
    }
   ],
   "collapsed_sections": []
  },
  "kernelspec": {
   "name": "python3",
   "display_name": "Python 3"
  },
  "language_info": {
   "name": "python"
  },
  "accelerator": "GPU"
 },
 "cells": [
  {
   "cell_type": "code",
   "metadata": {
    "id": "UAgfixIsVfqW",
    "colab": {
     "base_uri": "https://localhost:8080/"
    },
    "executionInfo": {
     "status": "ok",
     "timestamp": 1635336048669,
     "user_tz": 180,
     "elapsed": 40252,
     "user": {
      "displayName": "Cesar Reyes",
      "photoUrl": "https://lh3.googleusercontent.com/a-/AOh14GivCEktqhpVTBc89dTYts8q4--6-tXOlPrzRm22=s64",
      "userId": "04702276980078964785"
     }
    },
    "outputId": "c3ab3960-8442-407c-cfc0-cbe5ea0305ab"
   },
   "source": [
    "try:\n",
    "    from google.colab import auth\n",
    "    from google.colab import drive\n",
    "\n",
    "    auth.authenticate_user()\n",
    "    print('Authenticated')\n",
    "    drive.mount('/content/drive')\n",
    "\n",
    "    !pip install -q tensorflow-recommenders\n",
    "    !pip install -q scann\n",
    "except:\n",
    "    IN_COLAB = False"
   ],
   "execution_count": 1,
   "outputs": []
  },
  {
   "cell_type": "code",
   "metadata": {
    "id": "sXuJbfWqrLXr",
    "executionInfo": {
     "status": "ok",
     "timestamp": 1635336060644,
     "user_tz": 180,
     "elapsed": 1556,
     "user": {
      "displayName": "Cesar Reyes",
      "photoUrl": "https://lh3.googleusercontent.com/a-/AOh14GivCEktqhpVTBc89dTYts8q4--6-tXOlPrzRm22=s64",
      "userId": "04702276980078964785"
     }
    }
   },
   "source": [
    "from typing import Dict, Text\n",
    "import os\n",
    "\n",
    "from google.cloud import bigquery\n",
    "from google.cloud.bigquery_storage_v1beta1 import BigQueryStorageClient\n",
    "import numpy as np\n",
    "import pandas as pd\n",
    "import tensorflow as tf\n",
    "import tensorflow_recommenders as tfrs"
   ],
   "execution_count": 3,
   "outputs": []
  },
  {
   "cell_type": "markdown",
   "metadata": {
    "id": "EQSAq-jxs02f"
   },
   "source": [
    "# Dataset\n",
    "We use the interaction between user ans product for user that has at least 2 orders to build a model"
   ]
  },
  {
   "cell_type": "code",
   "metadata": {
    "id": "Hc2eVHNwthsI",
    "executionInfo": {
     "status": "ok",
     "timestamp": 1635336181763,
     "user_tz": 180,
     "elapsed": 120528,
     "user": {
      "displayName": "Cesar Reyes",
      "photoUrl": "https://lh3.googleusercontent.com/a-/AOh14GivCEktqhpVTBc89dTYts8q4--6-tXOlPrzRm22=s64",
      "userId": "04702276980078964785"
     }
    }
   },
   "source": [
    "MINIMUM_PRODUCTS = 5\n",
    "MINIMUM_ORDERS = 2\n",
    "data_project_id = \"peya-food-and-groceries\"\n",
    "data_dataset_id = \"user_fiorella_dirosario\"\n",
    "data_table_orders = \"order_sep2020_sep2021\"\n",
    "data_table_order_details = \"order_details_sep2020_sep2021\"\n",
    "data_table_users = \"attributes_sep2020_sep2021\"\n",
    "data_table_products = \"product_attributes_sep2020_sep2021\"\n",
    "\n",
    "interaction_query_train = f\"\"\"\n",
    "DECLARE minimum_products INT64;\n",
    "DECLARE minimum_orders INT64;\n",
    "\n",
    "SET minimum_products = {MINIMUM_PRODUCTS};\n",
    "SET minimum_orders = {MINIMUM_ORDERS};\n",
    "\n",
    "WITH products_by_user AS (\n",
    "    SELECT\n",
    "        uo.user_id\n",
    "      , COUNT(DISTINCT gtin) as cant_products\n",
    "      , COUNT(DISTINCT uo.order_id) as cant_orders\n",
    "      , MAX(uo.order_id) as last_order_id\n",
    "    FROM \n",
    "      `{data_project_id}.{data_dataset_id}.{data_table_orders}` as uo\n",
    "    JOIN \n",
    "      `{data_project_id}.{data_dataset_id}.{data_table_order_details}` as od\n",
    "    ON \n",
    "      uo.order_id = od.order_id  \n",
    "    WHERE \n",
    "      uo.user_id IS NOT NULL\n",
    "      AND od.gtin IS NOT NULL\n",
    "      AND od.has_gtin = 1\n",
    "    GROUP BY 1\n",
    ")\n",
    "SELECT DISTINCT\n",
    "    CAST(uo.user_id AS STRING) AS user_id\n",
    "  , CAST(od.gtin AS STRING) AS product_id\n",
    "  --, uo.order_id\n",
    "  --, uo.timestamp\n",
    "FROM \n",
    "  `{data_project_id}.{data_dataset_id}.{data_table_orders}` as uo\n",
    "JOIN \n",
    "  `{data_project_id}.{data_dataset_id}.{data_table_order_details}` as od\n",
    "ON uo.order_id = od.order_id\n",
    "LEFT JOIN products_by_user pbu ON pbu.user_id = uo.user_id\n",
    "WHERE uo.user_id IS NOT NULL\n",
    "  AND od.gtin IS NOT NULL\n",
    "  AND od.has_gtin = 1\n",
    "  AND cant_products >= minimum_products\n",
    "  AND cant_orders >= minimum_orders\n",
    "  AND uo.order_id != pbu.last_order_id \n",
    "\"\"\"\n",
    "\n",
    "interaction_query_test = f\"\"\"\n",
    "DECLARE minimum_products INT64;\n",
    "DECLARE minimum_orders INT64;\n",
    "\n",
    "SET minimum_products = {MINIMUM_PRODUCTS};\n",
    "SET minimum_orders = {MINIMUM_ORDERS};\n",
    "\n",
    "WITH products_by_user AS (\n",
    "    SELECT\n",
    "        uo.user_id\n",
    "      , COUNT(DISTINCT gtin) as cant_products\n",
    "      , COUNT(DISTINCT uo.order_id) as cant_orders\n",
    "      , MAX(uo.order_id) as last_order_id\n",
    "    FROM \n",
    "      `{data_project_id}.{data_dataset_id}.{data_table_orders}` as uo\n",
    "    JOIN \n",
    "      `{data_project_id}.{data_dataset_id}.{data_table_order_details}` as od\n",
    "    ON \n",
    "      uo.order_id = od.order_id  \n",
    "    WHERE \n",
    "      uo.user_id IS NOT NULL\n",
    "      AND od.gtin IS NOT NULL\n",
    "      AND od.has_gtin = 1\n",
    "    GROUP BY 1\n",
    ")\n",
    "SELECT DISTINCT\n",
    "    CAST(uo.user_id AS STRING) AS user_id\n",
    "  , CAST(od.gtin AS STRING) AS product_id\n",
    "  --, uo.order_id\n",
    "  --, uo.timestamp\n",
    "FROM \n",
    "  `{data_project_id}.{data_dataset_id}.{data_table_orders}` as uo\n",
    "JOIN \n",
    "  `{data_project_id}.{data_dataset_id}.{data_table_order_details}` as od\n",
    "ON\n",
    "  uo.order_id = od.order_id\n",
    "LEFT JOIN \n",
    "  products_by_user pbu \n",
    "ON \n",
    "  pbu.user_id = uo.user_id\n",
    "WHERE \n",
    "  uo.user_id IS NOT NULL\n",
    "  AND od.gtin IS NOT NULL\n",
    "  AND od.has_gtin = 1\n",
    "  AND cant_products >= minimum_products\n",
    "  AND cant_orders >= minimum_orders\n",
    "  AND uo.order_id = pbu.last_order_id \n",
    "\"\"\"\n",
    "\n",
    "product_query = f\"\"\"\n",
    "DECLARE minimum_products INT64;\n",
    "DECLARE minimum_orders INT64;\n",
    "\n",
    "SET minimum_products = {MINIMUM_PRODUCTS};\n",
    "SET minimum_orders = {MINIMUM_ORDERS};\n",
    "\n",
    "\n",
    "WITH products_by_user AS (\n",
    "    SELECT\n",
    "        uo.user_id\n",
    "      , COUNT(DISTINCT od.gtin) as cant_products\n",
    "      , COUNT(DISTINCT uo.order_id) as cant_orders\n",
    "      , MAX(uo.order_id) as last_order_id\n",
    "    FROM \n",
    "      `{data_project_id}.{data_dataset_id}.{data_table_orders}` as uo\n",
    "    JOIN \n",
    "      `{data_project_id}.{data_dataset_id}.{data_table_order_details}` as od\n",
    "    ON \n",
    "      uo.order_id = od.order_id  \n",
    "    WHERE \n",
    "      uo.user_id IS NOT NULL\n",
    "      AND od.gtin IS NOT NULL\n",
    "      AND od.has_gtin = 1\n",
    "    GROUP BY 1\n",
    "    HAVING \n",
    "      cant_products >= minimum_products AND cant_orders >= minimum_orders\n",
    ")\n",
    ", products AS (\n",
    "  SELECT DISTINCT\n",
    "    od.gtin\n",
    "  FROM\n",
    "    `{data_project_id}.{data_dataset_id}.{data_table_order_details}` od\n",
    "  JOIN \n",
    "    `{data_project_id}.{data_dataset_id}.{data_table_orders}` uo ON uo.order_id = od.order_id\n",
    "  JOIN \n",
    "    products_by_user pbu ON pbu.user_id = uo.user_id\n",
    "  WHERE od.gtin IS NOT NULL AND od.has_gtin = 1\n",
    ")\n",
    "\n",
    "SELECT \n",
    "    CAST(pa.gtin AS STRING) AS product_id\n",
    "  , IF(pa.category_id IS NULL, \"\", CAST(pa.category_id AS STRING))  AS category_id\n",
    "  , IF(pa.brand_id IS NULL, \"\", CAST(pa.brand_id AS STRING)) AS brand_id\n",
    "  , CAST(pa.age AS STRING) AS age\n",
    "FROM \n",
    "  `{data_project_id}.{data_dataset_id}.{data_table_products}` pa\n",
    "JOIN products p ON p.gtin = pa.gtin\n",
    "\"\"\"\n",
    "\n",
    "user_query = f\"\"\"\n",
    "DECLARE minimum_products INT64;\n",
    "DECLARE minimum_orders INT64;\n",
    "\n",
    "SET minimum_products = {MINIMUM_PRODUCTS};\n",
    "SET minimum_orders = {MINIMUM_ORDERS};\n",
    "\n",
    "WITH products_by_user AS (\n",
    "    SELECT\n",
    "    uo.user_id\n",
    "    , COUNT(DISTINCT gtin) as cant_products\n",
    "    , COUNT(DISTINCT uo.order_id) as cant_orders\n",
    "    , MAX(uo.order_id) as last_order_id\n",
    "    FROM \n",
    "    `{data_project_id}.{data_dataset_id}.{data_table_orders}` as uo\n",
    "    JOIN \n",
    "    `{data_project_id}.{data_dataset_id}.{data_table_order_details}` as od\n",
    "    ON uo.order_id = od.order_id  \n",
    "    WHERE uo.user_id IS NOT NULL\n",
    "    AND od.gtin IS NOT NULL\n",
    "    AND od.has_gtin = 1\n",
    "    GROUP BY 1\n",
    ")\n",
    "SELECT \n",
    "    CAST(ua.user_id AS STRING) AS user_id\n",
    "  , CAST(ua.city_id AS STRING) AS city_id\n",
    "  , ua.platform\n",
    "  , IF(ua.segment IS NULL, \"Not set\", ua.segment) AS segment\n",
    "FROM \n",
    "  `{data_project_id}.{data_dataset_id}.{data_table_users}` ua\n",
    "LEFT JOIN products_by_user pbu ON pbu.user_id = ua.user_id\n",
    "WHERE cant_products >= minimum_products\n",
    "      AND cant_orders >= minimum_orders\n",
    "\"\"\"\n",
    "\n"
   ],
   "execution_count": 5,
   "outputs": []
  },
  {
   "cell_type": "code",
   "execution_count": null,
   "outputs": [],
   "source": [
    "project_id = \"peya-data-analyt-factory-stg\"  #@param [\"peya-data-analyt-factory-stg\", \"peya-food-and-groceries\", \"peya-growth-and-onboarding\"]\n",
    "client = bigquery.client.Client(project=project_id)\n",
    "bq_storage_client = BigQueryStorageClient()\n",
    "\n",
    "interactions_train = (\n",
    "    client.query(interaction_query_train)\n",
    "        .result()\n",
    "        .to_arrow(bqstorage_client=bq_storage_client)\n",
    "        .to_pandas()\n",
    ")\n",
    "\n",
    "interactions_test = (\n",
    "    client.query(interaction_query_test)\n",
    "        .result()\n",
    "        .to_arrow(bqstorage_client=bq_storage_client)\n",
    "        .to_pandas()\n",
    ")\n",
    "\n",
    "users = (\n",
    "    client.query(user_query)\n",
    "        .result()\n",
    "        .to_arrow(bqstorage_client=bq_storage_client)\n",
    "        .to_pandas()\n",
    ")\n",
    "products = (\n",
    "    client.query(product_query)\n",
    "        .result()\n",
    "        .to_arrow(bqstorage_client=bq_storage_client)\n",
    "        .to_pandas()\n",
    ")\n",
    "\n",
    "user_ids = users[\"user_id\"].unique().tolist()\n",
    "product_ids = products[\"product_id\"].unique().tolist()"
   ],
   "metadata": {
    "collapsed": false,
    "pycharm": {
     "name": "#%%\n"
    }
   }
  },
  {
   "cell_type": "code",
   "metadata": {
    "id": "KylQcll3Cbmi",
    "colab": {
     "base_uri": "https://localhost:8080/"
    },
    "executionInfo": {
     "status": "ok",
     "timestamp": 1635336275181,
     "user_tz": 180,
     "elapsed": 93141,
     "user": {
      "displayName": "Cesar Reyes",
      "photoUrl": "https://lh3.googleusercontent.com/a-/AOh14GivCEktqhpVTBc89dTYts8q4--6-tXOlPrzRm22=s64",
      "userId": "04702276980078964785"
     }
    },
    "outputId": "16973a6b-9ac4-4bf3-d215-59fb3582f737"
   },
   "source": [
    "interactions_train_ds = tf.data.Dataset.from_tensor_slices(interactions_train.to_dict(orient=\"list\"))\n",
    "interactions_train_ds = interactions_train_ds.map(lambda x: {\"user_id\": x[\"user_id\"], \"product_id\": x[\"product_id\"]})\n",
    "\n",
    "users_ds = tf.data.Dataset.from_tensor_slices(users.to_dict(orient=\"list\"))\n",
    "products_ds = tf.data.Dataset.from_tensor_slices(products.to_dict(orient=\"list\"))\n",
    "\n",
    "tf.random.set_seed(42)\n",
    "interactions_train_ds = interactions_train_ds.shuffle(100_000, seed=42, reshuffle_each_iteration=False)\n",
    "\n",
    "for k in interactions_train_ds.take(1).as_numpy_iterator():\n",
    "    print(k)\n",
    "for k in products_ds.take(1).as_numpy_iterator():\n",
    "    print(k)\n",
    "for k in users_ds.take(1).as_numpy_iterator():\n",
    "    print(k)"
   ],
   "execution_count": 6,
   "outputs": [
    {
     "output_type": "stream",
     "name": "stdout",
     "text": [
      "{'user_id': b'6191152', 'product_id': b'7790742770103'}\n",
      "{'product_id': b'07790139003654', 'category_id': b'335', 'brand_id': b'8735', 'age': b'511'}\n",
      "{'user_id': b'2442587', 'city_id': b'872', 'platform': b'IPHONE', 'segment': b'Explorer'}\n"
     ]
    }
   ]
  },
  {
   "cell_type": "code",
   "metadata": {
    "id": "Z6klo3wjgqJ3",
    "executionInfo": {
     "status": "ok",
     "timestamp": 1635336275183,
     "user_tz": 180,
     "elapsed": 26,
     "user": {
      "displayName": "Cesar Reyes",
      "photoUrl": "https://lh3.googleusercontent.com/a-/AOh14GivCEktqhpVTBc89dTYts8q4--6-tXOlPrzRm22=s64",
      "userId": "04702276980078964785"
     }
    }
   },
   "source": [
    "products_ds = products_ds.map(lambda x: x[\"product_id\"])\n",
    "users_ds = users_ds.map(lambda x: x[\"user_id\"])"
   ],
   "execution_count": 7,
   "outputs": []
  },
  {
   "cell_type": "markdown",
   "metadata": {
    "id": "z4S_J99QtqEj"
   },
   "source": [
    "# Modeling (matrix factorization)\n",
    "The mos simple recommendation system model is a matrix factorization, so we build a FM using a Tensorflow to learn the user and product embedding or latent vector. The idea is get a numeric representation of users and product and then get the dot product to get the implicit preferences.\n",
    "[Reference](https://www.tensorflow.org/recommenders/examples/basic_retrieval)"
   ]
  },
  {
   "cell_type": "code",
   "metadata": {
    "id": "cwMuldWCtpVB",
    "executionInfo": {
     "status": "ok",
     "timestamp": 1635336276400,
     "user_tz": 180,
     "elapsed": 1234,
     "user": {
      "displayName": "Cesar Reyes",
      "photoUrl": "https://lh3.googleusercontent.com/a-/AOh14GivCEktqhpVTBc89dTYts8q4--6-tXOlPrzRm22=s64",
      "userId": "04702276980078964785"
     }
    }
   },
   "source": [
    "class MarketsModel(tfrs.Model):\n",
    "\n",
    "    def __init__(\n",
    "            self,\n",
    "            user_model: tf.keras.Model,\n",
    "            product_model: tf.keras.Model,\n",
    "            task: tf.keras.layers.Layer\n",
    "    ):\n",
    "        super().__init__()\n",
    "        self.user_model = user_model\n",
    "        self.product_model = product_model\n",
    "        self.task: tf.keras.layers.Layer = task\n",
    "\n",
    "    def compute_loss(\n",
    "            self,\n",
    "            features: Dict[Text, tf.Tensor],\n",
    "            training=False\n",
    "    ) -> tf.Tensor:\n",
    "        user_embeddings = self.user_model(features[\"user_id\"])\n",
    "        positive_product_embeddings = self.product_model(features[\"product_id\"])\n",
    "        compute_metrics = False if training else True\n",
    "        return self.task(\n",
    "            user_embeddings,\n",
    "            positive_product_embeddings,\n",
    "            compute_metrics=compute_metrics\n",
    "        )"
   ],
   "execution_count": 8,
   "outputs": []
  },
  {
   "cell_type": "code",
   "execution_count": null,
   "outputs": [],
   "source": [
    "embedding_dimension = 32\n",
    "\n",
    "user_model = tf.keras.Sequential([\n",
    "    tf.keras.layers.StringLookup(\n",
    "        vocabulary=tf.convert_to_tensor(user_ids),\n",
    "        mask_token=None\n",
    "    ),\n",
    "    tf.keras.layers.Embedding(len(user_ids) + 1, embedding_dimension)\n",
    "])\n",
    "\n",
    "product_model = tf.keras.Sequential([\n",
    "    tf.keras.layers.StringLookup(\n",
    "        vocabulary=tf.convert_to_tensor(product_ids)\n",
    "        , mask_token=None\n",
    "    ),\n",
    "    tf.keras.layers.Embedding(len(product_ids) + 1, embedding_dimension)\n",
    "])\n",
    "\n",
    "metrics = tfrs.metrics.FactorizedTopK(\n",
    "    candidates=products_ds.batch(128).map(product_model)\n",
    ")\n",
    "\n",
    "task = tfrs.tasks.Retrieval(\n",
    "    metrics=metrics\n",
    ")"
   ],
   "metadata": {
    "collapsed": false,
    "pycharm": {
     "name": "#%%\n"
    }
   }
  },
  {
   "cell_type": "code",
   "metadata": {
    "id": "QpO3m0mEeOhU",
    "executionInfo": {
     "status": "ok",
     "timestamp": 1635336276404,
     "user_tz": 180,
     "elapsed": 16,
     "user": {
      "displayName": "Cesar Reyes",
      "photoUrl": "https://lh3.googleusercontent.com/a-/AOh14GivCEktqhpVTBc89dTYts8q4--6-tXOlPrzRm22=s64",
      "userId": "04702276980078964785"
     }
    }
   },
   "source": [
    "model = MarketsModel(user_model, product_model, task)\n",
    "model.compile(optimizer=tf.keras.optimizers.Adagrad(learning_rate=0.1))\n"
   ],
   "execution_count": 9,
   "outputs": []
  },
  {
   "cell_type": "code",
   "metadata": {
    "colab": {
     "base_uri": "https://localhost:8080/"
    },
    "id": "LBLVmvHbuVJ8",
    "executionInfo": {
     "status": "ok",
     "timestamp": 1635336476626,
     "user_tz": 180,
     "elapsed": 83204,
     "user": {
      "displayName": "Cesar Reyes",
      "photoUrl": "https://lh3.googleusercontent.com/a-/AOh14GivCEktqhpVTBc89dTYts8q4--6-tXOlPrzRm22=s64",
      "userId": "04702276980078964785"
     }
    },
    "outputId": "0ba76d6f-05cf-4bff-b762-53e8bdb3e9a5"
   },
   "source": [
    "cached_train = interactions_train_ds.batch(8192).cache()\n",
    "history = model.fit(cached_train, epochs=5)"
   ],
   "execution_count": 10,
   "outputs": [
    {
     "output_type": "stream",
     "name": "stdout",
     "text": [
      "Epoch 1/5\n",
      "1557/1557 [==============================] - 52s 32ms/step - factorized_top_k/top_1_categorical_accuracy: 0.0000e+00 - factorized_top_k/top_5_categorical_accuracy: 0.0000e+00 - factorized_top_k/top_10_categorical_accuracy: 0.0000e+00 - factorized_top_k/top_50_categorical_accuracy: 0.0000e+00 - factorized_top_k/top_100_categorical_accuracy: 0.0000e+00 - loss: 69880.6366 - regularization_loss: 0.0000e+00 - total_loss: 69880.6366\n",
      "Epoch 2/5\n",
      "1557/1557 [==============================] - 24s 16ms/step - factorized_top_k/top_1_categorical_accuracy: 0.0000e+00 - factorized_top_k/top_5_categorical_accuracy: 0.0000e+00 - factorized_top_k/top_10_categorical_accuracy: 0.0000e+00 - factorized_top_k/top_50_categorical_accuracy: 0.0000e+00 - factorized_top_k/top_100_categorical_accuracy: 0.0000e+00 - loss: 65933.9484 - regularization_loss: 0.0000e+00 - total_loss: 65933.9484\n",
      "Epoch 3/5\n",
      "1557/1557 [==============================] - 24s 16ms/step - factorized_top_k/top_1_categorical_accuracy: 0.0000e+00 - factorized_top_k/top_5_categorical_accuracy: 0.0000e+00 - factorized_top_k/top_10_categorical_accuracy: 0.0000e+00 - factorized_top_k/top_50_categorical_accuracy: 0.0000e+00 - factorized_top_k/top_100_categorical_accuracy: 0.0000e+00 - loss: 64235.6883 - regularization_loss: 0.0000e+00 - total_loss: 64235.6883\n",
      "Epoch 4/5\n",
      "1557/1557 [==============================] - 24s 16ms/step - factorized_top_k/top_1_categorical_accuracy: 0.0000e+00 - factorized_top_k/top_5_categorical_accuracy: 0.0000e+00 - factorized_top_k/top_10_categorical_accuracy: 0.0000e+00 - factorized_top_k/top_50_categorical_accuracy: 0.0000e+00 - factorized_top_k/top_100_categorical_accuracy: 0.0000e+00 - loss: 63236.6903 - regularization_loss: 0.0000e+00 - total_loss: 63236.6903\n",
      "Epoch 5/5\n",
      "1557/1557 [==============================] - 24s 16ms/step - factorized_top_k/top_1_categorical_accuracy: 0.0000e+00 - factorized_top_k/top_5_categorical_accuracy: 0.0000e+00 - factorized_top_k/top_10_categorical_accuracy: 0.0000e+00 - factorized_top_k/top_50_categorical_accuracy: 0.0000e+00 - factorized_top_k/top_100_categorical_accuracy: 0.0000e+00 - loss: 62585.1492 - regularization_loss: 0.0000e+00 - total_loss: 62585.1492\n"
     ]
    }
   ]
  },
  {
   "cell_type": "code",
   "metadata": {
    "colab": {
     "base_uri": "https://localhost:8080/",
     "height": 284
    },
    "id": "fB2thoVeuYrJ",
    "executionInfo": {
     "status": "ok",
     "timestamp": 1635337628554,
     "user_tz": 180,
     "elapsed": 1429,
     "user": {
      "displayName": "Cesar Reyes",
      "photoUrl": "https://lh3.googleusercontent.com/a-/AOh14GivCEktqhpVTBc89dTYts8q4--6-tXOlPrzRm22=s64",
      "userId": "04702276980078964785"
     }
    },
    "outputId": "0c2ac55b-8e3e-40ac-9b90-5b3b7f364b88"
   },
   "source": [
    "pd.DataFrame(history.history).plot()\n"
   ],
   "execution_count": 12,
   "outputs": [
    {
     "output_type": "execute_result",
     "data": {
      "text/plain": [
       "<matplotlib.axes._subplots.AxesSubplot at 0x7fa1d0087fd0>"
      ]
     },
     "metadata": {},
     "execution_count": 12
    },
    {
     "output_type": "display_data",
     "data": {
      "image/png": "[encoded data removed]",
      "text/plain": [
       "<Figure size 432x288 with 1 Axes>"
      ]
     },
     "metadata": {
      "needs_background": "light"
     }
    }
   ]
  },
  {
   "cell_type": "markdown",
   "metadata": {
    "id": "BR4M-oeCDCxR"
   },
   "source": [
    "## Inference\n",
    "### BruteForce\n",
    "Brute force compute the product between user and all product."
   ]
  },
  {
   "cell_type": "code",
   "metadata": {
    "id": "xAwmbZaffthN",
    "colab": {
     "base_uri": "https://localhost:8080/"
    },
    "executionInfo": {
     "status": "ok",
     "timestamp": 1634260383502,
     "user_tz": 180,
     "elapsed": 952,
     "user": {
      "displayName": "Cesar Reyes",
      "photoUrl": "https://lh3.googleusercontent.com/a-/AOh14GivCEktqhpVTBc89dTYts8q4--6-tXOlPrzRm22=s64",
      "userId": "04702276980078964785"
     }
    },
    "outputId": "8c77d4ef-a3b3-4f08-82b5-2b88358b4c66"
   },
   "source": [
    "index = tfrs.layers.factorized_top_k.BruteForce(model.user_model)\n",
    "index.index_from_dataset(\n",
    "    tf.data.Dataset.zip((products_ds.batch(100), products_ds.batch(100).map(model.product_model)))\n",
    ")"
   ],
   "execution_count": null,
   "outputs": [
    {
     "output_type": "stream",
     "name": "stdout",
     "text": [
      "Recommendations for user 42: [b'7791337002012' b'7790742172006' b'7791337000926' b'7791813421580'\n",
      " b'7790742333605' b'7790895010088' b'7791813421917' b'7790742172105'\n",
      " b'7796989075803' b'7791337001978']\n"
     ]
    }
   ]
  },
  {
   "cell_type": "code",
   "metadata": {
    "id": "wLzwkGE0mwr1"
   },
   "source": [
    "# Get recommendations.\n",
    "score, titles = index(tf.constant([\"42\"]))\n",
    "print(f\"Recommendations for user 42: {titles[0, :20]}\")"
   ],
   "execution_count": null,
   "outputs": []
  },
  {
   "cell_type": "code",
   "metadata": {
    "colab": {
     "base_uri": "https://localhost:8080/"
    },
    "id": "v54AGarmoeW2",
    "executionInfo": {
     "status": "ok",
     "timestamp": 1634260392839,
     "user_tz": 180,
     "elapsed": 9345,
     "user": {
      "displayName": "Cesar Reyes",
      "photoUrl": "https://lh3.googleusercontent.com/a-/AOh14GivCEktqhpVTBc89dTYts8q4--6-tXOlPrzRm22=s64",
      "userId": "04702276980078964785"
     }
    },
    "outputId": "7f1aaff2-82a4-4563-b742-c7d2ff17f3d2"
   },
   "source": [
    "% timeit _, titles = index(tf.constant([\"42\"]))"
   ],
   "execution_count": null,
   "outputs": [
    {
     "output_type": "stream",
     "name": "stdout",
     "text": [
      "1000 loops, best of 5: 1.51 ms per loop\n"
     ]
    }
   ]
  },
  {
   "cell_type": "markdown",
   "metadata": {
    "id": "exfuOseRZTMq"
   },
   "source": [
    "## ScaNN\n",
    "Scann is an efficient Nearest neighbor approximation to retrieve the top k product"
   ]
  },
  {
   "cell_type": "code",
   "metadata": {
    "colab": {
     "base_uri": "https://localhost:8080/"
    },
    "id": "c3UGZvkSZSC7",
    "executionInfo": {
     "status": "ok",
     "timestamp": 1634260396043,
     "user_tz": 180,
     "elapsed": 3216,
     "user": {
      "displayName": "Cesar Reyes",
      "photoUrl": "https://lh3.googleusercontent.com/a-/AOh14GivCEktqhpVTBc89dTYts8q4--6-tXOlPrzRm22=s64",
      "userId": "04702276980078964785"
     }
    },
    "outputId": "ff380880-214f-45f0-993d-c4c6165dd9ef"
   },
   "source": [
    "scann = tfrs.layers.factorized_top_k.ScaNN(model.user_model)\n",
    "scann.index_from_dataset(\n",
    "    tf.data.Dataset.zip((products_ds.batch(100), products_ds.batch(100).map(model.product_model)))\n",
    ")"
   ],
   "execution_count": null,
   "outputs": [
    {
     "output_type": "execute_result",
     "data": {
      "text/plain": [
       "<tensorflow_recommenders.layers.factorized_top_k.ScaNN at 0x7fc20ea496d0>"
      ]
     },
     "metadata": {},
     "execution_count": 36
    }
   ]
  },
  {
   "cell_type": "code",
   "metadata": {
    "colab": {
     "base_uri": "https://localhost:8080/"
    },
    "id": "CT5Mat0FaODX",
    "executionInfo": {
     "status": "ok",
     "timestamp": 1634260396044,
     "user_tz": 180,
     "elapsed": 22,
     "user": {
      "displayName": "Cesar Reyes",
      "photoUrl": "https://lh3.googleusercontent.com/a-/AOh14GivCEktqhpVTBc89dTYts8q4--6-tXOlPrzRm22=s64",
      "userId": "04702276980078964785"
     }
    },
    "outputId": "555334e9-9b79-48ce-96bb-e48374f3525b"
   },
   "source": [
    "score, titles = scann(tf.constant([\"42\"]))\n",
    "print(f\"Recommendations for user 42: {titles[0, :20]}\")"
   ],
   "execution_count": null,
   "outputs": [
    {
     "output_type": "stream",
     "name": "stdout",
     "text": [
      "Recommendations for user 42: [b'7790742172006' b'7791337002012' b'7791337001961' b'7791337000926'\n",
      " b'7790957000545' b'7793890253320' b'7791337002401' b'7791813421580'\n",
      " b'7791337091580' b'7790742165909']\n"
     ]
    }
   ]
  },
  {
   "cell_type": "code",
   "metadata": {
    "colab": {
     "base_uri": "https://localhost:8080/"
    },
    "id": "RXcw9iHLLe5R",
    "executionInfo": {
     "status": "ok",
     "timestamp": 1634260408013,
     "user_tz": 180,
     "elapsed": 11977,
     "user": {
      "displayName": "Cesar Reyes",
      "photoUrl": "https://lh3.googleusercontent.com/a-/AOh14GivCEktqhpVTBc89dTYts8q4--6-tXOlPrzRm22=s64",
      "userId": "04702276980078964785"
     }
    },
    "outputId": "d196f1da-4173-4774-cb12-38abc500f975"
   },
   "source": [
    "% timeit score, titles = scann(tf.constant([\"42\"]))\n"
   ],
   "execution_count": null,
   "outputs": [
    {
     "output_type": "stream",
     "name": "stdout",
     "text": [
      "1000 loops, best of 5: 1.89 ms per loop\n"
     ]
    }
   ]
  },
  {
   "cell_type": "markdown",
   "source": [
    "# Export predictions to BQ"
   ],
   "metadata": {
    "collapsed": false,
    "pycharm": {
     "name": "#%% md\n"
    }
   }
  },
  {
   "cell_type": "code",
   "metadata": {
    "colab": {
     "base_uri": "https://localhost:8080/",
     "height": 424
    },
    "id": "1eYoNxe7ix6_",
    "executionInfo": {
     "status": "ok",
     "timestamp": 1634262316899,
     "user_tz": 180,
     "elapsed": 2471,
     "user": {
      "displayName": "Cesar Reyes",
      "photoUrl": "https://lh3.googleusercontent.com/a-/AOh14GivCEktqhpVTBc89dTYts8q4--6-tXOlPrzRm22=s64",
      "userId": "04702276980078964785"
     }
    },
    "outputId": "a877f132-3297-4a6e-e7f3-f5325a9e90c0"
   },
   "source": [
    "step = 1000\n",
    "len_queries = len(user_ids)\n",
    "partial_result = []\n",
    "\n",
    "for k in range(0, len_queries, step):\n",
    "    rec_score, rec_products = index(tf.constant([user_ids[k:k + step]]))\n",
    "    partial_result.append([rec_score.numpy(), rec_products.numpy()])\n",
    "\n",
    "recommendation = np.concatenate([k[1] for k in partial_result], axis=0).squeeze()\n",
    "recommendation = pd.DataFrame(recommendation, index=user_ids).stack().reset_index()\n",
    "recommendation.columns = [\"user_id\", \"rank\", \"product_id\"]\n",
    "recommendation['product_id'] = recommendation['product_id'].apply(lambda x: x.decode())\n",
    "\n",
    "recommendation"
   ],
   "execution_count": null,
   "outputs": [
    {
     "output_type": "execute_result",
     "data": {
      "text/html": [
       "<div>\n",
       "<style scoped>\n",
       "    .dataframe tbody tr th:only-of-type {\n",
       "        vertical-align: middle;\n",
       "    }\n",
       "\n",
       "    .dataframe tbody tr th {\n",
       "        vertical-align: top;\n",
       "    }\n",
       "\n",
       "    .dataframe thead th {\n",
       "        text-align: right;\n",
       "    }\n",
       "</style>\n",
       "<table border=\"1\" class=\"dataframe\">\n",
       "  <thead>\n",
       "    <tr style=\"text-align: right;\">\n",
       "      <th></th>\n",
       "      <th>user_id</th>\n",
       "      <th>rank</th>\n",
       "      <th>product_id</th>\n",
       "    </tr>\n",
       "  </thead>\n",
       "  <tbody>\n",
       "    <tr>\n",
       "      <th>0</th>\n",
       "      <td>4655437</td>\n",
       "      <td>0</td>\n",
       "      <td>8480017203809</td>\n",
       "    </tr>\n",
       "    <tr>\n",
       "      <th>1</th>\n",
       "      <td>4655437</td>\n",
       "      <td>1</td>\n",
       "      <td>77912268</td>\n",
       "    </tr>\n",
       "    <tr>\n",
       "      <th>2</th>\n",
       "      <td>4655437</td>\n",
       "      <td>2</td>\n",
       "      <td>7791813050520</td>\n",
       "    </tr>\n",
       "    <tr>\n",
       "      <th>3</th>\n",
       "      <td>4655437</td>\n",
       "      <td>3</td>\n",
       "      <td>8480017300768</td>\n",
       "    </tr>\n",
       "    <tr>\n",
       "      <th>4</th>\n",
       "      <td>4655437</td>\n",
       "      <td>4</td>\n",
       "      <td>7798130951776</td>\n",
       "    </tr>\n",
       "    <tr>\n",
       "      <th>...</th>\n",
       "      <td>...</td>\n",
       "      <td>...</td>\n",
       "      <td>...</td>\n",
       "    </tr>\n",
       "    <tr>\n",
       "      <th>4363445</th>\n",
       "      <td>35417324</td>\n",
       "      <td>5</td>\n",
       "      <td>7790828102095</td>\n",
       "    </tr>\n",
       "    <tr>\n",
       "      <th>4363446</th>\n",
       "      <td>35417324</td>\n",
       "      <td>6</td>\n",
       "      <td>7790022000357</td>\n",
       "    </tr>\n",
       "    <tr>\n",
       "      <th>4363447</th>\n",
       "      <td>35417324</td>\n",
       "      <td>7</td>\n",
       "      <td>7790383000102</td>\n",
       "    </tr>\n",
       "    <tr>\n",
       "      <th>4363448</th>\n",
       "      <td>35417324</td>\n",
       "      <td>8</td>\n",
       "      <td>7790070508348</td>\n",
       "    </tr>\n",
       "    <tr>\n",
       "      <th>4363449</th>\n",
       "      <td>35417324</td>\n",
       "      <td>9</td>\n",
       "      <td>7790062000584</td>\n",
       "    </tr>\n",
       "  </tbody>\n",
       "</table>\n",
       "<p>4363450 rows × 3 columns</p>\n",
       "</div>"
      ],
      "text/plain": [
       "          user_id  rank     product_id\n",
       "0         4655437     0  8480017203809\n",
       "1         4655437     1       77912268\n",
       "2         4655437     2  7791813050520\n",
       "3         4655437     3  8480017300768\n",
       "4         4655437     4  7798130951776\n",
       "...           ...   ...            ...\n",
       "4363445  35417324     5  7790828102095\n",
       "4363446  35417324     6  7790022000357\n",
       "4363447  35417324     7  7790383000102\n",
       "4363448  35417324     8  7790070508348\n",
       "4363449  35417324     9  7790062000584\n",
       "\n",
       "[4363450 rows x 3 columns]"
      ]
     },
     "metadata": {},
     "execution_count": 99
    }
   ]
  },
  {
   "cell_type": "code",
   "metadata": {
    "colab": {
     "base_uri": "https://localhost:8080/"
    },
    "id": "60HuZ3xun_ix",
    "executionInfo": {
     "status": "ok",
     "timestamp": 1634262384098,
     "user_tz": 180,
     "elapsed": 51390,
     "user": {
      "displayName": "Cesar Reyes",
      "photoUrl": "https://lh3.googleusercontent.com/a-/AOh14GivCEktqhpVTBc89dTYts8q4--6-tXOlPrzRm22=s64",
      "userId": "04702276980078964785"
     }
    },
    "outputId": "fa9eaa0f-a21a-4bbe-aa47-67f0f5b2bfcb"
   },
   "source": [
    "result_project_name = \"peya-food-and-groceries\"\n",
    "result_dataset_name = \"user_fiorella_dirosario\"\n",
    "result_table_name = \"user_recommendation_baseline\"\n",
    "\n",
    "recommendation.to_gbq(\n",
    "    destination_table=f\"{result_dataset_name}.{result_table_name}\",\n",
    "    project_id=result_project_name,\n",
    "    if_exists=\"replace\"\n",
    ")"
   ],
   "execution_count": null,
   "outputs": [
    {
     "output_type": "stream",
     "name": "stderr",
     "text": [
      "WARNING:google.auth._default:No project ID could be determined. Consider running `gcloud config set project` or setting the GOOGLE_CLOUD_PROJECT environment variable\n",
      "1it [00:49, 49.53s/it]\n"
     ]
    }
   ]
  },
  {
   "cell_type": "markdown",
   "metadata": {
    "id": "axXebX2NeF0n"
   },
   "source": [
    "# Saving Model\n"
   ]
  },
  {
   "cell_type": "code",
   "metadata": {
    "id": "AMGBRJkFmtXr"
   },
   "source": [
    "if IN_COLAB:\n",
    "    ouput_path = \"/content/drive/MyDrive/Colab Notebooks/recsys-dataton/models/\"  #@param [\"/content/drive/MyDrive/Colab Notebooks/recsys-dataton/models/\", \"/content/models/\"]\n",
    "else:\n",
    "    ouput_path = \"../models/\""
   ],
   "execution_count": null,
   "outputs": []
  },
  {
   "cell_type": "code",
   "metadata": {
    "id": "gdn3vvH4d_5R",
    "colab": {
     "base_uri": "https://localhost:8080/"
    },
    "executionInfo": {
     "status": "ok",
     "timestamp": 1634260410495,
     "user_tz": 180,
     "elapsed": 2508,
     "user": {
      "displayName": "Cesar Reyes",
      "photoUrl": "https://lh3.googleusercontent.com/a-/AOh14GivCEktqhpVTBc89dTYts8q4--6-tXOlPrzRm22=s64",
      "userId": "04702276980078964785"
     }
    },
    "outputId": "4bf56a9c-9b6d-4724-df6c-944bc015d706"
   },
   "source": [
    "path = os.path.join(ouput_path, \"base_line_model\", \"index_model\")\n",
    "if not os.path.exists(path):\n",
    "    os.makedirs(path)\n",
    "tf.saved_model.save(index, path)"
   ],
   "execution_count": null,
   "outputs": [
    {
     "output_type": "stream",
     "name": "stderr",
     "text": [
      "WARNING:absl:Found untraced functions such as query_with_exclusions while saving (showing 1 of 1). These functions will not be directly callable after loading.\n"
     ]
    },
    {
     "output_type": "stream",
     "name": "stdout",
     "text": [
      "INFO:tensorflow:Assets written to: /content/drive/MyDrive/Colab Notebooks/recsys-dataton/models/base_line_index/assets\n"
     ]
    },
    {
     "output_type": "stream",
     "name": "stderr",
     "text": [
      "INFO:tensorflow:Assets written to: /content/drive/MyDrive/Colab Notebooks/recsys-dataton/models/base_line_index/assets\n"
     ]
    }
   ]
  },
  {
   "cell_type": "code",
   "execution_count": null,
   "outputs": [],
   "source": [
    "query_model_path = os.path.join(ouput_path, \"base_line_model\", \"query_model\")\n",
    "if not os.path.exists(query_model_path):\n",
    "    os.makedirs(query_model_path)\n",
    "model.user_model.save(query_model_path)"
   ],
   "metadata": {
    "collapsed": false,
    "pycharm": {
     "name": "#%%\n"
    }
   }
  },
  {
   "cell_type": "code",
   "execution_count": null,
   "outputs": [],
   "source": [
    "candidate_model_path = os.path.join(ouput_path, \"base_line_model\", \"candidate_model\")\n",
    "\n",
    "if not os.path.exists(candidate_model_path):\n",
    "    os.makedirs(candidate_model_path)\n",
    "model.product_model.save(candidate_model_path)"
   ],
   "metadata": {
    "collapsed": false,
    "pycharm": {
     "name": "#%%\n"
    }
   }
  }
 ]
}